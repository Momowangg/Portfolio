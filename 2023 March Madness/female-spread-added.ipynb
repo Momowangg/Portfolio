{
 "cells": [
  {
   "cell_type": "markdown",
   "id": "69c8a794",
   "metadata": {
    "papermill": {
     "duration": 0.10085,
     "end_time": "2023-03-16T04:56:12.611713",
     "exception": false,
     "start_time": "2023-03-16T04:56:12.510863",
     "status": "completed"
    },
    "tags": []
   },
   "source": [
    "# Adapting the 2nd Place Solution of the 2021 NCAAW Competition\n",
    "\n",
    "- Solution write-up is available here : https://www.kaggle.com/c/ncaaw-march-mania-2021/discussion/230705\n",
    "- 2nd place code : https://www.kaggle.com/theoviel/2nd-place-ncaaw-2021?scriptVersionId=58780991\n",
    "- It was adapted from this notebook : https://www.kaggle.com/theoviel/ncaa-starter-the-simpler-the-better "
   ]
  },
  {
   "cell_type": "code",
   "execution_count": 1,
   "id": "0cf891e4",
   "metadata": {
    "_cell_guid": "b1076dfc-b9ad-4769-8c92-a6c4dae69d19",
    "_uuid": "8f2839f25d086af736a60e9eeb907d3b93b6e0e5",
    "execution": {
     "iopub.execute_input": "2023-03-16T04:56:12.835521Z",
     "iopub.status.busy": "2023-03-16T04:56:12.834811Z",
     "iopub.status.idle": "2023-03-16T04:56:14.061841Z",
     "shell.execute_reply": "2023-03-16T04:56:14.061134Z",
     "shell.execute_reply.started": "2023-03-16T04:14:31.899447Z"
    },
    "papermill": {
     "duration": 1.338194,
     "end_time": "2023-03-16T04:56:14.061985",
     "exception": false,
     "start_time": "2023-03-16T04:56:12.723791",
     "status": "completed"
    },
    "tags": []
   },
   "outputs": [],
   "source": [
    "import os\n",
    "import re\n",
    "import sklearn\n",
    "import numpy as np \n",
    "import pandas as pd\n",
    "import seaborn as sns\n",
    "import matplotlib.pyplot as plt\n",
    "import string\n",
    "\n",
    "from collections import Counter\n",
    "from sklearn.metrics import *\n",
    "from sklearn.linear_model import *\n",
    "from sklearn.model_selection import *\n",
    "\n",
    "pd.set_option('display.max_columns', None)"
   ]
  },
  {
   "cell_type": "code",
   "execution_count": 2,
   "id": "79345951",
   "metadata": {
    "execution": {
     "iopub.execute_input": "2023-03-16T04:56:14.261694Z",
     "iopub.status.busy": "2023-03-16T04:56:14.260808Z",
     "iopub.status.idle": "2023-03-16T04:56:14.268711Z",
     "shell.execute_reply": "2023-03-16T04:56:14.269343Z",
     "shell.execute_reply.started": "2023-03-16T04:14:33.203415Z"
    },
    "papermill": {
     "duration": 0.11003,
     "end_time": "2023-03-16T04:56:14.269518",
     "exception": false,
     "start_time": "2023-03-16T04:56:14.159488",
     "status": "completed"
    },
    "tags": []
   },
   "outputs": [
    {
     "name": "stdout",
     "output_type": "stream",
     "text": [
      "Conferences.csv\n",
      "WNCAATourneyDetailedResults.csv\n",
      "WRegularSeasonCompactResults.csv\n",
      "MNCAATourneySeedRoundSlots.csv\n",
      "MRegularSeasonDetailedResults.csv\n",
      "MNCAATourneyCompactResults.csv\n",
      "MGameCities.csv\n",
      "WGameCities.csv\n",
      "MSeasons.csv\n",
      "WNCAATourneySlots.csv\n",
      "MSecondaryTourneyTeams.csv\n",
      "Cities.csv\n",
      "SampleSubmission2023.csv\n",
      "MTeamSpellings.csv\n",
      "MRegularSeasonCompactResults.csv\n",
      "MSecondaryTourneyCompactResults.csv\n",
      "MMasseyOrdinals_thru_Season2023_Day128.csv\n",
      "WTeams.csv\n",
      "MNCAATourneySlots.csv\n",
      "MNCAATourneySeeds.csv\n",
      "WNCAATourneyCompactResults.csv\n",
      "WSeasons.csv\n",
      "WNCAATourneySeeds.csv\n",
      "MTeamCoaches.csv\n",
      "MConferenceTourneyGames.csv\n",
      "WRegularSeasonDetailedResults.csv\n",
      "MNCAATourneyDetailedResults.csv\n",
      "WTeamSpellings.csv\n",
      "MTeamConferences.csv\n",
      "MTeams.csv\n",
      "WTeamConferences.csv\n"
     ]
    }
   ],
   "source": [
    "DATA_PATH = '/kaggle/input/march-machine-learning-mania-2023/'\n",
    "\n",
    "for filename in os.listdir(DATA_PATH):\n",
    "    print(filename)"
   ]
  },
  {
   "cell_type": "markdown",
   "id": "53628e48",
   "metadata": {
    "papermill": {
     "duration": 0.096572,
     "end_time": "2023-03-16T04:56:14.466391",
     "exception": false,
     "start_time": "2023-03-16T04:56:14.369819",
     "status": "completed"
    },
    "tags": []
   },
   "source": [
    "# Data preparation"
   ]
  },
  {
   "cell_type": "markdown",
   "id": "dcef1246",
   "metadata": {
    "papermill": {
     "duration": 0.098084,
     "end_time": "2023-03-16T04:56:14.662830",
     "exception": false,
     "start_time": "2023-03-16T04:56:14.564746",
     "status": "completed"
    },
    "tags": []
   },
   "source": [
    "## Seeds\n",
    "> This file identifies the seeds for all teams in each NCAA® tournament, for all seasons of historical data. Thus, there are between 64-68 rows for each year, depending on whether there were any play-in games and how many there were. In recent years the structure has settled at 68 total teams, with four \"play-in\" games leading to the final field of 64 teams entering Round 1 on Thursday of the first week (by definition, that is DayNum=136 each season). We will not know the seeds of the respective tournament teams, or even exactly which 68 teams it will be, until Selection Sunday on March 15, 2020 (DayNum=132).\n",
    "\n",
    "> The seed is a 3/4-character :\n",
    "- First character : Region (W, X, Y, or Z)\n",
    "- Next two digits : Seed within the region (01 to 16)\n",
    "- Last character (optional): Distinguishes teams between play-ins ( a or b)"
   ]
  },
  {
   "cell_type": "code",
   "execution_count": 3,
   "id": "a469285b",
   "metadata": {
    "execution": {
     "iopub.execute_input": "2023-03-16T04:56:14.865230Z",
     "iopub.status.busy": "2023-03-16T04:56:14.864620Z",
     "iopub.status.idle": "2023-03-16T04:56:14.895776Z",
     "shell.execute_reply": "2023-03-16T04:56:14.895188Z",
     "shell.execute_reply.started": "2023-03-16T04:14:44.602045Z"
    },
    "papermill": {
     "duration": 0.133173,
     "end_time": "2023-03-16T04:56:14.895904",
     "exception": false,
     "start_time": "2023-03-16T04:56:14.762731",
     "status": "completed"
    },
    "tags": []
   },
   "outputs": [
    {
     "data": {
      "text/html": [
       "<div>\n",
       "<style scoped>\n",
       "    .dataframe tbody tr th:only-of-type {\n",
       "        vertical-align: middle;\n",
       "    }\n",
       "\n",
       "    .dataframe tbody tr th {\n",
       "        vertical-align: top;\n",
       "    }\n",
       "\n",
       "    .dataframe thead th {\n",
       "        text-align: right;\n",
       "    }\n",
       "</style>\n",
       "<table border=\"1\" class=\"dataframe\">\n",
       "  <thead>\n",
       "    <tr style=\"text-align: right;\">\n",
       "      <th></th>\n",
       "      <th>Season</th>\n",
       "      <th>Seed</th>\n",
       "      <th>TeamID</th>\n",
       "    </tr>\n",
       "  </thead>\n",
       "  <tbody>\n",
       "    <tr>\n",
       "      <th>0</th>\n",
       "      <td>1998</td>\n",
       "      <td>W01</td>\n",
       "      <td>3330</td>\n",
       "    </tr>\n",
       "    <tr>\n",
       "      <th>1</th>\n",
       "      <td>1998</td>\n",
       "      <td>W02</td>\n",
       "      <td>3163</td>\n",
       "    </tr>\n",
       "    <tr>\n",
       "      <th>2</th>\n",
       "      <td>1998</td>\n",
       "      <td>W03</td>\n",
       "      <td>3112</td>\n",
       "    </tr>\n",
       "    <tr>\n",
       "      <th>3</th>\n",
       "      <td>1998</td>\n",
       "      <td>W04</td>\n",
       "      <td>3301</td>\n",
       "    </tr>\n",
       "    <tr>\n",
       "      <th>4</th>\n",
       "      <td>1998</td>\n",
       "      <td>W05</td>\n",
       "      <td>3272</td>\n",
       "    </tr>\n",
       "  </tbody>\n",
       "</table>\n",
       "</div>"
      ],
      "text/plain": [
       "   Season Seed  TeamID\n",
       "0    1998  W01    3330\n",
       "1    1998  W02    3163\n",
       "2    1998  W03    3112\n",
       "3    1998  W04    3301\n",
       "4    1998  W05    3272"
      ]
     },
     "execution_count": 3,
     "metadata": {},
     "output_type": "execute_result"
    }
   ],
   "source": [
    "df_seeds = pd.read_csv(DATA_PATH + \"WNCAATourneySeeds.csv\")\n",
    "df_seeds.head()"
   ]
  },
  {
   "cell_type": "markdown",
   "id": "0e1905f6",
   "metadata": {
    "papermill": {
     "duration": 0.099266,
     "end_time": "2023-03-16T04:56:15.092902",
     "exception": false,
     "start_time": "2023-03-16T04:56:14.993636",
     "status": "completed"
    },
    "tags": []
   },
   "source": [
    "# Season results\n",
    "> This file identifies the game-by-game results for many seasons of historical data, starting with the 1985 season (the first year the NCAA® had a 64-team tournament). For each season, the file includes all games played from DayNum 0 through 132. It is important to realize that the \"Regular Season\" games are simply defined to be all games played on DayNum=132 or earlier (DayNum=132 is Selection Sunday, and there are always a few conference tournament finals actually played early in the day on Selection Sunday itself). Thus a game played on or before Selection Sunday will show up here whether it was a pre-season tournament, a non-conference game, a regular conference game, a conference tournament game, or whatever."
   ]
  },
  {
   "cell_type": "code",
   "execution_count": 4,
   "id": "30a10ede",
   "metadata": {
    "execution": {
     "iopub.execute_input": "2023-03-16T04:56:15.298213Z",
     "iopub.status.busy": "2023-03-16T04:56:15.297530Z",
     "iopub.status.idle": "2023-03-16T04:56:15.532594Z",
     "shell.execute_reply": "2023-03-16T04:56:15.533072Z",
     "shell.execute_reply.started": "2023-03-16T04:14:45.461606Z"
    },
    "papermill": {
     "duration": 0.339181,
     "end_time": "2023-03-16T04:56:15.533220",
     "exception": false,
     "start_time": "2023-03-16T04:56:15.194039",
     "status": "completed"
    },
    "tags": []
   },
   "outputs": [
    {
     "data": {
      "text/html": [
       "<div>\n",
       "<style scoped>\n",
       "    .dataframe tbody tr th:only-of-type {\n",
       "        vertical-align: middle;\n",
       "    }\n",
       "\n",
       "    .dataframe tbody tr th {\n",
       "        vertical-align: top;\n",
       "    }\n",
       "\n",
       "    .dataframe thead th {\n",
       "        text-align: right;\n",
       "    }\n",
       "</style>\n",
       "<table border=\"1\" class=\"dataframe\">\n",
       "  <thead>\n",
       "    <tr style=\"text-align: right;\">\n",
       "      <th></th>\n",
       "      <th>Season</th>\n",
       "      <th>DayNum</th>\n",
       "      <th>WTeamID</th>\n",
       "      <th>WScore</th>\n",
       "      <th>LTeamID</th>\n",
       "      <th>LScore</th>\n",
       "      <th>WFGM</th>\n",
       "      <th>WFGA</th>\n",
       "      <th>WFGM3</th>\n",
       "      <th>WFGA3</th>\n",
       "      <th>WFTM</th>\n",
       "      <th>WFTA</th>\n",
       "      <th>WOR</th>\n",
       "      <th>WDR</th>\n",
       "      <th>WAst</th>\n",
       "      <th>WTO</th>\n",
       "      <th>WStl</th>\n",
       "      <th>WBlk</th>\n",
       "      <th>WPF</th>\n",
       "      <th>LFGM</th>\n",
       "      <th>LFGA</th>\n",
       "      <th>LFGM3</th>\n",
       "      <th>LFGA3</th>\n",
       "      <th>LFTM</th>\n",
       "      <th>LFTA</th>\n",
       "      <th>LOR</th>\n",
       "      <th>LDR</th>\n",
       "      <th>LAst</th>\n",
       "      <th>LTO</th>\n",
       "      <th>LStl</th>\n",
       "      <th>LBlk</th>\n",
       "      <th>LPF</th>\n",
       "    </tr>\n",
       "  </thead>\n",
       "  <tbody>\n",
       "    <tr>\n",
       "      <th>0</th>\n",
       "      <td>2010</td>\n",
       "      <td>11</td>\n",
       "      <td>3103</td>\n",
       "      <td>63</td>\n",
       "      <td>3237</td>\n",
       "      <td>49</td>\n",
       "      <td>23</td>\n",
       "      <td>54</td>\n",
       "      <td>5</td>\n",
       "      <td>9</td>\n",
       "      <td>12</td>\n",
       "      <td>19</td>\n",
       "      <td>10</td>\n",
       "      <td>26</td>\n",
       "      <td>14</td>\n",
       "      <td>18</td>\n",
       "      <td>7</td>\n",
       "      <td>0</td>\n",
       "      <td>15</td>\n",
       "      <td>20</td>\n",
       "      <td>54</td>\n",
       "      <td>3</td>\n",
       "      <td>13</td>\n",
       "      <td>6</td>\n",
       "      <td>10</td>\n",
       "      <td>11</td>\n",
       "      <td>27</td>\n",
       "      <td>11</td>\n",
       "      <td>23</td>\n",
       "      <td>7</td>\n",
       "      <td>6</td>\n",
       "      <td>19</td>\n",
       "    </tr>\n",
       "    <tr>\n",
       "      <th>1</th>\n",
       "      <td>2010</td>\n",
       "      <td>11</td>\n",
       "      <td>3104</td>\n",
       "      <td>73</td>\n",
       "      <td>3399</td>\n",
       "      <td>68</td>\n",
       "      <td>26</td>\n",
       "      <td>62</td>\n",
       "      <td>5</td>\n",
       "      <td>12</td>\n",
       "      <td>16</td>\n",
       "      <td>28</td>\n",
       "      <td>16</td>\n",
       "      <td>31</td>\n",
       "      <td>15</td>\n",
       "      <td>20</td>\n",
       "      <td>5</td>\n",
       "      <td>2</td>\n",
       "      <td>25</td>\n",
       "      <td>25</td>\n",
       "      <td>63</td>\n",
       "      <td>4</td>\n",
       "      <td>21</td>\n",
       "      <td>14</td>\n",
       "      <td>27</td>\n",
       "      <td>14</td>\n",
       "      <td>26</td>\n",
       "      <td>7</td>\n",
       "      <td>20</td>\n",
       "      <td>4</td>\n",
       "      <td>2</td>\n",
       "      <td>27</td>\n",
       "    </tr>\n",
       "    <tr>\n",
       "      <th>2</th>\n",
       "      <td>2010</td>\n",
       "      <td>11</td>\n",
       "      <td>3110</td>\n",
       "      <td>71</td>\n",
       "      <td>3224</td>\n",
       "      <td>59</td>\n",
       "      <td>29</td>\n",
       "      <td>62</td>\n",
       "      <td>6</td>\n",
       "      <td>15</td>\n",
       "      <td>7</td>\n",
       "      <td>12</td>\n",
       "      <td>14</td>\n",
       "      <td>23</td>\n",
       "      <td>18</td>\n",
       "      <td>13</td>\n",
       "      <td>6</td>\n",
       "      <td>2</td>\n",
       "      <td>17</td>\n",
       "      <td>19</td>\n",
       "      <td>58</td>\n",
       "      <td>2</td>\n",
       "      <td>14</td>\n",
       "      <td>19</td>\n",
       "      <td>23</td>\n",
       "      <td>17</td>\n",
       "      <td>23</td>\n",
       "      <td>8</td>\n",
       "      <td>15</td>\n",
       "      <td>6</td>\n",
       "      <td>0</td>\n",
       "      <td>15</td>\n",
       "    </tr>\n",
       "    <tr>\n",
       "      <th>3</th>\n",
       "      <td>2010</td>\n",
       "      <td>11</td>\n",
       "      <td>3111</td>\n",
       "      <td>63</td>\n",
       "      <td>3267</td>\n",
       "      <td>58</td>\n",
       "      <td>27</td>\n",
       "      <td>52</td>\n",
       "      <td>4</td>\n",
       "      <td>11</td>\n",
       "      <td>5</td>\n",
       "      <td>9</td>\n",
       "      <td>6</td>\n",
       "      <td>40</td>\n",
       "      <td>14</td>\n",
       "      <td>27</td>\n",
       "      <td>5</td>\n",
       "      <td>10</td>\n",
       "      <td>18</td>\n",
       "      <td>18</td>\n",
       "      <td>74</td>\n",
       "      <td>6</td>\n",
       "      <td>26</td>\n",
       "      <td>16</td>\n",
       "      <td>25</td>\n",
       "      <td>22</td>\n",
       "      <td>22</td>\n",
       "      <td>15</td>\n",
       "      <td>11</td>\n",
       "      <td>14</td>\n",
       "      <td>5</td>\n",
       "      <td>14</td>\n",
       "    </tr>\n",
       "    <tr>\n",
       "      <th>4</th>\n",
       "      <td>2010</td>\n",
       "      <td>11</td>\n",
       "      <td>3119</td>\n",
       "      <td>74</td>\n",
       "      <td>3447</td>\n",
       "      <td>70</td>\n",
       "      <td>30</td>\n",
       "      <td>74</td>\n",
       "      <td>7</td>\n",
       "      <td>20</td>\n",
       "      <td>7</td>\n",
       "      <td>11</td>\n",
       "      <td>14</td>\n",
       "      <td>33</td>\n",
       "      <td>18</td>\n",
       "      <td>11</td>\n",
       "      <td>5</td>\n",
       "      <td>3</td>\n",
       "      <td>18</td>\n",
       "      <td>25</td>\n",
       "      <td>74</td>\n",
       "      <td>9</td>\n",
       "      <td>17</td>\n",
       "      <td>11</td>\n",
       "      <td>21</td>\n",
       "      <td>21</td>\n",
       "      <td>32</td>\n",
       "      <td>12</td>\n",
       "      <td>14</td>\n",
       "      <td>4</td>\n",
       "      <td>2</td>\n",
       "      <td>14</td>\n",
       "    </tr>\n",
       "  </tbody>\n",
       "</table>\n",
       "</div>"
      ],
      "text/plain": [
       "   Season  DayNum  WTeamID  WScore  LTeamID  LScore  WFGM  WFGA  WFGM3  WFGA3  \\\n",
       "0    2010      11     3103      63     3237      49    23    54      5      9   \n",
       "1    2010      11     3104      73     3399      68    26    62      5     12   \n",
       "2    2010      11     3110      71     3224      59    29    62      6     15   \n",
       "3    2010      11     3111      63     3267      58    27    52      4     11   \n",
       "4    2010      11     3119      74     3447      70    30    74      7     20   \n",
       "\n",
       "   WFTM  WFTA  WOR  WDR  WAst  WTO  WStl  WBlk  WPF  LFGM  LFGA  LFGM3  LFGA3  \\\n",
       "0    12    19   10   26    14   18     7     0   15    20    54      3     13   \n",
       "1    16    28   16   31    15   20     5     2   25    25    63      4     21   \n",
       "2     7    12   14   23    18   13     6     2   17    19    58      2     14   \n",
       "3     5     9    6   40    14   27     5    10   18    18    74      6     26   \n",
       "4     7    11   14   33    18   11     5     3   18    25    74      9     17   \n",
       "\n",
       "   LFTM  LFTA  LOR  LDR  LAst  LTO  LStl  LBlk  LPF  \n",
       "0     6    10   11   27    11   23     7     6   19  \n",
       "1    14    27   14   26     7   20     4     2   27  \n",
       "2    19    23   17   23     8   15     6     0   15  \n",
       "3    16    25   22   22    15   11    14     5   14  \n",
       "4    11    21   21   32    12   14     4     2   14  "
      ]
     },
     "execution_count": 4,
     "metadata": {},
     "output_type": "execute_result"
    }
   ],
   "source": [
    "df_season_results = pd.read_csv(DATA_PATH + \"WRegularSeasonDetailedResults.csv\")\n",
    "df_season_results.drop(['NumOT', 'WLoc'], axis=1, inplace=True)\n",
    "df_season_results.head()"
   ]
  },
  {
   "cell_type": "code",
   "execution_count": 5,
   "id": "144a9843",
   "metadata": {
    "execution": {
     "iopub.execute_input": "2023-03-16T04:56:15.739622Z",
     "iopub.status.busy": "2023-03-16T04:56:15.738916Z",
     "iopub.status.idle": "2023-03-16T04:56:15.747333Z",
     "shell.execute_reply": "2023-03-16T04:56:15.746760Z",
     "shell.execute_reply.started": "2023-03-16T04:14:49.646459Z"
    },
    "papermill": {
     "duration": 0.114097,
     "end_time": "2023-03-16T04:56:15.747485",
     "exception": false,
     "start_time": "2023-03-16T04:56:15.633388",
     "status": "completed"
    },
    "tags": []
   },
   "outputs": [],
   "source": [
    "df_season_results['ScoreGap'] = df_season_results['WScore'] - df_season_results['LScore']\n",
    "df_season_results['AstGap'] = df_season_results['WAst'] - df_season_results['LAst']\n",
    "df_season_results['FTAGap'] = df_season_results['WFTA'] - df_season_results['LFTA']\n",
    "df_season_results['DRGap'] = df_season_results['WDR'] - df_season_results['LDR']\n",
    "df_season_results['TOGap'] = df_season_results['WTO'] - df_season_results['LTO']"
   ]
  },
  {
   "cell_type": "code",
   "execution_count": 6,
   "id": "6af6a143",
   "metadata": {
    "execution": {
     "iopub.execute_input": "2023-03-16T04:56:15.952751Z",
     "iopub.status.busy": "2023-03-16T04:56:15.952123Z",
     "iopub.status.idle": "2023-03-16T04:56:15.954656Z",
     "shell.execute_reply": "2023-03-16T04:56:15.954073Z",
     "shell.execute_reply.started": "2023-03-15T00:21:18.178258Z"
    },
    "papermill": {
     "duration": 0.107548,
     "end_time": "2023-03-16T04:56:15.954785",
     "exception": false,
     "start_time": "2023-03-16T04:56:15.847237",
     "status": "completed"
    },
    "tags": []
   },
   "outputs": [],
   "source": [
    "# df_30 = df_season_results[df_season_results.DayNum >= 101]"
   ]
  },
  {
   "cell_type": "markdown",
   "id": "3968fcf3",
   "metadata": {
    "papermill": {
     "duration": 0.097148,
     "end_time": "2023-03-16T04:56:16.156058",
     "exception": false,
     "start_time": "2023-03-16T04:56:16.058910",
     "status": "completed"
    },
    "tags": []
   },
   "source": [
    "# Features \n",
    "For each team at each season, I compute : \n",
    "- Number of wins\n",
    "- Number of losses\n",
    "- Average score gap of wins\n",
    "- Average score gap of losses\n",
    "\n",
    "And use the following features : \n",
    "- Win Ratio\n",
    "- Average score gap"
   ]
  },
  {
   "cell_type": "code",
   "execution_count": 7,
   "id": "e7079348",
   "metadata": {
    "execution": {
     "iopub.execute_input": "2023-03-16T04:56:16.360130Z",
     "iopub.status.busy": "2023-03-16T04:56:16.359580Z",
     "iopub.status.idle": "2023-03-16T04:56:16.401858Z",
     "shell.execute_reply": "2023-03-16T04:56:16.402374Z",
     "shell.execute_reply.started": "2023-03-16T04:14:51.905805Z"
    },
    "papermill": {
     "duration": 0.147635,
     "end_time": "2023-03-16T04:56:16.402545",
     "exception": false,
     "start_time": "2023-03-16T04:56:16.254910",
     "status": "completed"
    },
    "tags": []
   },
   "outputs": [
    {
     "data": {
      "text/html": [
       "<div>\n",
       "<style scoped>\n",
       "    .dataframe tbody tr th:only-of-type {\n",
       "        vertical-align: middle;\n",
       "    }\n",
       "\n",
       "    .dataframe tbody tr th {\n",
       "        vertical-align: top;\n",
       "    }\n",
       "\n",
       "    .dataframe thead th {\n",
       "        text-align: right;\n",
       "    }\n",
       "</style>\n",
       "<table border=\"1\" class=\"dataframe\">\n",
       "  <thead>\n",
       "    <tr style=\"text-align: right;\">\n",
       "      <th></th>\n",
       "      <th>Season</th>\n",
       "      <th>TeamID</th>\n",
       "      <th>NumWins</th>\n",
       "    </tr>\n",
       "  </thead>\n",
       "  <tbody>\n",
       "    <tr>\n",
       "      <th>0</th>\n",
       "      <td>2010</td>\n",
       "      <td>3102</td>\n",
       "      <td>1</td>\n",
       "    </tr>\n",
       "    <tr>\n",
       "      <th>1</th>\n",
       "      <td>2010</td>\n",
       "      <td>3103</td>\n",
       "      <td>17</td>\n",
       "    </tr>\n",
       "    <tr>\n",
       "      <th>2</th>\n",
       "      <td>2010</td>\n",
       "      <td>3104</td>\n",
       "      <td>11</td>\n",
       "    </tr>\n",
       "    <tr>\n",
       "      <th>3</th>\n",
       "      <td>2010</td>\n",
       "      <td>3105</td>\n",
       "      <td>14</td>\n",
       "    </tr>\n",
       "    <tr>\n",
       "      <th>4</th>\n",
       "      <td>2010</td>\n",
       "      <td>3106</td>\n",
       "      <td>12</td>\n",
       "    </tr>\n",
       "    <tr>\n",
       "      <th>...</th>\n",
       "      <td>...</td>\n",
       "      <td>...</td>\n",
       "      <td>...</td>\n",
       "    </tr>\n",
       "    <tr>\n",
       "      <th>4855</th>\n",
       "      <td>2023</td>\n",
       "      <td>3473</td>\n",
       "      <td>1</td>\n",
       "    </tr>\n",
       "    <tr>\n",
       "      <th>4856</th>\n",
       "      <td>2023</td>\n",
       "      <td>3474</td>\n",
       "      <td>5</td>\n",
       "    </tr>\n",
       "    <tr>\n",
       "      <th>4857</th>\n",
       "      <td>2023</td>\n",
       "      <td>3475</td>\n",
       "      <td>9</td>\n",
       "    </tr>\n",
       "    <tr>\n",
       "      <th>4858</th>\n",
       "      <td>2023</td>\n",
       "      <td>3476</td>\n",
       "      <td>8</td>\n",
       "    </tr>\n",
       "    <tr>\n",
       "      <th>4859</th>\n",
       "      <td>2023</td>\n",
       "      <td>3477</td>\n",
       "      <td>13</td>\n",
       "    </tr>\n",
       "  </tbody>\n",
       "</table>\n",
       "<p>4860 rows × 3 columns</p>\n",
       "</div>"
      ],
      "text/plain": [
       "      Season  TeamID  NumWins\n",
       "0       2010    3102        1\n",
       "1       2010    3103       17\n",
       "2       2010    3104       11\n",
       "3       2010    3105       14\n",
       "4       2010    3106       12\n",
       "...      ...     ...      ...\n",
       "4855    2023    3473        1\n",
       "4856    2023    3474        5\n",
       "4857    2023    3475        9\n",
       "4858    2023    3476        8\n",
       "4859    2023    3477       13\n",
       "\n",
       "[4860 rows x 3 columns]"
      ]
     },
     "execution_count": 7,
     "metadata": {},
     "output_type": "execute_result"
    }
   ],
   "source": [
    "num_win = df_season_results.groupby(['Season', 'WTeamID']).count()\n",
    "num_win = num_win.reset_index()[['Season', 'WTeamID', 'DayNum']].rename(columns={\"DayNum\": \"NumWins\", \"WTeamID\": \"TeamID\"})\n",
    "num_win"
   ]
  },
  {
   "cell_type": "code",
   "execution_count": 8,
   "id": "bf77ddb5",
   "metadata": {
    "execution": {
     "iopub.execute_input": "2023-03-16T04:56:16.610668Z",
     "iopub.status.busy": "2023-03-16T04:56:16.604618Z",
     "iopub.status.idle": "2023-03-16T04:56:16.638119Z",
     "shell.execute_reply": "2023-03-16T04:56:16.637539Z",
     "shell.execute_reply.started": "2023-03-16T04:14:53.558540Z"
    },
    "papermill": {
     "duration": 0.136525,
     "end_time": "2023-03-16T04:56:16.638260",
     "exception": false,
     "start_time": "2023-03-16T04:56:16.501735",
     "status": "completed"
    },
    "tags": []
   },
   "outputs": [
    {
     "data": {
      "text/html": [
       "<div>\n",
       "<style scoped>\n",
       "    .dataframe tbody tr th:only-of-type {\n",
       "        vertical-align: middle;\n",
       "    }\n",
       "\n",
       "    .dataframe tbody tr th {\n",
       "        vertical-align: top;\n",
       "    }\n",
       "\n",
       "    .dataframe thead th {\n",
       "        text-align: right;\n",
       "    }\n",
       "</style>\n",
       "<table border=\"1\" class=\"dataframe\">\n",
       "  <thead>\n",
       "    <tr style=\"text-align: right;\">\n",
       "      <th></th>\n",
       "      <th>Season</th>\n",
       "      <th>TeamID</th>\n",
       "      <th>NumLosses</th>\n",
       "    </tr>\n",
       "  </thead>\n",
       "  <tbody>\n",
       "    <tr>\n",
       "      <th>0</th>\n",
       "      <td>2010</td>\n",
       "      <td>3102</td>\n",
       "      <td>27</td>\n",
       "    </tr>\n",
       "    <tr>\n",
       "      <th>1</th>\n",
       "      <td>2010</td>\n",
       "      <td>3103</td>\n",
       "      <td>13</td>\n",
       "    </tr>\n",
       "    <tr>\n",
       "      <th>2</th>\n",
       "      <td>2010</td>\n",
       "      <td>3104</td>\n",
       "      <td>18</td>\n",
       "    </tr>\n",
       "    <tr>\n",
       "      <th>3</th>\n",
       "      <td>2010</td>\n",
       "      <td>3105</td>\n",
       "      <td>13</td>\n",
       "    </tr>\n",
       "    <tr>\n",
       "      <th>4</th>\n",
       "      <td>2010</td>\n",
       "      <td>3106</td>\n",
       "      <td>17</td>\n",
       "    </tr>\n",
       "    <tr>\n",
       "      <th>...</th>\n",
       "      <td>...</td>\n",
       "      <td>...</td>\n",
       "      <td>...</td>\n",
       "    </tr>\n",
       "    <tr>\n",
       "      <th>4865</th>\n",
       "      <td>2023</td>\n",
       "      <td>3473</td>\n",
       "      <td>24</td>\n",
       "    </tr>\n",
       "    <tr>\n",
       "      <th>4866</th>\n",
       "      <td>2023</td>\n",
       "      <td>3474</td>\n",
       "      <td>21</td>\n",
       "    </tr>\n",
       "    <tr>\n",
       "      <th>4867</th>\n",
       "      <td>2023</td>\n",
       "      <td>3475</td>\n",
       "      <td>17</td>\n",
       "    </tr>\n",
       "    <tr>\n",
       "      <th>4868</th>\n",
       "      <td>2023</td>\n",
       "      <td>3476</td>\n",
       "      <td>20</td>\n",
       "    </tr>\n",
       "    <tr>\n",
       "      <th>4869</th>\n",
       "      <td>2023</td>\n",
       "      <td>3477</td>\n",
       "      <td>19</td>\n",
       "    </tr>\n",
       "  </tbody>\n",
       "</table>\n",
       "<p>4870 rows × 3 columns</p>\n",
       "</div>"
      ],
      "text/plain": [
       "      Season  TeamID  NumLosses\n",
       "0       2010    3102         27\n",
       "1       2010    3103         13\n",
       "2       2010    3104         18\n",
       "3       2010    3105         13\n",
       "4       2010    3106         17\n",
       "...      ...     ...        ...\n",
       "4865    2023    3473         24\n",
       "4866    2023    3474         21\n",
       "4867    2023    3475         17\n",
       "4868    2023    3476         20\n",
       "4869    2023    3477         19\n",
       "\n",
       "[4870 rows x 3 columns]"
      ]
     },
     "execution_count": 8,
     "metadata": {},
     "output_type": "execute_result"
    }
   ],
   "source": [
    "num_loss = df_season_results.groupby(['Season', 'LTeamID']).count()\n",
    "num_loss = num_loss.reset_index()[['Season', 'LTeamID', 'DayNum']].rename(columns={\"DayNum\": \"NumLosses\", \"LTeamID\": \"TeamID\"})\n",
    "num_loss"
   ]
  },
  {
   "cell_type": "code",
   "execution_count": 9,
   "id": "6001b84e",
   "metadata": {
    "execution": {
     "iopub.execute_input": "2023-03-16T04:56:16.845755Z",
     "iopub.status.busy": "2023-03-16T04:56:16.845092Z",
     "iopub.status.idle": "2023-03-16T04:56:16.878624Z",
     "shell.execute_reply": "2023-03-16T04:56:16.879073Z",
     "shell.execute_reply.started": "2023-03-16T04:15:01.095950Z"
    },
    "papermill": {
     "duration": 0.141795,
     "end_time": "2023-03-16T04:56:16.879215",
     "exception": false,
     "start_time": "2023-03-16T04:56:16.737420",
     "status": "completed"
    },
    "tags": []
   },
   "outputs": [
    {
     "data": {
      "text/html": [
       "<div>\n",
       "<style scoped>\n",
       "    .dataframe tbody tr th:only-of-type {\n",
       "        vertical-align: middle;\n",
       "    }\n",
       "\n",
       "    .dataframe tbody tr th {\n",
       "        vertical-align: top;\n",
       "    }\n",
       "\n",
       "    .dataframe thead th {\n",
       "        text-align: right;\n",
       "    }\n",
       "</style>\n",
       "<table border=\"1\" class=\"dataframe\">\n",
       "  <thead>\n",
       "    <tr style=\"text-align: right;\">\n",
       "      <th></th>\n",
       "      <th>Season</th>\n",
       "      <th>TeamID</th>\n",
       "      <th>GapWins</th>\n",
       "    </tr>\n",
       "  </thead>\n",
       "  <tbody>\n",
       "    <tr>\n",
       "      <th>0</th>\n",
       "      <td>2010</td>\n",
       "      <td>3102</td>\n",
       "      <td>20.000000</td>\n",
       "    </tr>\n",
       "    <tr>\n",
       "      <th>1</th>\n",
       "      <td>2010</td>\n",
       "      <td>3103</td>\n",
       "      <td>13.176471</td>\n",
       "    </tr>\n",
       "    <tr>\n",
       "      <th>2</th>\n",
       "      <td>2010</td>\n",
       "      <td>3104</td>\n",
       "      <td>15.363636</td>\n",
       "    </tr>\n",
       "    <tr>\n",
       "      <th>3</th>\n",
       "      <td>2010</td>\n",
       "      <td>3105</td>\n",
       "      <td>7.357143</td>\n",
       "    </tr>\n",
       "    <tr>\n",
       "      <th>4</th>\n",
       "      <td>2010</td>\n",
       "      <td>3106</td>\n",
       "      <td>8.500000</td>\n",
       "    </tr>\n",
       "    <tr>\n",
       "      <th>...</th>\n",
       "      <td>...</td>\n",
       "      <td>...</td>\n",
       "      <td>...</td>\n",
       "    </tr>\n",
       "    <tr>\n",
       "      <th>4855</th>\n",
       "      <td>2023</td>\n",
       "      <td>3473</td>\n",
       "      <td>9.000000</td>\n",
       "    </tr>\n",
       "    <tr>\n",
       "      <th>4856</th>\n",
       "      <td>2023</td>\n",
       "      <td>3474</td>\n",
       "      <td>10.200000</td>\n",
       "    </tr>\n",
       "    <tr>\n",
       "      <th>4857</th>\n",
       "      <td>2023</td>\n",
       "      <td>3475</td>\n",
       "      <td>13.000000</td>\n",
       "    </tr>\n",
       "    <tr>\n",
       "      <th>4858</th>\n",
       "      <td>2023</td>\n",
       "      <td>3476</td>\n",
       "      <td>10.125000</td>\n",
       "    </tr>\n",
       "    <tr>\n",
       "      <th>4859</th>\n",
       "      <td>2023</td>\n",
       "      <td>3477</td>\n",
       "      <td>10.538462</td>\n",
       "    </tr>\n",
       "  </tbody>\n",
       "</table>\n",
       "<p>4860 rows × 3 columns</p>\n",
       "</div>"
      ],
      "text/plain": [
       "      Season  TeamID    GapWins\n",
       "0       2010    3102  20.000000\n",
       "1       2010    3103  13.176471\n",
       "2       2010    3104  15.363636\n",
       "3       2010    3105   7.357143\n",
       "4       2010    3106   8.500000\n",
       "...      ...     ...        ...\n",
       "4855    2023    3473   9.000000\n",
       "4856    2023    3474  10.200000\n",
       "4857    2023    3475  13.000000\n",
       "4858    2023    3476  10.125000\n",
       "4859    2023    3477  10.538462\n",
       "\n",
       "[4860 rows x 3 columns]"
      ]
     },
     "execution_count": 9,
     "metadata": {},
     "output_type": "execute_result"
    }
   ],
   "source": [
    "gap_win = df_season_results.groupby(['Season', 'WTeamID']).mean().reset_index()\n",
    "gap_win = gap_win[['Season', 'WTeamID', 'ScoreGap']].rename(columns={\"ScoreGap\": \"GapWins\", \"WTeamID\": \"TeamID\"})\n",
    "gap_win"
   ]
  },
  {
   "cell_type": "code",
   "execution_count": 10,
   "id": "75efa398",
   "metadata": {
    "execution": {
     "iopub.execute_input": "2023-03-16T04:56:17.098280Z",
     "iopub.status.busy": "2023-03-16T04:56:17.097609Z",
     "iopub.status.idle": "2023-03-16T04:56:17.117720Z",
     "shell.execute_reply": "2023-03-16T04:56:17.117226Z",
     "shell.execute_reply.started": "2023-03-16T04:15:02.803990Z"
    },
    "papermill": {
     "duration": 0.138534,
     "end_time": "2023-03-16T04:56:17.117850",
     "exception": false,
     "start_time": "2023-03-16T04:56:16.979316",
     "status": "completed"
    },
    "tags": []
   },
   "outputs": [
    {
     "data": {
      "text/html": [
       "<div>\n",
       "<style scoped>\n",
       "    .dataframe tbody tr th:only-of-type {\n",
       "        vertical-align: middle;\n",
       "    }\n",
       "\n",
       "    .dataframe tbody tr th {\n",
       "        vertical-align: top;\n",
       "    }\n",
       "\n",
       "    .dataframe thead th {\n",
       "        text-align: right;\n",
       "    }\n",
       "</style>\n",
       "<table border=\"1\" class=\"dataframe\">\n",
       "  <thead>\n",
       "    <tr style=\"text-align: right;\">\n",
       "      <th></th>\n",
       "      <th>Season</th>\n",
       "      <th>DayNum</th>\n",
       "      <th>WTeamID</th>\n",
       "      <th>WScore</th>\n",
       "      <th>LTeamID</th>\n",
       "      <th>LScore</th>\n",
       "      <th>WFGM</th>\n",
       "      <th>WFGA</th>\n",
       "      <th>WFGM3</th>\n",
       "      <th>WFGA3</th>\n",
       "      <th>WFTM</th>\n",
       "      <th>WFTA</th>\n",
       "      <th>WOR</th>\n",
       "      <th>WDR</th>\n",
       "      <th>WAst</th>\n",
       "      <th>WTO</th>\n",
       "      <th>WStl</th>\n",
       "      <th>WBlk</th>\n",
       "      <th>WPF</th>\n",
       "      <th>LFGM</th>\n",
       "      <th>LFGA</th>\n",
       "      <th>LFGM3</th>\n",
       "      <th>LFGA3</th>\n",
       "      <th>LFTM</th>\n",
       "      <th>LFTA</th>\n",
       "      <th>LOR</th>\n",
       "      <th>LDR</th>\n",
       "      <th>LAst</th>\n",
       "      <th>LTO</th>\n",
       "      <th>LStl</th>\n",
       "      <th>LBlk</th>\n",
       "      <th>LPF</th>\n",
       "      <th>ScoreGap</th>\n",
       "      <th>AstGap</th>\n",
       "      <th>FTAGap</th>\n",
       "      <th>DRGap</th>\n",
       "      <th>TOGap</th>\n",
       "    </tr>\n",
       "  </thead>\n",
       "  <tbody>\n",
       "    <tr>\n",
       "      <th>0</th>\n",
       "      <td>2010</td>\n",
       "      <td>11</td>\n",
       "      <td>3103</td>\n",
       "      <td>63</td>\n",
       "      <td>3237</td>\n",
       "      <td>49</td>\n",
       "      <td>23</td>\n",
       "      <td>54</td>\n",
       "      <td>5</td>\n",
       "      <td>9</td>\n",
       "      <td>12</td>\n",
       "      <td>19</td>\n",
       "      <td>10</td>\n",
       "      <td>26</td>\n",
       "      <td>14</td>\n",
       "      <td>18</td>\n",
       "      <td>7</td>\n",
       "      <td>0</td>\n",
       "      <td>15</td>\n",
       "      <td>20</td>\n",
       "      <td>54</td>\n",
       "      <td>3</td>\n",
       "      <td>13</td>\n",
       "      <td>6</td>\n",
       "      <td>10</td>\n",
       "      <td>11</td>\n",
       "      <td>27</td>\n",
       "      <td>11</td>\n",
       "      <td>23</td>\n",
       "      <td>7</td>\n",
       "      <td>6</td>\n",
       "      <td>19</td>\n",
       "      <td>14</td>\n",
       "      <td>3</td>\n",
       "      <td>9</td>\n",
       "      <td>-1</td>\n",
       "      <td>-5</td>\n",
       "    </tr>\n",
       "    <tr>\n",
       "      <th>1</th>\n",
       "      <td>2010</td>\n",
       "      <td>11</td>\n",
       "      <td>3104</td>\n",
       "      <td>73</td>\n",
       "      <td>3399</td>\n",
       "      <td>68</td>\n",
       "      <td>26</td>\n",
       "      <td>62</td>\n",
       "      <td>5</td>\n",
       "      <td>12</td>\n",
       "      <td>16</td>\n",
       "      <td>28</td>\n",
       "      <td>16</td>\n",
       "      <td>31</td>\n",
       "      <td>15</td>\n",
       "      <td>20</td>\n",
       "      <td>5</td>\n",
       "      <td>2</td>\n",
       "      <td>25</td>\n",
       "      <td>25</td>\n",
       "      <td>63</td>\n",
       "      <td>4</td>\n",
       "      <td>21</td>\n",
       "      <td>14</td>\n",
       "      <td>27</td>\n",
       "      <td>14</td>\n",
       "      <td>26</td>\n",
       "      <td>7</td>\n",
       "      <td>20</td>\n",
       "      <td>4</td>\n",
       "      <td>2</td>\n",
       "      <td>27</td>\n",
       "      <td>5</td>\n",
       "      <td>8</td>\n",
       "      <td>1</td>\n",
       "      <td>5</td>\n",
       "      <td>0</td>\n",
       "    </tr>\n",
       "    <tr>\n",
       "      <th>2</th>\n",
       "      <td>2010</td>\n",
       "      <td>11</td>\n",
       "      <td>3110</td>\n",
       "      <td>71</td>\n",
       "      <td>3224</td>\n",
       "      <td>59</td>\n",
       "      <td>29</td>\n",
       "      <td>62</td>\n",
       "      <td>6</td>\n",
       "      <td>15</td>\n",
       "      <td>7</td>\n",
       "      <td>12</td>\n",
       "      <td>14</td>\n",
       "      <td>23</td>\n",
       "      <td>18</td>\n",
       "      <td>13</td>\n",
       "      <td>6</td>\n",
       "      <td>2</td>\n",
       "      <td>17</td>\n",
       "      <td>19</td>\n",
       "      <td>58</td>\n",
       "      <td>2</td>\n",
       "      <td>14</td>\n",
       "      <td>19</td>\n",
       "      <td>23</td>\n",
       "      <td>17</td>\n",
       "      <td>23</td>\n",
       "      <td>8</td>\n",
       "      <td>15</td>\n",
       "      <td>6</td>\n",
       "      <td>0</td>\n",
       "      <td>15</td>\n",
       "      <td>12</td>\n",
       "      <td>10</td>\n",
       "      <td>-11</td>\n",
       "      <td>0</td>\n",
       "      <td>-2</td>\n",
       "    </tr>\n",
       "    <tr>\n",
       "      <th>3</th>\n",
       "      <td>2010</td>\n",
       "      <td>11</td>\n",
       "      <td>3111</td>\n",
       "      <td>63</td>\n",
       "      <td>3267</td>\n",
       "      <td>58</td>\n",
       "      <td>27</td>\n",
       "      <td>52</td>\n",
       "      <td>4</td>\n",
       "      <td>11</td>\n",
       "      <td>5</td>\n",
       "      <td>9</td>\n",
       "      <td>6</td>\n",
       "      <td>40</td>\n",
       "      <td>14</td>\n",
       "      <td>27</td>\n",
       "      <td>5</td>\n",
       "      <td>10</td>\n",
       "      <td>18</td>\n",
       "      <td>18</td>\n",
       "      <td>74</td>\n",
       "      <td>6</td>\n",
       "      <td>26</td>\n",
       "      <td>16</td>\n",
       "      <td>25</td>\n",
       "      <td>22</td>\n",
       "      <td>22</td>\n",
       "      <td>15</td>\n",
       "      <td>11</td>\n",
       "      <td>14</td>\n",
       "      <td>5</td>\n",
       "      <td>14</td>\n",
       "      <td>5</td>\n",
       "      <td>-1</td>\n",
       "      <td>-16</td>\n",
       "      <td>18</td>\n",
       "      <td>16</td>\n",
       "    </tr>\n",
       "    <tr>\n",
       "      <th>4</th>\n",
       "      <td>2010</td>\n",
       "      <td>11</td>\n",
       "      <td>3119</td>\n",
       "      <td>74</td>\n",
       "      <td>3447</td>\n",
       "      <td>70</td>\n",
       "      <td>30</td>\n",
       "      <td>74</td>\n",
       "      <td>7</td>\n",
       "      <td>20</td>\n",
       "      <td>7</td>\n",
       "      <td>11</td>\n",
       "      <td>14</td>\n",
       "      <td>33</td>\n",
       "      <td>18</td>\n",
       "      <td>11</td>\n",
       "      <td>5</td>\n",
       "      <td>3</td>\n",
       "      <td>18</td>\n",
       "      <td>25</td>\n",
       "      <td>74</td>\n",
       "      <td>9</td>\n",
       "      <td>17</td>\n",
       "      <td>11</td>\n",
       "      <td>21</td>\n",
       "      <td>21</td>\n",
       "      <td>32</td>\n",
       "      <td>12</td>\n",
       "      <td>14</td>\n",
       "      <td>4</td>\n",
       "      <td>2</td>\n",
       "      <td>14</td>\n",
       "      <td>4</td>\n",
       "      <td>6</td>\n",
       "      <td>-10</td>\n",
       "      <td>1</td>\n",
       "      <td>-3</td>\n",
       "    </tr>\n",
       "  </tbody>\n",
       "</table>\n",
       "</div>"
      ],
      "text/plain": [
       "   Season  DayNum  WTeamID  WScore  LTeamID  LScore  WFGM  WFGA  WFGM3  WFGA3  \\\n",
       "0    2010      11     3103      63     3237      49    23    54      5      9   \n",
       "1    2010      11     3104      73     3399      68    26    62      5     12   \n",
       "2    2010      11     3110      71     3224      59    29    62      6     15   \n",
       "3    2010      11     3111      63     3267      58    27    52      4     11   \n",
       "4    2010      11     3119      74     3447      70    30    74      7     20   \n",
       "\n",
       "   WFTM  WFTA  WOR  WDR  WAst  WTO  WStl  WBlk  WPF  LFGM  LFGA  LFGM3  LFGA3  \\\n",
       "0    12    19   10   26    14   18     7     0   15    20    54      3     13   \n",
       "1    16    28   16   31    15   20     5     2   25    25    63      4     21   \n",
       "2     7    12   14   23    18   13     6     2   17    19    58      2     14   \n",
       "3     5     9    6   40    14   27     5    10   18    18    74      6     26   \n",
       "4     7    11   14   33    18   11     5     3   18    25    74      9     17   \n",
       "\n",
       "   LFTM  LFTA  LOR  LDR  LAst  LTO  LStl  LBlk  LPF  ScoreGap  AstGap  FTAGap  \\\n",
       "0     6    10   11   27    11   23     7     6   19        14       3       9   \n",
       "1    14    27   14   26     7   20     4     2   27         5       8       1   \n",
       "2    19    23   17   23     8   15     6     0   15        12      10     -11   \n",
       "3    16    25   22   22    15   11    14     5   14         5      -1     -16   \n",
       "4    11    21   21   32    12   14     4     2   14         4       6     -10   \n",
       "\n",
       "   DRGap  TOGap  \n",
       "0     -1     -5  \n",
       "1      5      0  \n",
       "2      0     -2  \n",
       "3     18     16  \n",
       "4      1     -3  "
      ]
     },
     "execution_count": 10,
     "metadata": {},
     "output_type": "execute_result"
    }
   ],
   "source": [
    "df_season_results.head()"
   ]
  },
  {
   "cell_type": "code",
   "execution_count": 11,
   "id": "10fb4a9a",
   "metadata": {
    "_kg_hide-output": true,
    "execution": {
     "iopub.execute_input": "2023-03-16T04:56:17.352539Z",
     "iopub.status.busy": "2023-03-16T04:56:17.351804Z",
     "iopub.status.idle": "2023-03-16T04:56:17.397894Z",
     "shell.execute_reply": "2023-03-16T04:56:17.398309Z",
     "shell.execute_reply.started": "2023-03-16T04:15:04.905477Z"
    },
    "papermill": {
     "duration": 0.165685,
     "end_time": "2023-03-16T04:56:17.398470",
     "exception": false,
     "start_time": "2023-03-16T04:56:17.232785",
     "status": "completed"
    },
    "tags": []
   },
   "outputs": [
    {
     "data": {
      "text/html": [
       "<div>\n",
       "<style scoped>\n",
       "    .dataframe tbody tr th:only-of-type {\n",
       "        vertical-align: middle;\n",
       "    }\n",
       "\n",
       "    .dataframe tbody tr th {\n",
       "        vertical-align: top;\n",
       "    }\n",
       "\n",
       "    .dataframe thead th {\n",
       "        text-align: right;\n",
       "    }\n",
       "</style>\n",
       "<table border=\"1\" class=\"dataframe\">\n",
       "  <thead>\n",
       "    <tr style=\"text-align: right;\">\n",
       "      <th></th>\n",
       "      <th>Season</th>\n",
       "      <th>TeamID</th>\n",
       "      <th>WTO</th>\n",
       "    </tr>\n",
       "  </thead>\n",
       "  <tbody>\n",
       "    <tr>\n",
       "      <th>0</th>\n",
       "      <td>2010</td>\n",
       "      <td>3102</td>\n",
       "      <td>14</td>\n",
       "    </tr>\n",
       "    <tr>\n",
       "      <th>1</th>\n",
       "      <td>2010</td>\n",
       "      <td>3103</td>\n",
       "      <td>287</td>\n",
       "    </tr>\n",
       "    <tr>\n",
       "      <th>2</th>\n",
       "      <td>2010</td>\n",
       "      <td>3104</td>\n",
       "      <td>226</td>\n",
       "    </tr>\n",
       "    <tr>\n",
       "      <th>3</th>\n",
       "      <td>2010</td>\n",
       "      <td>3105</td>\n",
       "      <td>360</td>\n",
       "    </tr>\n",
       "    <tr>\n",
       "      <th>4</th>\n",
       "      <td>2010</td>\n",
       "      <td>3106</td>\n",
       "      <td>231</td>\n",
       "    </tr>\n",
       "    <tr>\n",
       "      <th>...</th>\n",
       "      <td>...</td>\n",
       "      <td>...</td>\n",
       "      <td>...</td>\n",
       "    </tr>\n",
       "    <tr>\n",
       "      <th>4855</th>\n",
       "      <td>2023</td>\n",
       "      <td>3473</td>\n",
       "      <td>25</td>\n",
       "    </tr>\n",
       "    <tr>\n",
       "      <th>4856</th>\n",
       "      <td>2023</td>\n",
       "      <td>3474</td>\n",
       "      <td>65</td>\n",
       "    </tr>\n",
       "    <tr>\n",
       "      <th>4857</th>\n",
       "      <td>2023</td>\n",
       "      <td>3475</td>\n",
       "      <td>158</td>\n",
       "    </tr>\n",
       "    <tr>\n",
       "      <th>4858</th>\n",
       "      <td>2023</td>\n",
       "      <td>3476</td>\n",
       "      <td>109</td>\n",
       "    </tr>\n",
       "    <tr>\n",
       "      <th>4859</th>\n",
       "      <td>2023</td>\n",
       "      <td>3477</td>\n",
       "      <td>182</td>\n",
       "    </tr>\n",
       "  </tbody>\n",
       "</table>\n",
       "<p>4860 rows × 3 columns</p>\n",
       "</div>"
      ],
      "text/plain": [
       "      Season  TeamID  WTO\n",
       "0       2010    3102   14\n",
       "1       2010    3103  287\n",
       "2       2010    3104  226\n",
       "3       2010    3105  360\n",
       "4       2010    3106  231\n",
       "...      ...     ...  ...\n",
       "4855    2023    3473   25\n",
       "4856    2023    3474   65\n",
       "4857    2023    3475  158\n",
       "4858    2023    3476  109\n",
       "4859    2023    3477  182\n",
       "\n",
       "[4860 rows x 3 columns]"
      ]
     },
     "execution_count": 11,
     "metadata": {},
     "output_type": "execute_result"
    }
   ],
   "source": [
    "win = df_season_results.groupby(['Season', 'WTeamID']).sum().reset_index()\n",
    "ast_win = win[['Season', 'WTeamID', 'WAst']].rename(columns={\"WTeamID\": \"TeamID\"})\n",
    "fta_win = win[['Season', 'WTeamID', 'WFTA']].rename(columns={\"WTeamID\": \"TeamID\"})\n",
    "dr_win = win[['Season', 'WTeamID', 'WDR']].rename(columns={\"WTeamID\": \"TeamID\"})\n",
    "fga_win = win[['Season', 'WTeamID', 'WFGA']].rename(columns={\"WTeamID\": \"TeamID\"})\n",
    "to_win = win[['Season', 'WTeamID', 'WTO']].rename(columns={\"WTeamID\": \"TeamID\"})\n",
    "to_win"
   ]
  },
  {
   "cell_type": "markdown",
   "id": "04a1bcb2",
   "metadata": {
    "papermill": {
     "duration": 0.102518,
     "end_time": "2023-03-16T04:56:17.604252",
     "exception": false,
     "start_time": "2023-03-16T04:56:17.501734",
     "status": "completed"
    },
    "tags": []
   },
   "source": [
    "**avg_ast = (wast + last)/(numw + numl)**"
   ]
  },
  {
   "cell_type": "code",
   "execution_count": 12,
   "id": "d00949f4",
   "metadata": {
    "execution": {
     "iopub.execute_input": "2023-03-16T04:56:17.825138Z",
     "iopub.status.busy": "2023-03-16T04:56:17.824327Z",
     "iopub.status.idle": "2023-03-16T04:56:17.851119Z",
     "shell.execute_reply": "2023-03-16T04:56:17.850484Z",
     "shell.execute_reply.started": "2023-03-16T04:15:07.395513Z"
    },
    "papermill": {
     "duration": 0.141416,
     "end_time": "2023-03-16T04:56:17.851269",
     "exception": false,
     "start_time": "2023-03-16T04:56:17.709853",
     "status": "completed"
    },
    "tags": []
   },
   "outputs": [],
   "source": [
    "loss = df_season_results.groupby(['Season', 'LTeamID']).sum().reset_index()\n",
    "ast_loss = loss[['Season', 'LTeamID', 'LAst']].rename(columns={\"LTeamID\": \"TeamID\"})\n",
    "fta_loss = loss[['Season', 'LTeamID', 'LFTA']].rename(columns={\"LTeamID\": \"TeamID\"})\n",
    "dr_loss = loss[['Season', 'LTeamID', 'LDR']].rename(columns={\"LTeamID\": \"TeamID\"})\n",
    "fga_loss = loss[['Season', 'LTeamID', 'LFGA']].rename(columns={\"LTeamID\": \"TeamID\"})\n",
    "to_loss = loss[['Season', 'LTeamID', 'LTO']].rename(columns={\"LTeamID\": \"TeamID\"})"
   ]
  },
  {
   "cell_type": "code",
   "execution_count": 13,
   "id": "b58d81ca",
   "metadata": {
    "execution": {
     "iopub.execute_input": "2023-03-16T04:56:18.065937Z",
     "iopub.status.busy": "2023-03-16T04:56:18.065227Z",
     "iopub.status.idle": "2023-03-16T04:56:18.093680Z",
     "shell.execute_reply": "2023-03-16T04:56:18.093163Z",
     "shell.execute_reply.started": "2023-03-16T04:15:07.584323Z"
    },
    "papermill": {
     "duration": 0.139807,
     "end_time": "2023-03-16T04:56:18.093805",
     "exception": false,
     "start_time": "2023-03-16T04:56:17.953998",
     "status": "completed"
    },
    "tags": []
   },
   "outputs": [
    {
     "data": {
      "text/html": [
       "<div>\n",
       "<style scoped>\n",
       "    .dataframe tbody tr th:only-of-type {\n",
       "        vertical-align: middle;\n",
       "    }\n",
       "\n",
       "    .dataframe tbody tr th {\n",
       "        vertical-align: top;\n",
       "    }\n",
       "\n",
       "    .dataframe thead th {\n",
       "        text-align: right;\n",
       "    }\n",
       "</style>\n",
       "<table border=\"1\" class=\"dataframe\">\n",
       "  <thead>\n",
       "    <tr style=\"text-align: right;\">\n",
       "      <th></th>\n",
       "      <th>Season</th>\n",
       "      <th>TeamID</th>\n",
       "      <th>GapLosses</th>\n",
       "    </tr>\n",
       "  </thead>\n",
       "  <tbody>\n",
       "    <tr>\n",
       "      <th>0</th>\n",
       "      <td>2010</td>\n",
       "      <td>3102</td>\n",
       "      <td>21.444444</td>\n",
       "    </tr>\n",
       "    <tr>\n",
       "      <th>1</th>\n",
       "      <td>2010</td>\n",
       "      <td>3103</td>\n",
       "      <td>11.230769</td>\n",
       "    </tr>\n",
       "    <tr>\n",
       "      <th>2</th>\n",
       "      <td>2010</td>\n",
       "      <td>3104</td>\n",
       "      <td>14.000000</td>\n",
       "    </tr>\n",
       "    <tr>\n",
       "      <th>3</th>\n",
       "      <td>2010</td>\n",
       "      <td>3105</td>\n",
       "      <td>16.153846</td>\n",
       "    </tr>\n",
       "    <tr>\n",
       "      <th>4</th>\n",
       "      <td>2010</td>\n",
       "      <td>3106</td>\n",
       "      <td>9.882353</td>\n",
       "    </tr>\n",
       "    <tr>\n",
       "      <th>...</th>\n",
       "      <td>...</td>\n",
       "      <td>...</td>\n",
       "      <td>...</td>\n",
       "    </tr>\n",
       "    <tr>\n",
       "      <th>4865</th>\n",
       "      <td>2023</td>\n",
       "      <td>3473</td>\n",
       "      <td>18.500000</td>\n",
       "    </tr>\n",
       "    <tr>\n",
       "      <th>4866</th>\n",
       "      <td>2023</td>\n",
       "      <td>3474</td>\n",
       "      <td>20.523810</td>\n",
       "    </tr>\n",
       "    <tr>\n",
       "      <th>4867</th>\n",
       "      <td>2023</td>\n",
       "      <td>3475</td>\n",
       "      <td>12.176471</td>\n",
       "    </tr>\n",
       "    <tr>\n",
       "      <th>4868</th>\n",
       "      <td>2023</td>\n",
       "      <td>3476</td>\n",
       "      <td>12.800000</td>\n",
       "    </tr>\n",
       "    <tr>\n",
       "      <th>4869</th>\n",
       "      <td>2023</td>\n",
       "      <td>3477</td>\n",
       "      <td>15.631579</td>\n",
       "    </tr>\n",
       "  </tbody>\n",
       "</table>\n",
       "<p>4870 rows × 3 columns</p>\n",
       "</div>"
      ],
      "text/plain": [
       "      Season  TeamID  GapLosses\n",
       "0       2010    3102  21.444444\n",
       "1       2010    3103  11.230769\n",
       "2       2010    3104  14.000000\n",
       "3       2010    3105  16.153846\n",
       "4       2010    3106   9.882353\n",
       "...      ...     ...        ...\n",
       "4865    2023    3473  18.500000\n",
       "4866    2023    3474  20.523810\n",
       "4867    2023    3475  12.176471\n",
       "4868    2023    3476  12.800000\n",
       "4869    2023    3477  15.631579\n",
       "\n",
       "[4870 rows x 3 columns]"
      ]
     },
     "execution_count": 13,
     "metadata": {},
     "output_type": "execute_result"
    }
   ],
   "source": [
    "gap_loss = df_season_results.groupby(['Season', 'LTeamID']).mean().reset_index()\n",
    "gap_loss = gap_loss[['Season', 'LTeamID', 'ScoreGap']].rename(columns={\"ScoreGap\": \"GapLosses\", \"LTeamID\": \"TeamID\"})\n",
    "gap_loss"
   ]
  },
  {
   "cell_type": "markdown",
   "id": "dc8846ab",
   "metadata": {
    "papermill": {
     "duration": 0.101634,
     "end_time": "2023-03-16T04:56:18.298723",
     "exception": false,
     "start_time": "2023-03-16T04:56:18.197089",
     "status": "completed"
    },
    "tags": []
   },
   "source": [
    "## Merge"
   ]
  },
  {
   "cell_type": "code",
   "execution_count": 14,
   "id": "2d4236ad",
   "metadata": {
    "execution": {
     "iopub.execute_input": "2023-03-16T04:56:18.506559Z",
     "iopub.status.busy": "2023-03-16T04:56:18.505851Z",
     "iopub.status.idle": "2023-03-16T04:56:18.559980Z",
     "shell.execute_reply": "2023-03-16T04:56:18.560383Z",
     "shell.execute_reply.started": "2023-03-16T04:15:08.602994Z"
    },
    "papermill": {
     "duration": 0.159817,
     "end_time": "2023-03-16T04:56:18.560526",
     "exception": false,
     "start_time": "2023-03-16T04:56:18.400709",
     "status": "completed"
    },
    "tags": []
   },
   "outputs": [
    {
     "data": {
      "text/html": [
       "<div>\n",
       "<style scoped>\n",
       "    .dataframe tbody tr th:only-of-type {\n",
       "        vertical-align: middle;\n",
       "    }\n",
       "\n",
       "    .dataframe tbody tr th {\n",
       "        vertical-align: top;\n",
       "    }\n",
       "\n",
       "    .dataframe thead th {\n",
       "        text-align: right;\n",
       "    }\n",
       "</style>\n",
       "<table border=\"1\" class=\"dataframe\">\n",
       "  <thead>\n",
       "    <tr style=\"text-align: right;\">\n",
       "      <th></th>\n",
       "      <th>Season</th>\n",
       "      <th>TeamID</th>\n",
       "    </tr>\n",
       "  </thead>\n",
       "  <tbody>\n",
       "    <tr>\n",
       "      <th>0</th>\n",
       "      <td>2010</td>\n",
       "      <td>3102</td>\n",
       "    </tr>\n",
       "    <tr>\n",
       "      <th>1</th>\n",
       "      <td>2010</td>\n",
       "      <td>3103</td>\n",
       "    </tr>\n",
       "    <tr>\n",
       "      <th>2</th>\n",
       "      <td>2010</td>\n",
       "      <td>3104</td>\n",
       "    </tr>\n",
       "    <tr>\n",
       "      <th>3</th>\n",
       "      <td>2010</td>\n",
       "      <td>3105</td>\n",
       "    </tr>\n",
       "    <tr>\n",
       "      <th>4</th>\n",
       "      <td>2010</td>\n",
       "      <td>3106</td>\n",
       "    </tr>\n",
       "    <tr>\n",
       "      <th>...</th>\n",
       "      <td>...</td>\n",
       "      <td>...</td>\n",
       "    </tr>\n",
       "    <tr>\n",
       "      <th>4865</th>\n",
       "      <td>2023</td>\n",
       "      <td>3473</td>\n",
       "    </tr>\n",
       "    <tr>\n",
       "      <th>4866</th>\n",
       "      <td>2023</td>\n",
       "      <td>3474</td>\n",
       "    </tr>\n",
       "    <tr>\n",
       "      <th>4867</th>\n",
       "      <td>2023</td>\n",
       "      <td>3475</td>\n",
       "    </tr>\n",
       "    <tr>\n",
       "      <th>4868</th>\n",
       "      <td>2023</td>\n",
       "      <td>3476</td>\n",
       "    </tr>\n",
       "    <tr>\n",
       "      <th>4869</th>\n",
       "      <td>2023</td>\n",
       "      <td>3477</td>\n",
       "    </tr>\n",
       "  </tbody>\n",
       "</table>\n",
       "<p>4870 rows × 2 columns</p>\n",
       "</div>"
      ],
      "text/plain": [
       "      Season  TeamID\n",
       "0       2010    3102\n",
       "1       2010    3103\n",
       "2       2010    3104\n",
       "3       2010    3105\n",
       "4       2010    3106\n",
       "...      ...     ...\n",
       "4865    2023    3473\n",
       "4866    2023    3474\n",
       "4867    2023    3475\n",
       "4868    2023    3476\n",
       "4869    2023    3477\n",
       "\n",
       "[4870 rows x 2 columns]"
      ]
     },
     "execution_count": 14,
     "metadata": {},
     "output_type": "execute_result"
    }
   ],
   "source": [
    "df_features_season_w = df_season_results.groupby(['Season', 'WTeamID']).count().reset_index()[['Season', 'WTeamID']].rename(columns={\"WTeamID\": \"TeamID\"})\n",
    "df_features_season_l = df_season_results.groupby(['Season', 'LTeamID']).count().reset_index()[['Season', 'LTeamID']].rename(columns={\"LTeamID\": \"TeamID\"})\n",
    "df_features_season_l"
   ]
  },
  {
   "cell_type": "code",
   "execution_count": 15,
   "id": "b68475ae",
   "metadata": {
    "execution": {
     "iopub.execute_input": "2023-03-16T04:56:18.775928Z",
     "iopub.status.busy": "2023-03-16T04:56:18.775141Z",
     "iopub.status.idle": "2023-03-16T04:56:18.793921Z",
     "shell.execute_reply": "2023-03-16T04:56:18.794348Z",
     "shell.execute_reply.started": "2023-03-16T04:15:08.811586Z"
    },
    "papermill": {
     "duration": 0.1283,
     "end_time": "2023-03-16T04:56:18.794499",
     "exception": false,
     "start_time": "2023-03-16T04:56:18.666199",
     "status": "completed"
    },
    "tags": []
   },
   "outputs": [
    {
     "name": "stderr",
     "output_type": "stream",
     "text": [
      "/opt/conda/lib/python3.7/site-packages/ipykernel_launcher.py:1: FutureWarning: In a future version of pandas all arguments of concat except for the argument 'objs' will be keyword-only\n",
      "  \"\"\"Entry point for launching an IPython kernel.\n"
     ]
    },
    {
     "data": {
      "text/html": [
       "<div>\n",
       "<style scoped>\n",
       "    .dataframe tbody tr th:only-of-type {\n",
       "        vertical-align: middle;\n",
       "    }\n",
       "\n",
       "    .dataframe tbody tr th {\n",
       "        vertical-align: top;\n",
       "    }\n",
       "\n",
       "    .dataframe thead th {\n",
       "        text-align: right;\n",
       "    }\n",
       "</style>\n",
       "<table border=\"1\" class=\"dataframe\">\n",
       "  <thead>\n",
       "    <tr style=\"text-align: right;\">\n",
       "      <th></th>\n",
       "      <th>Season</th>\n",
       "      <th>TeamID</th>\n",
       "    </tr>\n",
       "  </thead>\n",
       "  <tbody>\n",
       "    <tr>\n",
       "      <th>0</th>\n",
       "      <td>2010</td>\n",
       "      <td>3102</td>\n",
       "    </tr>\n",
       "    <tr>\n",
       "      <th>1</th>\n",
       "      <td>2010</td>\n",
       "      <td>3103</td>\n",
       "    </tr>\n",
       "    <tr>\n",
       "      <th>2</th>\n",
       "      <td>2010</td>\n",
       "      <td>3104</td>\n",
       "    </tr>\n",
       "    <tr>\n",
       "      <th>3</th>\n",
       "      <td>2010</td>\n",
       "      <td>3105</td>\n",
       "    </tr>\n",
       "    <tr>\n",
       "      <th>4</th>\n",
       "      <td>2010</td>\n",
       "      <td>3106</td>\n",
       "    </tr>\n",
       "    <tr>\n",
       "      <th>...</th>\n",
       "      <td>...</td>\n",
       "      <td>...</td>\n",
       "    </tr>\n",
       "    <tr>\n",
       "      <th>4875</th>\n",
       "      <td>2023</td>\n",
       "      <td>3473</td>\n",
       "    </tr>\n",
       "    <tr>\n",
       "      <th>4876</th>\n",
       "      <td>2023</td>\n",
       "      <td>3474</td>\n",
       "    </tr>\n",
       "    <tr>\n",
       "      <th>4877</th>\n",
       "      <td>2023</td>\n",
       "      <td>3475</td>\n",
       "    </tr>\n",
       "    <tr>\n",
       "      <th>4878</th>\n",
       "      <td>2023</td>\n",
       "      <td>3476</td>\n",
       "    </tr>\n",
       "    <tr>\n",
       "      <th>4879</th>\n",
       "      <td>2023</td>\n",
       "      <td>3477</td>\n",
       "    </tr>\n",
       "  </tbody>\n",
       "</table>\n",
       "<p>4880 rows × 2 columns</p>\n",
       "</div>"
      ],
      "text/plain": [
       "      Season  TeamID\n",
       "0       2010    3102\n",
       "1       2010    3103\n",
       "2       2010    3104\n",
       "3       2010    3105\n",
       "4       2010    3106\n",
       "...      ...     ...\n",
       "4875    2023    3473\n",
       "4876    2023    3474\n",
       "4877    2023    3475\n",
       "4878    2023    3476\n",
       "4879    2023    3477\n",
       "\n",
       "[4880 rows x 2 columns]"
      ]
     },
     "execution_count": 15,
     "metadata": {},
     "output_type": "execute_result"
    }
   ],
   "source": [
    "df_features_season = pd.concat([df_features_season_w, df_features_season_l], 0).drop_duplicates().sort_values(['Season', 'TeamID']).reset_index(drop=True)\n",
    "df_features_season"
   ]
  },
  {
   "cell_type": "code",
   "execution_count": 16,
   "id": "174e70cc",
   "metadata": {
    "execution": {
     "iopub.execute_input": "2023-03-16T04:56:19.004885Z",
     "iopub.status.busy": "2023-03-16T04:56:19.004196Z",
     "iopub.status.idle": "2023-03-16T04:56:19.030317Z",
     "shell.execute_reply": "2023-03-16T04:56:19.029789Z",
     "shell.execute_reply.started": "2023-03-16T04:15:09.614096Z"
    },
    "papermill": {
     "duration": 0.132815,
     "end_time": "2023-03-16T04:56:19.030458",
     "exception": false,
     "start_time": "2023-03-16T04:56:18.897643",
     "status": "completed"
    },
    "tags": []
   },
   "outputs": [],
   "source": [
    "df_features_season = df_features_season.merge(num_win, on=['Season', 'TeamID'], how='left')\n",
    "df_features_season = df_features_season.merge(num_loss, on=['Season', 'TeamID'], how='left')\n",
    "df_features_season = df_features_season.merge(gap_win, on=['Season', 'TeamID'], how='left')\n",
    "df_features_season = df_features_season.merge(gap_loss, on=['Season', 'TeamID'], how='left')"
   ]
  },
  {
   "cell_type": "code",
   "execution_count": 17,
   "id": "cfdc7b18",
   "metadata": {
    "execution": {
     "iopub.execute_input": "2023-03-16T04:56:19.245387Z",
     "iopub.status.busy": "2023-03-16T04:56:19.244447Z",
     "iopub.status.idle": "2023-03-16T04:56:19.280592Z",
     "shell.execute_reply": "2023-03-16T04:56:19.280979Z",
     "shell.execute_reply.started": "2023-03-16T04:15:10.272161Z"
    },
    "papermill": {
     "duration": 0.146783,
     "end_time": "2023-03-16T04:56:19.281128",
     "exception": false,
     "start_time": "2023-03-16T04:56:19.134345",
     "status": "completed"
    },
    "tags": []
   },
   "outputs": [],
   "source": [
    "df_features_season = df_features_season.merge(ast_loss, on=['Season', 'TeamID'], how='left')\n",
    "df_features_season = df_features_season.merge(fta_loss, on=['Season', 'TeamID'], how='left')\n",
    "df_features_season = df_features_season.merge(dr_loss, on=['Season', 'TeamID'], how='left')\n",
    "df_features_season = df_features_season.merge(to_loss, on=['Season', 'TeamID'], how='left')\n",
    "df_features_season = df_features_season.merge(fga_loss, on=['Season', 'TeamID'], how='left')\n",
    "df_features_season = df_features_season.merge(ast_win, on=['Season', 'TeamID'], how='left')\n",
    "df_features_season = df_features_season.merge(fta_win, on=['Season', 'TeamID'], how='left')\n",
    "df_features_season = df_features_season.merge(dr_win, on=['Season', 'TeamID'], how='left')\n",
    "df_features_season = df_features_season.merge(to_win, on=['Season', 'TeamID'], how='left')\n",
    "df_features_season = df_features_season.merge(fga_win, on=['Season', 'TeamID'], how='left')"
   ]
  },
  {
   "cell_type": "code",
   "execution_count": 18,
   "id": "c84f8b31",
   "metadata": {
    "execution": {
     "iopub.execute_input": "2023-03-16T04:56:19.495908Z",
     "iopub.status.busy": "2023-03-16T04:56:19.495104Z",
     "iopub.status.idle": "2023-03-16T04:56:19.498154Z",
     "shell.execute_reply": "2023-03-16T04:56:19.497517Z",
     "shell.execute_reply.started": "2023-03-16T04:15:11.642067Z"
    },
    "papermill": {
     "duration": 0.111316,
     "end_time": "2023-03-16T04:56:19.498294",
     "exception": false,
     "start_time": "2023-03-16T04:56:19.386978",
     "status": "completed"
    },
    "tags": []
   },
   "outputs": [],
   "source": [
    "df_features_season.fillna(0, inplace=True)  "
   ]
  },
  {
   "cell_type": "code",
   "execution_count": 19,
   "id": "eb7390c7",
   "metadata": {
    "execution": {
     "iopub.execute_input": "2023-03-16T04:56:19.709083Z",
     "iopub.status.busy": "2023-03-16T04:56:19.708486Z",
     "iopub.status.idle": "2023-03-16T04:56:19.734489Z",
     "shell.execute_reply": "2023-03-16T04:56:19.733953Z",
     "shell.execute_reply.started": "2023-03-16T04:15:11.870176Z"
    },
    "papermill": {
     "duration": 0.131676,
     "end_time": "2023-03-16T04:56:19.734632",
     "exception": false,
     "start_time": "2023-03-16T04:56:19.602956",
     "status": "completed"
    },
    "tags": []
   },
   "outputs": [
    {
     "data": {
      "text/html": [
       "<div>\n",
       "<style scoped>\n",
       "    .dataframe tbody tr th:only-of-type {\n",
       "        vertical-align: middle;\n",
       "    }\n",
       "\n",
       "    .dataframe tbody tr th {\n",
       "        vertical-align: top;\n",
       "    }\n",
       "\n",
       "    .dataframe thead th {\n",
       "        text-align: right;\n",
       "    }\n",
       "</style>\n",
       "<table border=\"1\" class=\"dataframe\">\n",
       "  <thead>\n",
       "    <tr style=\"text-align: right;\">\n",
       "      <th></th>\n",
       "      <th>Season</th>\n",
       "      <th>TeamID</th>\n",
       "      <th>NumWins</th>\n",
       "      <th>NumLosses</th>\n",
       "      <th>GapWins</th>\n",
       "      <th>GapLosses</th>\n",
       "      <th>LAst</th>\n",
       "      <th>LFTA</th>\n",
       "      <th>LDR</th>\n",
       "      <th>LTO</th>\n",
       "      <th>LFGA</th>\n",
       "      <th>WAst</th>\n",
       "      <th>WFTA</th>\n",
       "      <th>WDR</th>\n",
       "      <th>WTO</th>\n",
       "      <th>WFGA</th>\n",
       "    </tr>\n",
       "  </thead>\n",
       "  <tbody>\n",
       "    <tr>\n",
       "      <th>0</th>\n",
       "      <td>2010</td>\n",
       "      <td>3102</td>\n",
       "      <td>1.0</td>\n",
       "      <td>27.0</td>\n",
       "      <td>20.000000</td>\n",
       "      <td>21.444444</td>\n",
       "      <td>274.0</td>\n",
       "      <td>349.0</td>\n",
       "      <td>518.0</td>\n",
       "      <td>482.0</td>\n",
       "      <td>1437.0</td>\n",
       "      <td>13.0</td>\n",
       "      <td>21.0</td>\n",
       "      <td>29.0</td>\n",
       "      <td>14.0</td>\n",
       "      <td>51.0</td>\n",
       "    </tr>\n",
       "    <tr>\n",
       "      <th>1</th>\n",
       "      <td>2010</td>\n",
       "      <td>3103</td>\n",
       "      <td>17.0</td>\n",
       "      <td>13.0</td>\n",
       "      <td>13.176471</td>\n",
       "      <td>11.230769</td>\n",
       "      <td>161.0</td>\n",
       "      <td>251.0</td>\n",
       "      <td>269.0</td>\n",
       "      <td>261.0</td>\n",
       "      <td>706.0</td>\n",
       "      <td>242.0</td>\n",
       "      <td>337.0</td>\n",
       "      <td>438.0</td>\n",
       "      <td>287.0</td>\n",
       "      <td>952.0</td>\n",
       "    </tr>\n",
       "    <tr>\n",
       "      <th>2</th>\n",
       "      <td>2010</td>\n",
       "      <td>3104</td>\n",
       "      <td>11.0</td>\n",
       "      <td>18.0</td>\n",
       "      <td>15.363636</td>\n",
       "      <td>14.000000</td>\n",
       "      <td>191.0</td>\n",
       "      <td>271.0</td>\n",
       "      <td>444.0</td>\n",
       "      <td>330.0</td>\n",
       "      <td>1146.0</td>\n",
       "      <td>189.0</td>\n",
       "      <td>216.0</td>\n",
       "      <td>308.0</td>\n",
       "      <td>226.0</td>\n",
       "      <td>655.0</td>\n",
       "    </tr>\n",
       "    <tr>\n",
       "      <th>3</th>\n",
       "      <td>2010</td>\n",
       "      <td>3105</td>\n",
       "      <td>14.0</td>\n",
       "      <td>13.0</td>\n",
       "      <td>7.357143</td>\n",
       "      <td>16.153846</td>\n",
       "      <td>105.0</td>\n",
       "      <td>286.0</td>\n",
       "      <td>273.0</td>\n",
       "      <td>316.0</td>\n",
       "      <td>707.0</td>\n",
       "      <td>158.0</td>\n",
       "      <td>371.0</td>\n",
       "      <td>358.0</td>\n",
       "      <td>360.0</td>\n",
       "      <td>666.0</td>\n",
       "    </tr>\n",
       "    <tr>\n",
       "      <th>4</th>\n",
       "      <td>2010</td>\n",
       "      <td>3106</td>\n",
       "      <td>12.0</td>\n",
       "      <td>17.0</td>\n",
       "      <td>8.500000</td>\n",
       "      <td>9.882353</td>\n",
       "      <td>187.0</td>\n",
       "      <td>358.0</td>\n",
       "      <td>411.0</td>\n",
       "      <td>352.0</td>\n",
       "      <td>939.0</td>\n",
       "      <td>146.0</td>\n",
       "      <td>338.0</td>\n",
       "      <td>307.0</td>\n",
       "      <td>231.0</td>\n",
       "      <td>598.0</td>\n",
       "    </tr>\n",
       "    <tr>\n",
       "      <th>...</th>\n",
       "      <td>...</td>\n",
       "      <td>...</td>\n",
       "      <td>...</td>\n",
       "      <td>...</td>\n",
       "      <td>...</td>\n",
       "      <td>...</td>\n",
       "      <td>...</td>\n",
       "      <td>...</td>\n",
       "      <td>...</td>\n",
       "      <td>...</td>\n",
       "      <td>...</td>\n",
       "      <td>...</td>\n",
       "      <td>...</td>\n",
       "      <td>...</td>\n",
       "      <td>...</td>\n",
       "      <td>...</td>\n",
       "    </tr>\n",
       "    <tr>\n",
       "      <th>4875</th>\n",
       "      <td>2023</td>\n",
       "      <td>3473</td>\n",
       "      <td>1.0</td>\n",
       "      <td>24.0</td>\n",
       "      <td>9.000000</td>\n",
       "      <td>18.500000</td>\n",
       "      <td>271.0</td>\n",
       "      <td>313.0</td>\n",
       "      <td>456.0</td>\n",
       "      <td>457.0</td>\n",
       "      <td>1211.0</td>\n",
       "      <td>26.0</td>\n",
       "      <td>16.0</td>\n",
       "      <td>25.0</td>\n",
       "      <td>25.0</td>\n",
       "      <td>47.0</td>\n",
       "    </tr>\n",
       "    <tr>\n",
       "      <th>4876</th>\n",
       "      <td>2023</td>\n",
       "      <td>3474</td>\n",
       "      <td>5.0</td>\n",
       "      <td>21.0</td>\n",
       "      <td>10.200000</td>\n",
       "      <td>20.523810</td>\n",
       "      <td>122.0</td>\n",
       "      <td>386.0</td>\n",
       "      <td>422.0</td>\n",
       "      <td>329.0</td>\n",
       "      <td>1215.0</td>\n",
       "      <td>48.0</td>\n",
       "      <td>96.0</td>\n",
       "      <td>112.0</td>\n",
       "      <td>65.0</td>\n",
       "      <td>295.0</td>\n",
       "    </tr>\n",
       "    <tr>\n",
       "      <th>4877</th>\n",
       "      <td>2023</td>\n",
       "      <td>3475</td>\n",
       "      <td>9.0</td>\n",
       "      <td>17.0</td>\n",
       "      <td>13.000000</td>\n",
       "      <td>12.176471</td>\n",
       "      <td>208.0</td>\n",
       "      <td>301.0</td>\n",
       "      <td>379.0</td>\n",
       "      <td>360.0</td>\n",
       "      <td>905.0</td>\n",
       "      <td>130.0</td>\n",
       "      <td>185.0</td>\n",
       "      <td>239.0</td>\n",
       "      <td>158.0</td>\n",
       "      <td>531.0</td>\n",
       "    </tr>\n",
       "    <tr>\n",
       "      <th>4878</th>\n",
       "      <td>2023</td>\n",
       "      <td>3476</td>\n",
       "      <td>8.0</td>\n",
       "      <td>20.0</td>\n",
       "      <td>10.125000</td>\n",
       "      <td>12.800000</td>\n",
       "      <td>265.0</td>\n",
       "      <td>256.0</td>\n",
       "      <td>432.0</td>\n",
       "      <td>298.0</td>\n",
       "      <td>1113.0</td>\n",
       "      <td>127.0</td>\n",
       "      <td>125.0</td>\n",
       "      <td>200.0</td>\n",
       "      <td>109.0</td>\n",
       "      <td>450.0</td>\n",
       "    </tr>\n",
       "    <tr>\n",
       "      <th>4879</th>\n",
       "      <td>2023</td>\n",
       "      <td>3477</td>\n",
       "      <td>13.0</td>\n",
       "      <td>19.0</td>\n",
       "      <td>10.538462</td>\n",
       "      <td>15.631579</td>\n",
       "      <td>194.0</td>\n",
       "      <td>418.0</td>\n",
       "      <td>443.0</td>\n",
       "      <td>353.0</td>\n",
       "      <td>1107.0</td>\n",
       "      <td>186.0</td>\n",
       "      <td>296.0</td>\n",
       "      <td>321.0</td>\n",
       "      <td>182.0</td>\n",
       "      <td>756.0</td>\n",
       "    </tr>\n",
       "  </tbody>\n",
       "</table>\n",
       "<p>4880 rows × 16 columns</p>\n",
       "</div>"
      ],
      "text/plain": [
       "      Season  TeamID  NumWins  NumLosses    GapWins  GapLosses   LAst   LFTA  \\\n",
       "0       2010    3102      1.0       27.0  20.000000  21.444444  274.0  349.0   \n",
       "1       2010    3103     17.0       13.0  13.176471  11.230769  161.0  251.0   \n",
       "2       2010    3104     11.0       18.0  15.363636  14.000000  191.0  271.0   \n",
       "3       2010    3105     14.0       13.0   7.357143  16.153846  105.0  286.0   \n",
       "4       2010    3106     12.0       17.0   8.500000   9.882353  187.0  358.0   \n",
       "...      ...     ...      ...        ...        ...        ...    ...    ...   \n",
       "4875    2023    3473      1.0       24.0   9.000000  18.500000  271.0  313.0   \n",
       "4876    2023    3474      5.0       21.0  10.200000  20.523810  122.0  386.0   \n",
       "4877    2023    3475      9.0       17.0  13.000000  12.176471  208.0  301.0   \n",
       "4878    2023    3476      8.0       20.0  10.125000  12.800000  265.0  256.0   \n",
       "4879    2023    3477     13.0       19.0  10.538462  15.631579  194.0  418.0   \n",
       "\n",
       "        LDR    LTO    LFGA   WAst   WFTA    WDR    WTO   WFGA  \n",
       "0     518.0  482.0  1437.0   13.0   21.0   29.0   14.0   51.0  \n",
       "1     269.0  261.0   706.0  242.0  337.0  438.0  287.0  952.0  \n",
       "2     444.0  330.0  1146.0  189.0  216.0  308.0  226.0  655.0  \n",
       "3     273.0  316.0   707.0  158.0  371.0  358.0  360.0  666.0  \n",
       "4     411.0  352.0   939.0  146.0  338.0  307.0  231.0  598.0  \n",
       "...     ...    ...     ...    ...    ...    ...    ...    ...  \n",
       "4875  456.0  457.0  1211.0   26.0   16.0   25.0   25.0   47.0  \n",
       "4876  422.0  329.0  1215.0   48.0   96.0  112.0   65.0  295.0  \n",
       "4877  379.0  360.0   905.0  130.0  185.0  239.0  158.0  531.0  \n",
       "4878  432.0  298.0  1113.0  127.0  125.0  200.0  109.0  450.0  \n",
       "4879  443.0  353.0  1107.0  186.0  296.0  321.0  182.0  756.0  \n",
       "\n",
       "[4880 rows x 16 columns]"
      ]
     },
     "execution_count": 19,
     "metadata": {},
     "output_type": "execute_result"
    }
   ],
   "source": [
    "df_features_season"
   ]
  },
  {
   "cell_type": "code",
   "execution_count": 20,
   "id": "eb5e4012",
   "metadata": {
    "execution": {
     "iopub.execute_input": "2023-03-16T04:56:19.974248Z",
     "iopub.status.busy": "2023-03-16T04:56:19.960753Z",
     "iopub.status.idle": "2023-03-16T04:56:19.978103Z",
     "shell.execute_reply": "2023-03-16T04:56:19.977465Z",
     "shell.execute_reply.started": "2023-03-16T04:15:13.202310Z"
    },
    "papermill": {
     "duration": 0.139567,
     "end_time": "2023-03-16T04:56:19.978240",
     "exception": false,
     "start_time": "2023-03-16T04:56:19.838673",
     "status": "completed"
    },
    "tags": []
   },
   "outputs": [
    {
     "data": {
      "text/html": [
       "<div>\n",
       "<style scoped>\n",
       "    .dataframe tbody tr th:only-of-type {\n",
       "        vertical-align: middle;\n",
       "    }\n",
       "\n",
       "    .dataframe tbody tr th {\n",
       "        vertical-align: top;\n",
       "    }\n",
       "\n",
       "    .dataframe thead th {\n",
       "        text-align: right;\n",
       "    }\n",
       "</style>\n",
       "<table border=\"1\" class=\"dataframe\">\n",
       "  <thead>\n",
       "    <tr style=\"text-align: right;\">\n",
       "      <th></th>\n",
       "      <th>Season</th>\n",
       "      <th>TeamID</th>\n",
       "      <th>NumWins</th>\n",
       "      <th>NumLosses</th>\n",
       "      <th>GapWins</th>\n",
       "      <th>GapLosses</th>\n",
       "      <th>LAst</th>\n",
       "      <th>LFTA</th>\n",
       "      <th>LDR</th>\n",
       "      <th>LTO</th>\n",
       "      <th>LFGA</th>\n",
       "      <th>WAst</th>\n",
       "      <th>WFTA</th>\n",
       "      <th>WDR</th>\n",
       "      <th>WTO</th>\n",
       "      <th>WFGA</th>\n",
       "      <th>NumTotal</th>\n",
       "      <th>AstAvg</th>\n",
       "      <th>FTAAvg</th>\n",
       "      <th>DRAvg</th>\n",
       "      <th>TOAvg</th>\n",
       "      <th>FGAAvg</th>\n",
       "    </tr>\n",
       "  </thead>\n",
       "  <tbody>\n",
       "    <tr>\n",
       "      <th>0</th>\n",
       "      <td>2010</td>\n",
       "      <td>3102</td>\n",
       "      <td>1.0</td>\n",
       "      <td>27.0</td>\n",
       "      <td>20.000000</td>\n",
       "      <td>21.444444</td>\n",
       "      <td>274.0</td>\n",
       "      <td>349.0</td>\n",
       "      <td>518.0</td>\n",
       "      <td>482.0</td>\n",
       "      <td>1437.0</td>\n",
       "      <td>13.0</td>\n",
       "      <td>21.0</td>\n",
       "      <td>29.0</td>\n",
       "      <td>14.0</td>\n",
       "      <td>51.0</td>\n",
       "      <td>28.0</td>\n",
       "      <td>10.250000</td>\n",
       "      <td>13.214286</td>\n",
       "      <td>19.535714</td>\n",
       "      <td>17.714286</td>\n",
       "      <td>53.142857</td>\n",
       "    </tr>\n",
       "    <tr>\n",
       "      <th>1</th>\n",
       "      <td>2010</td>\n",
       "      <td>3103</td>\n",
       "      <td>17.0</td>\n",
       "      <td>13.0</td>\n",
       "      <td>13.176471</td>\n",
       "      <td>11.230769</td>\n",
       "      <td>161.0</td>\n",
       "      <td>251.0</td>\n",
       "      <td>269.0</td>\n",
       "      <td>261.0</td>\n",
       "      <td>706.0</td>\n",
       "      <td>242.0</td>\n",
       "      <td>337.0</td>\n",
       "      <td>438.0</td>\n",
       "      <td>287.0</td>\n",
       "      <td>952.0</td>\n",
       "      <td>30.0</td>\n",
       "      <td>13.433333</td>\n",
       "      <td>19.600000</td>\n",
       "      <td>23.566667</td>\n",
       "      <td>18.266667</td>\n",
       "      <td>55.266667</td>\n",
       "    </tr>\n",
       "    <tr>\n",
       "      <th>2</th>\n",
       "      <td>2010</td>\n",
       "      <td>3104</td>\n",
       "      <td>11.0</td>\n",
       "      <td>18.0</td>\n",
       "      <td>15.363636</td>\n",
       "      <td>14.000000</td>\n",
       "      <td>191.0</td>\n",
       "      <td>271.0</td>\n",
       "      <td>444.0</td>\n",
       "      <td>330.0</td>\n",
       "      <td>1146.0</td>\n",
       "      <td>189.0</td>\n",
       "      <td>216.0</td>\n",
       "      <td>308.0</td>\n",
       "      <td>226.0</td>\n",
       "      <td>655.0</td>\n",
       "      <td>29.0</td>\n",
       "      <td>13.103448</td>\n",
       "      <td>16.793103</td>\n",
       "      <td>25.931034</td>\n",
       "      <td>19.172414</td>\n",
       "      <td>62.103448</td>\n",
       "    </tr>\n",
       "    <tr>\n",
       "      <th>3</th>\n",
       "      <td>2010</td>\n",
       "      <td>3105</td>\n",
       "      <td>14.0</td>\n",
       "      <td>13.0</td>\n",
       "      <td>7.357143</td>\n",
       "      <td>16.153846</td>\n",
       "      <td>105.0</td>\n",
       "      <td>286.0</td>\n",
       "      <td>273.0</td>\n",
       "      <td>316.0</td>\n",
       "      <td>707.0</td>\n",
       "      <td>158.0</td>\n",
       "      <td>371.0</td>\n",
       "      <td>358.0</td>\n",
       "      <td>360.0</td>\n",
       "      <td>666.0</td>\n",
       "      <td>27.0</td>\n",
       "      <td>9.740741</td>\n",
       "      <td>24.333333</td>\n",
       "      <td>23.370370</td>\n",
       "      <td>25.037037</td>\n",
       "      <td>50.851852</td>\n",
       "    </tr>\n",
       "    <tr>\n",
       "      <th>4</th>\n",
       "      <td>2010</td>\n",
       "      <td>3106</td>\n",
       "      <td>12.0</td>\n",
       "      <td>17.0</td>\n",
       "      <td>8.500000</td>\n",
       "      <td>9.882353</td>\n",
       "      <td>187.0</td>\n",
       "      <td>358.0</td>\n",
       "      <td>411.0</td>\n",
       "      <td>352.0</td>\n",
       "      <td>939.0</td>\n",
       "      <td>146.0</td>\n",
       "      <td>338.0</td>\n",
       "      <td>307.0</td>\n",
       "      <td>231.0</td>\n",
       "      <td>598.0</td>\n",
       "      <td>29.0</td>\n",
       "      <td>11.482759</td>\n",
       "      <td>24.000000</td>\n",
       "      <td>24.758621</td>\n",
       "      <td>20.103448</td>\n",
       "      <td>53.000000</td>\n",
       "    </tr>\n",
       "  </tbody>\n",
       "</table>\n",
       "</div>"
      ],
      "text/plain": [
       "   Season  TeamID  NumWins  NumLosses    GapWins  GapLosses   LAst   LFTA  \\\n",
       "0    2010    3102      1.0       27.0  20.000000  21.444444  274.0  349.0   \n",
       "1    2010    3103     17.0       13.0  13.176471  11.230769  161.0  251.0   \n",
       "2    2010    3104     11.0       18.0  15.363636  14.000000  191.0  271.0   \n",
       "3    2010    3105     14.0       13.0   7.357143  16.153846  105.0  286.0   \n",
       "4    2010    3106     12.0       17.0   8.500000   9.882353  187.0  358.0   \n",
       "\n",
       "     LDR    LTO    LFGA   WAst   WFTA    WDR    WTO   WFGA  NumTotal  \\\n",
       "0  518.0  482.0  1437.0   13.0   21.0   29.0   14.0   51.0      28.0   \n",
       "1  269.0  261.0   706.0  242.0  337.0  438.0  287.0  952.0      30.0   \n",
       "2  444.0  330.0  1146.0  189.0  216.0  308.0  226.0  655.0      29.0   \n",
       "3  273.0  316.0   707.0  158.0  371.0  358.0  360.0  666.0      27.0   \n",
       "4  411.0  352.0   939.0  146.0  338.0  307.0  231.0  598.0      29.0   \n",
       "\n",
       "      AstAvg     FTAAvg      DRAvg      TOAvg     FGAAvg  \n",
       "0  10.250000  13.214286  19.535714  17.714286  53.142857  \n",
       "1  13.433333  19.600000  23.566667  18.266667  55.266667  \n",
       "2  13.103448  16.793103  25.931034  19.172414  62.103448  \n",
       "3   9.740741  24.333333  23.370370  25.037037  50.851852  \n",
       "4  11.482759  24.000000  24.758621  20.103448  53.000000  "
      ]
     },
     "execution_count": 20,
     "metadata": {},
     "output_type": "execute_result"
    }
   ],
   "source": [
    "df_features_season['NumTotal'] = df_features_season['NumWins'] + df_features_season['NumLosses']\n",
    "df_features_season['AstAvg'] = (df_features_season['LAst'] + df_features_season['WAst'])/ df_features_season['NumTotal']\n",
    "df_features_season['FTAAvg'] = (df_features_season['LFTA'] + df_features_season['WFTA']) / df_features_season['NumTotal']\n",
    "df_features_season['DRAvg'] = (df_features_season['LDR'] + df_features_season['WDR']) / df_features_season['NumTotal']\n",
    "df_features_season['TOAvg'] = (df_features_season['LTO'] + df_features_season['WTO']) /df_features_season['NumTotal']\n",
    "df_features_season['FGAAvg'] = (df_features_season['LFGA'] + df_features_season['WFGA']) /df_features_season['NumTotal']\n",
    "\n",
    "df_features_season.head()"
   ]
  },
  {
   "cell_type": "markdown",
   "id": "8b1fde9f",
   "metadata": {
    "papermill": {
     "duration": 0.103328,
     "end_time": "2023-03-16T04:56:20.186939",
     "exception": false,
     "start_time": "2023-03-16T04:56:20.083611",
     "status": "completed"
    },
    "tags": []
   },
   "source": [
    "Compute features"
   ]
  },
  {
   "cell_type": "code",
   "execution_count": 21,
   "id": "ee29e478",
   "metadata": {
    "execution": {
     "iopub.execute_input": "2023-03-16T04:56:20.401869Z",
     "iopub.status.busy": "2023-03-16T04:56:20.401244Z",
     "iopub.status.idle": "2023-03-16T04:56:20.403662Z",
     "shell.execute_reply": "2023-03-16T04:56:20.404173Z",
     "shell.execute_reply.started": "2023-03-16T04:15:14.624844Z"
    },
    "papermill": {
     "duration": 0.113436,
     "end_time": "2023-03-16T04:56:20.404320",
     "exception": false,
     "start_time": "2023-03-16T04:56:20.290884",
     "status": "completed"
    },
    "tags": []
   },
   "outputs": [],
   "source": [
    "df_features_season['WinRatio'] = df_features_season['NumWins'] / (df_features_season['NumWins'] + df_features_season['NumLosses'])\n",
    "df_features_season['GapAvg'] = (\n",
    "    (df_features_season['NumWins'] * df_features_season['GapWins'] - \n",
    "    df_features_season['NumLosses'] * df_features_season['GapLosses'])\n",
    "    / (df_features_season['NumWins'] + df_features_season['NumLosses'])\n",
    ")"
   ]
  },
  {
   "cell_type": "code",
   "execution_count": 22,
   "id": "7d31be1e",
   "metadata": {
    "execution": {
     "iopub.execute_input": "2023-03-16T04:56:20.621352Z",
     "iopub.status.busy": "2023-03-16T04:56:20.620751Z",
     "iopub.status.idle": "2023-03-16T04:56:20.625872Z",
     "shell.execute_reply": "2023-03-16T04:56:20.626327Z",
     "shell.execute_reply.started": "2023-03-16T04:15:15.268884Z"
    },
    "papermill": {
     "duration": 0.115392,
     "end_time": "2023-03-16T04:56:20.626513",
     "exception": false,
     "start_time": "2023-03-16T04:56:20.511121",
     "status": "completed"
    },
    "tags": []
   },
   "outputs": [],
   "source": [
    "df_features_season['TORate'] = (df_features_season['TOAvg']*100)/(df_features_season['FGAAvg'] + (df_features_season['FTAAvg'] * 0.44) + df_features_season['AstAvg'] + df_features_season['TOAvg'])"
   ]
  },
  {
   "cell_type": "code",
   "execution_count": 23,
   "id": "cda54738",
   "metadata": {
    "execution": {
     "iopub.execute_input": "2023-03-16T04:56:20.841481Z",
     "iopub.status.busy": "2023-03-16T04:56:20.840992Z",
     "iopub.status.idle": "2023-03-16T04:56:20.843380Z",
     "shell.execute_reply": "2023-03-16T04:56:20.843864Z",
     "shell.execute_reply.started": "2023-03-15T00:21:22.796238Z"
    },
    "papermill": {
     "duration": 0.109195,
     "end_time": "2023-03-16T04:56:20.843996",
     "exception": false,
     "start_time": "2023-03-16T04:56:20.734801",
     "status": "completed"
    },
    "tags": []
   },
   "outputs": [],
   "source": [
    "# df_features_season['PSM'] = 0.062* (df_features_season['FTAAvg'] - ) + 1.49* df_features_season['DRAvg'] + 0.587 * df_features_season['AstAvg'] - 1.601 * df_features_season['TOAvg']"
   ]
  },
  {
   "cell_type": "code",
   "execution_count": 24,
   "id": "6f3e777d",
   "metadata": {
    "execution": {
     "iopub.execute_input": "2023-03-16T04:56:21.057273Z",
     "iopub.status.busy": "2023-03-16T04:56:21.056787Z",
     "iopub.status.idle": "2023-03-16T04:56:21.062083Z",
     "shell.execute_reply": "2023-03-16T04:56:21.062534Z",
     "shell.execute_reply.started": "2023-03-16T04:15:21.138400Z"
    },
    "papermill": {
     "duration": 0.11263,
     "end_time": "2023-03-16T04:56:21.062695",
     "exception": false,
     "start_time": "2023-03-16T04:56:20.950065",
     "status": "completed"
    },
    "tags": []
   },
   "outputs": [],
   "source": [
    "# , 'LAst', 'LFTA', 'LDR', 'LTO', 'WAst', 'WFTA','WDR','WTO', 'NumTotal'\n",
    "df_features_season.drop(['NumWins', 'NumLosses', 'GapWins', 'GapLosses','LAst','LFGA', 'WFGA','LFTA', 'LDR', 'LTO', 'WAst', 'WFTA','WDR','WTO', 'NumTotal', 'FGAAvg', 'TOAvg', 'FTAAvg' ], axis=1, inplace=True)"
   ]
  },
  {
   "cell_type": "code",
   "execution_count": 25,
   "id": "55f715bc",
   "metadata": {
    "execution": {
     "iopub.execute_input": "2023-03-16T04:56:21.275839Z",
     "iopub.status.busy": "2023-03-16T04:56:21.275172Z",
     "iopub.status.idle": "2023-03-16T04:56:21.285927Z",
     "shell.execute_reply": "2023-03-16T04:56:21.285300Z",
     "shell.execute_reply.started": "2023-03-16T04:15:21.416389Z"
    },
    "papermill": {
     "duration": 0.118059,
     "end_time": "2023-03-16T04:56:21.286063",
     "exception": false,
     "start_time": "2023-03-16T04:56:21.168004",
     "status": "completed"
    },
    "tags": []
   },
   "outputs": [
    {
     "data": {
      "text/html": [
       "<div>\n",
       "<style scoped>\n",
       "    .dataframe tbody tr th:only-of-type {\n",
       "        vertical-align: middle;\n",
       "    }\n",
       "\n",
       "    .dataframe tbody tr th {\n",
       "        vertical-align: top;\n",
       "    }\n",
       "\n",
       "    .dataframe thead th {\n",
       "        text-align: right;\n",
       "    }\n",
       "</style>\n",
       "<table border=\"1\" class=\"dataframe\">\n",
       "  <thead>\n",
       "    <tr style=\"text-align: right;\">\n",
       "      <th></th>\n",
       "      <th>Season</th>\n",
       "      <th>TeamID</th>\n",
       "      <th>AstAvg</th>\n",
       "      <th>DRAvg</th>\n",
       "      <th>WinRatio</th>\n",
       "      <th>GapAvg</th>\n",
       "      <th>TORate</th>\n",
       "    </tr>\n",
       "  </thead>\n",
       "  <tbody>\n",
       "    <tr>\n",
       "      <th>0</th>\n",
       "      <td>2010</td>\n",
       "      <td>3102</td>\n",
       "      <td>10.250000</td>\n",
       "      <td>19.535714</td>\n",
       "      <td>0.035714</td>\n",
       "      <td>-19.964286</td>\n",
       "      <td>20.379653</td>\n",
       "    </tr>\n",
       "    <tr>\n",
       "      <th>1</th>\n",
       "      <td>2010</td>\n",
       "      <td>3103</td>\n",
       "      <td>13.433333</td>\n",
       "      <td>23.566667</td>\n",
       "      <td>0.566667</td>\n",
       "      <td>2.600000</td>\n",
       "      <td>19.109258</td>\n",
       "    </tr>\n",
       "    <tr>\n",
       "      <th>2</th>\n",
       "      <td>2010</td>\n",
       "      <td>3104</td>\n",
       "      <td>13.103448</td>\n",
       "      <td>25.931034</td>\n",
       "      <td>0.379310</td>\n",
       "      <td>-2.862069</td>\n",
       "      <td>18.839283</td>\n",
       "    </tr>\n",
       "    <tr>\n",
       "      <th>3</th>\n",
       "      <td>2010</td>\n",
       "      <td>3105</td>\n",
       "      <td>9.740741</td>\n",
       "      <td>23.370370</td>\n",
       "      <td>0.518519</td>\n",
       "      <td>-3.962963</td>\n",
       "      <td>25.989204</td>\n",
       "    </tr>\n",
       "    <tr>\n",
       "      <th>4</th>\n",
       "      <td>2010</td>\n",
       "      <td>3106</td>\n",
       "      <td>11.482759</td>\n",
       "      <td>24.758621</td>\n",
       "      <td>0.413793</td>\n",
       "      <td>-2.275862</td>\n",
       "      <td>21.129007</td>\n",
       "    </tr>\n",
       "  </tbody>\n",
       "</table>\n",
       "</div>"
      ],
      "text/plain": [
       "   Season  TeamID     AstAvg      DRAvg  WinRatio     GapAvg     TORate\n",
       "0    2010    3102  10.250000  19.535714  0.035714 -19.964286  20.379653\n",
       "1    2010    3103  13.433333  23.566667  0.566667   2.600000  19.109258\n",
       "2    2010    3104  13.103448  25.931034  0.379310  -2.862069  18.839283\n",
       "3    2010    3105   9.740741  23.370370  0.518519  -3.962963  25.989204\n",
       "4    2010    3106  11.482759  24.758621  0.413793  -2.275862  21.129007"
      ]
     },
     "execution_count": 25,
     "metadata": {},
     "output_type": "execute_result"
    }
   ],
   "source": [
    "df_features_season.head()"
   ]
  },
  {
   "cell_type": "markdown",
   "id": "1af50e01",
   "metadata": {
    "papermill": {
     "duration": 0.103487,
     "end_time": "2023-03-16T04:56:21.495880",
     "exception": false,
     "start_time": "2023-03-16T04:56:21.392393",
     "status": "completed"
    },
    "tags": []
   },
   "source": [
    "## Tourney results\n",
    "\n",
    "> This file identifies the game-by-game NCAA® tournament results for all seasons of historical data. The data is formatted exactly like the MRegularSeasonCompactResults data. All games will show up as neutral site (so WLoc is always N). Note that this tournament game data also includes the play-in games (which always occurred on day 134/135) for those years that had play-in games. Thus each season you will see between 63 and 67 games listed, depending on how many play-in games there were."
   ]
  },
  {
   "cell_type": "code",
   "execution_count": 26,
   "id": "54cb5a68",
   "metadata": {
    "execution": {
     "iopub.execute_input": "2023-03-16T04:56:21.709621Z",
     "iopub.status.busy": "2023-03-16T04:56:21.708955Z",
     "iopub.status.idle": "2023-03-16T04:56:21.724496Z",
     "shell.execute_reply": "2023-03-16T04:56:21.723938Z",
     "shell.execute_reply.started": "2023-03-16T04:15:23.073239Z"
    },
    "papermill": {
     "duration": 0.122526,
     "end_time": "2023-03-16T04:56:21.724647",
     "exception": false,
     "start_time": "2023-03-16T04:56:21.602121",
     "status": "completed"
    },
    "tags": []
   },
   "outputs": [],
   "source": [
    "df_tourney_results = pd.read_csv(DATA_PATH + \"WNCAATourneyCompactResults.csv\")\n",
    "df_tourney_results.drop(['NumOT', 'WLoc'], axis=1, inplace=True)"
   ]
  },
  {
   "cell_type": "code",
   "execution_count": 27,
   "id": "6aead053",
   "metadata": {
    "execution": {
     "iopub.execute_input": "2023-03-16T04:56:21.946410Z",
     "iopub.status.busy": "2023-03-16T04:56:21.945787Z",
     "iopub.status.idle": "2023-03-16T04:56:21.948143Z",
     "shell.execute_reply": "2023-03-16T04:56:21.948543Z",
     "shell.execute_reply.started": "2023-03-16T04:15:23.276330Z"
    },
    "papermill": {
     "duration": 0.118381,
     "end_time": "2023-03-16T04:56:21.948705",
     "exception": false,
     "start_time": "2023-03-16T04:56:21.830324",
     "status": "completed"
    },
    "tags": []
   },
   "outputs": [
    {
     "data": {
      "text/html": [
       "<div>\n",
       "<style scoped>\n",
       "    .dataframe tbody tr th:only-of-type {\n",
       "        vertical-align: middle;\n",
       "    }\n",
       "\n",
       "    .dataframe tbody tr th {\n",
       "        vertical-align: top;\n",
       "    }\n",
       "\n",
       "    .dataframe thead th {\n",
       "        text-align: right;\n",
       "    }\n",
       "</style>\n",
       "<table border=\"1\" class=\"dataframe\">\n",
       "  <thead>\n",
       "    <tr style=\"text-align: right;\">\n",
       "      <th></th>\n",
       "      <th>Season</th>\n",
       "      <th>DayNum</th>\n",
       "      <th>WTeamID</th>\n",
       "      <th>WScore</th>\n",
       "      <th>LTeamID</th>\n",
       "      <th>LScore</th>\n",
       "    </tr>\n",
       "  </thead>\n",
       "  <tbody>\n",
       "    <tr>\n",
       "      <th>0</th>\n",
       "      <td>1998</td>\n",
       "      <td>137</td>\n",
       "      <td>3104</td>\n",
       "      <td>94</td>\n",
       "      <td>3422</td>\n",
       "      <td>46</td>\n",
       "    </tr>\n",
       "    <tr>\n",
       "      <th>1</th>\n",
       "      <td>1998</td>\n",
       "      <td>137</td>\n",
       "      <td>3112</td>\n",
       "      <td>75</td>\n",
       "      <td>3365</td>\n",
       "      <td>63</td>\n",
       "    </tr>\n",
       "    <tr>\n",
       "      <th>2</th>\n",
       "      <td>1998</td>\n",
       "      <td>137</td>\n",
       "      <td>3163</td>\n",
       "      <td>93</td>\n",
       "      <td>3193</td>\n",
       "      <td>52</td>\n",
       "    </tr>\n",
       "    <tr>\n",
       "      <th>3</th>\n",
       "      <td>1998</td>\n",
       "      <td>137</td>\n",
       "      <td>3198</td>\n",
       "      <td>59</td>\n",
       "      <td>3266</td>\n",
       "      <td>45</td>\n",
       "    </tr>\n",
       "    <tr>\n",
       "      <th>4</th>\n",
       "      <td>1998</td>\n",
       "      <td>137</td>\n",
       "      <td>3203</td>\n",
       "      <td>74</td>\n",
       "      <td>3208</td>\n",
       "      <td>72</td>\n",
       "    </tr>\n",
       "    <tr>\n",
       "      <th>...</th>\n",
       "      <td>...</td>\n",
       "      <td>...</td>\n",
       "      <td>...</td>\n",
       "      <td>...</td>\n",
       "      <td>...</td>\n",
       "      <td>...</td>\n",
       "    </tr>\n",
       "    <tr>\n",
       "      <th>1511</th>\n",
       "      <td>2022</td>\n",
       "      <td>147</td>\n",
       "      <td>3163</td>\n",
       "      <td>91</td>\n",
       "      <td>3301</td>\n",
       "      <td>87</td>\n",
       "    </tr>\n",
       "    <tr>\n",
       "      <th>1512</th>\n",
       "      <td>2022</td>\n",
       "      <td>147</td>\n",
       "      <td>3257</td>\n",
       "      <td>62</td>\n",
       "      <td>3276</td>\n",
       "      <td>50</td>\n",
       "    </tr>\n",
       "    <tr>\n",
       "      <th>1513</th>\n",
       "      <td>2022</td>\n",
       "      <td>151</td>\n",
       "      <td>3163</td>\n",
       "      <td>63</td>\n",
       "      <td>3390</td>\n",
       "      <td>58</td>\n",
       "    </tr>\n",
       "    <tr>\n",
       "      <th>1514</th>\n",
       "      <td>2022</td>\n",
       "      <td>151</td>\n",
       "      <td>3376</td>\n",
       "      <td>72</td>\n",
       "      <td>3257</td>\n",
       "      <td>59</td>\n",
       "    </tr>\n",
       "    <tr>\n",
       "      <th>1515</th>\n",
       "      <td>2022</td>\n",
       "      <td>153</td>\n",
       "      <td>3376</td>\n",
       "      <td>64</td>\n",
       "      <td>3163</td>\n",
       "      <td>49</td>\n",
       "    </tr>\n",
       "  </tbody>\n",
       "</table>\n",
       "<p>1516 rows × 6 columns</p>\n",
       "</div>"
      ],
      "text/plain": [
       "      Season  DayNum  WTeamID  WScore  LTeamID  LScore\n",
       "0       1998     137     3104      94     3422      46\n",
       "1       1998     137     3112      75     3365      63\n",
       "2       1998     137     3163      93     3193      52\n",
       "3       1998     137     3198      59     3266      45\n",
       "4       1998     137     3203      74     3208      72\n",
       "...      ...     ...      ...     ...      ...     ...\n",
       "1511    2022     147     3163      91     3301      87\n",
       "1512    2022     147     3257      62     3276      50\n",
       "1513    2022     151     3163      63     3390      58\n",
       "1514    2022     151     3376      72     3257      59\n",
       "1515    2022     153     3376      64     3163      49\n",
       "\n",
       "[1516 rows x 6 columns]"
      ]
     },
     "execution_count": 27,
     "metadata": {},
     "output_type": "execute_result"
    }
   ],
   "source": [
    "df_tourney_results"
   ]
  },
  {
   "cell_type": "markdown",
   "id": "a541cd0f",
   "metadata": {
    "papermill": {
     "duration": 0.104362,
     "end_time": "2023-03-16T04:56:22.161111",
     "exception": false,
     "start_time": "2023-03-16T04:56:22.056749",
     "status": "completed"
    },
    "tags": []
   },
   "source": [
    "## FiveThirtyEight Ratings / Kenpom\n",
    "> Thanks to Raddar ! https://www.kaggle.com/raddar/ncaa-women-538-team-ratings\n",
    "\n"
   ]
  },
  {
   "cell_type": "code",
   "execution_count": 28,
   "id": "9bd6bba7",
   "metadata": {
    "execution": {
     "iopub.execute_input": "2023-03-16T04:56:22.376602Z",
     "iopub.status.busy": "2023-03-16T04:56:22.375753Z",
     "iopub.status.idle": "2023-03-16T04:56:22.395737Z",
     "shell.execute_reply": "2023-03-16T04:56:22.395169Z",
     "shell.execute_reply.started": "2023-03-16T04:15:33.621782Z"
    },
    "papermill": {
     "duration": 0.127676,
     "end_time": "2023-03-16T04:56:22.395872",
     "exception": false,
     "start_time": "2023-03-16T04:56:22.268196",
     "status": "completed"
    },
    "tags": []
   },
   "outputs": [
    {
     "data": {
      "text/html": [
       "<div>\n",
       "<style scoped>\n",
       "    .dataframe tbody tr th:only-of-type {\n",
       "        vertical-align: middle;\n",
       "    }\n",
       "\n",
       "    .dataframe tbody tr th {\n",
       "        vertical-align: top;\n",
       "    }\n",
       "\n",
       "    .dataframe thead th {\n",
       "        text-align: right;\n",
       "    }\n",
       "</style>\n",
       "<table border=\"1\" class=\"dataframe\">\n",
       "  <thead>\n",
       "    <tr style=\"text-align: right;\">\n",
       "      <th></th>\n",
       "      <th>Season</th>\n",
       "      <th>TeamID</th>\n",
       "      <th>538rating</th>\n",
       "    </tr>\n",
       "  </thead>\n",
       "  <tbody>\n",
       "    <tr>\n",
       "      <th>0</th>\n",
       "      <td>2016</td>\n",
       "      <td>3163</td>\n",
       "      <td>113.09</td>\n",
       "    </tr>\n",
       "    <tr>\n",
       "      <th>1</th>\n",
       "      <td>2016</td>\n",
       "      <td>3124</td>\n",
       "      <td>101.59</td>\n",
       "    </tr>\n",
       "    <tr>\n",
       "      <th>2</th>\n",
       "      <td>2016</td>\n",
       "      <td>3323</td>\n",
       "      <td>101.07</td>\n",
       "    </tr>\n",
       "    <tr>\n",
       "      <th>3</th>\n",
       "      <td>2016</td>\n",
       "      <td>3376</td>\n",
       "      <td>101.07</td>\n",
       "    </tr>\n",
       "    <tr>\n",
       "      <th>4</th>\n",
       "      <td>2016</td>\n",
       "      <td>3268</td>\n",
       "      <td>99.01</td>\n",
       "    </tr>\n",
       "    <tr>\n",
       "      <th>...</th>\n",
       "      <td>...</td>\n",
       "      <td>...</td>\n",
       "      <td>...</td>\n",
       "    </tr>\n",
       "    <tr>\n",
       "      <th>451</th>\n",
       "      <td>2023</td>\n",
       "      <td>3368</td>\n",
       "      <td>66.27</td>\n",
       "    </tr>\n",
       "    <tr>\n",
       "      <th>452</th>\n",
       "      <td>2023</td>\n",
       "      <td>3151</td>\n",
       "      <td>64.88</td>\n",
       "    </tr>\n",
       "    <tr>\n",
       "      <th>453</th>\n",
       "      <td>2023</td>\n",
       "      <td>3284</td>\n",
       "      <td>62.69</td>\n",
       "    </tr>\n",
       "    <tr>\n",
       "      <th>454</th>\n",
       "      <td>2023</td>\n",
       "      <td>3380</td>\n",
       "      <td>61.75</td>\n",
       "    </tr>\n",
       "    <tr>\n",
       "      <th>455</th>\n",
       "      <td>2023</td>\n",
       "      <td>3357</td>\n",
       "      <td>57.53</td>\n",
       "    </tr>\n",
       "  </tbody>\n",
       "</table>\n",
       "<p>456 rows × 3 columns</p>\n",
       "</div>"
      ],
      "text/plain": [
       "     Season  TeamID  538rating\n",
       "0      2016    3163     113.09\n",
       "1      2016    3124     101.59\n",
       "2      2016    3323     101.07\n",
       "3      2016    3376     101.07\n",
       "4      2016    3268      99.01\n",
       "..      ...     ...        ...\n",
       "451    2023    3368      66.27\n",
       "452    2023    3151      64.88\n",
       "453    2023    3284      62.69\n",
       "454    2023    3380      61.75\n",
       "455    2023    3357      57.53\n",
       "\n",
       "[456 rows x 3 columns]"
      ]
     },
     "execution_count": 28,
     "metadata": {},
     "output_type": "execute_result"
    }
   ],
   "source": [
    "df_538 = pd.read_csv(\"/kaggle/input/ncaa-women-538-team-ratings/538ratingsWomen.csv\")\n",
    "df_538.drop('TeamName', axis=1, inplace=True)\n",
    "\n",
    "df_538"
   ]
  },
  {
   "cell_type": "markdown",
   "id": "8f127c85",
   "metadata": {
    "papermill": {
     "duration": 0.108391,
     "end_time": "2023-03-16T04:56:22.612009",
     "exception": false,
     "start_time": "2023-03-16T04:56:22.503618",
     "status": "completed"
    },
    "tags": []
   },
   "source": [
    "# Feature Engineering"
   ]
  },
  {
   "cell_type": "markdown",
   "id": "7c25d9fb",
   "metadata": {
    "papermill": {
     "duration": 0.108881,
     "end_time": "2023-03-16T04:56:22.832472",
     "exception": false,
     "start_time": "2023-03-16T04:56:22.723591",
     "status": "completed"
    },
    "tags": []
   },
   "source": [
    "## Train data"
   ]
  },
  {
   "cell_type": "code",
   "execution_count": 29,
   "id": "bc5d1dcc",
   "metadata": {
    "execution": {
     "iopub.execute_input": "2023-03-16T04:56:23.053055Z",
     "iopub.status.busy": "2023-03-16T04:56:23.051716Z",
     "iopub.status.idle": "2023-03-16T04:56:23.061483Z",
     "shell.execute_reply": "2023-03-16T04:56:23.061003Z",
     "shell.execute_reply.started": "2023-03-16T04:15:35.955009Z"
    },
    "papermill": {
     "duration": 0.12057,
     "end_time": "2023-03-16T04:56:23.061626",
     "exception": false,
     "start_time": "2023-03-16T04:56:22.941056",
     "status": "completed"
    },
    "tags": []
   },
   "outputs": [
    {
     "data": {
      "text/html": [
       "<div>\n",
       "<style scoped>\n",
       "    .dataframe tbody tr th:only-of-type {\n",
       "        vertical-align: middle;\n",
       "    }\n",
       "\n",
       "    .dataframe tbody tr th {\n",
       "        vertical-align: top;\n",
       "    }\n",
       "\n",
       "    .dataframe thead th {\n",
       "        text-align: right;\n",
       "    }\n",
       "</style>\n",
       "<table border=\"1\" class=\"dataframe\">\n",
       "  <thead>\n",
       "    <tr style=\"text-align: right;\">\n",
       "      <th></th>\n",
       "      <th>Season</th>\n",
       "      <th>DayNum</th>\n",
       "      <th>WTeamID</th>\n",
       "      <th>WScore</th>\n",
       "      <th>LTeamID</th>\n",
       "      <th>LScore</th>\n",
       "    </tr>\n",
       "  </thead>\n",
       "  <tbody>\n",
       "    <tr>\n",
       "      <th>0</th>\n",
       "      <td>2016</td>\n",
       "      <td>137</td>\n",
       "      <td>3107</td>\n",
       "      <td>61</td>\n",
       "      <td>3196</td>\n",
       "      <td>59</td>\n",
       "    </tr>\n",
       "    <tr>\n",
       "      <th>1</th>\n",
       "      <td>2016</td>\n",
       "      <td>137</td>\n",
       "      <td>3113</td>\n",
       "      <td>74</td>\n",
       "      <td>3308</td>\n",
       "      <td>52</td>\n",
       "    </tr>\n",
       "    <tr>\n",
       "      <th>2</th>\n",
       "      <td>2016</td>\n",
       "      <td>137</td>\n",
       "      <td>3120</td>\n",
       "      <td>68</td>\n",
       "      <td>3385</td>\n",
       "      <td>57</td>\n",
       "    </tr>\n",
       "    <tr>\n",
       "      <th>3</th>\n",
       "      <td>2016</td>\n",
       "      <td>137</td>\n",
       "      <td>3124</td>\n",
       "      <td>89</td>\n",
       "      <td>3225</td>\n",
       "      <td>59</td>\n",
       "    </tr>\n",
       "    <tr>\n",
       "      <th>4</th>\n",
       "      <td>2016</td>\n",
       "      <td>137</td>\n",
       "      <td>3177</td>\n",
       "      <td>97</td>\n",
       "      <td>3241</td>\n",
       "      <td>67</td>\n",
       "    </tr>\n",
       "  </tbody>\n",
       "</table>\n",
       "</div>"
      ],
      "text/plain": [
       "   Season  DayNum  WTeamID  WScore  LTeamID  LScore\n",
       "0    2016     137     3107      61     3196      59\n",
       "1    2016     137     3113      74     3308      52\n",
       "2    2016     137     3120      68     3385      57\n",
       "3    2016     137     3124      89     3225      59\n",
       "4    2016     137     3177      97     3241      67"
      ]
     },
     "execution_count": 29,
     "metadata": {},
     "output_type": "execute_result"
    }
   ],
   "source": [
    "df = df_tourney_results.copy()\n",
    "df = df[df['Season'] >= 2016].reset_index(drop=True)\n",
    "\n",
    "df.head()"
   ]
  },
  {
   "cell_type": "markdown",
   "id": "650ca18a",
   "metadata": {
    "papermill": {
     "duration": 0.107246,
     "end_time": "2023-03-16T04:56:23.275200",
     "exception": false,
     "start_time": "2023-03-16T04:56:23.167954",
     "status": "completed"
    },
    "tags": []
   },
   "source": [
    "### Seeds\n",
    "- `SeedW` is the seed of the winning team\n",
    "- `SeedL` is the seed of the losing team"
   ]
  },
  {
   "cell_type": "code",
   "execution_count": 30,
   "id": "72ae600b",
   "metadata": {
    "execution": {
     "iopub.execute_input": "2023-03-16T04:56:23.497271Z",
     "iopub.status.busy": "2023-03-16T04:56:23.496441Z",
     "iopub.status.idle": "2023-03-16T04:56:23.503042Z",
     "shell.execute_reply": "2023-03-16T04:56:23.502510Z",
     "shell.execute_reply.started": "2023-03-16T04:15:37.635968Z"
    },
    "papermill": {
     "duration": 0.120997,
     "end_time": "2023-03-16T04:56:23.503174",
     "exception": false,
     "start_time": "2023-03-16T04:56:23.382177",
     "status": "completed"
    },
    "tags": []
   },
   "outputs": [],
   "source": [
    "df = pd.merge(\n",
    "    df, \n",
    "    df_seeds, \n",
    "    how='left', \n",
    "    left_on=['Season', 'WTeamID'], \n",
    "    right_on=['Season', 'TeamID']\n",
    ").drop('TeamID', axis=1).rename(columns={'Seed': 'SeedW'})"
   ]
  },
  {
   "cell_type": "code",
   "execution_count": 31,
   "id": "30862ab7",
   "metadata": {
    "execution": {
     "iopub.execute_input": "2023-03-16T04:56:23.738912Z",
     "iopub.status.busy": "2023-03-16T04:56:23.738166Z",
     "iopub.status.idle": "2023-03-16T04:56:23.746156Z",
     "shell.execute_reply": "2023-03-16T04:56:23.746996Z",
     "shell.execute_reply.started": "2023-03-16T04:15:38.213090Z"
    },
    "papermill": {
     "duration": 0.136847,
     "end_time": "2023-03-16T04:56:23.747299",
     "exception": false,
     "start_time": "2023-03-16T04:56:23.610452",
     "status": "completed"
    },
    "tags": []
   },
   "outputs": [],
   "source": [
    "df = pd.merge(\n",
    "    df, \n",
    "    df_seeds, \n",
    "    how='left', \n",
    "    left_on=['Season', 'LTeamID'], \n",
    "    right_on=['Season', 'TeamID']\n",
    ").drop('TeamID', axis=1).rename(columns={'Seed': 'SeedL'})"
   ]
  },
  {
   "cell_type": "code",
   "execution_count": 32,
   "id": "2468f171",
   "metadata": {
    "execution": {
     "iopub.execute_input": "2023-03-16T04:56:23.963012Z",
     "iopub.status.busy": "2023-03-16T04:56:23.962253Z",
     "iopub.status.idle": "2023-03-16T04:56:23.965825Z",
     "shell.execute_reply": "2023-03-16T04:56:23.966288Z",
     "shell.execute_reply.started": "2023-03-16T04:15:38.434019Z"
    },
    "papermill": {
     "duration": 0.112794,
     "end_time": "2023-03-16T04:56:23.966521",
     "exception": false,
     "start_time": "2023-03-16T04:56:23.853727",
     "status": "completed"
    },
    "tags": []
   },
   "outputs": [],
   "source": [
    "def treat_seed(seed):\n",
    "    return int(re.sub(\"[^0-9]\", \"\", seed))"
   ]
  },
  {
   "cell_type": "code",
   "execution_count": 33,
   "id": "541d48d1",
   "metadata": {
    "execution": {
     "iopub.execute_input": "2023-03-16T04:56:24.189536Z",
     "iopub.status.busy": "2023-03-16T04:56:24.188963Z",
     "iopub.status.idle": "2023-03-16T04:56:24.191691Z",
     "shell.execute_reply": "2023-03-16T04:56:24.191078Z",
     "shell.execute_reply.started": "2023-03-16T04:15:38.927870Z"
    },
    "papermill": {
     "duration": 0.117299,
     "end_time": "2023-03-16T04:56:24.191830",
     "exception": false,
     "start_time": "2023-03-16T04:56:24.074531",
     "status": "completed"
    },
    "tags": []
   },
   "outputs": [],
   "source": [
    "df['SeedW'] = df['SeedW'].apply(treat_seed)\n",
    "df['SeedL'] = df['SeedL'].apply(treat_seed)"
   ]
  },
  {
   "cell_type": "markdown",
   "id": "48e17571",
   "metadata": {
    "papermill": {
     "duration": 0.106789,
     "end_time": "2023-03-16T04:56:24.404061",
     "exception": false,
     "start_time": "2023-03-16T04:56:24.297272",
     "status": "completed"
    },
    "tags": []
   },
   "source": [
    "### Season Stats\n",
    "- `WinRatioW` is the win ratio of the winning team during the season\n",
    "- `WinRatioL` is the win ratio of the losing team during the season"
   ]
  },
  {
   "cell_type": "code",
   "execution_count": 34,
   "id": "12fe36c0",
   "metadata": {
    "execution": {
     "iopub.execute_input": "2023-03-16T04:56:24.622370Z",
     "iopub.status.busy": "2023-03-16T04:56:24.621815Z",
     "iopub.status.idle": "2023-03-16T04:56:24.630737Z",
     "shell.execute_reply": "2023-03-16T04:56:24.631220Z",
     "shell.execute_reply.started": "2023-03-16T04:15:39.679383Z"
    },
    "papermill": {
     "duration": 0.119253,
     "end_time": "2023-03-16T04:56:24.631446",
     "exception": false,
     "start_time": "2023-03-16T04:56:24.512193",
     "status": "completed"
    },
    "tags": []
   },
   "outputs": [],
   "source": [
    "df = pd.merge(\n",
    "    df,\n",
    "    df_features_season,\n",
    "    how='left',\n",
    "    left_on=['Season', 'WTeamID'],\n",
    "    right_on=['Season', 'TeamID']\n",
    ").rename(columns={\n",
    "    'NumWins': 'NumWinsW',\n",
    "    'NumLosses': 'NumLossesW',\n",
    "    'GapWins': 'GapWinsW',\n",
    "    'GapLosses': 'GapLossesW',\n",
    "    'WinRatio': 'WinRatioW',\n",
    "    'GapAvg': 'GapAvgW',\n",
    "    'AstAvg': 'AstAvgW',\n",
    "    'DRAvg': 'DRAvgW',\n",
    "    'TORate': 'TORateW'\n",
    "}).drop(columns='TeamID', axis=1)"
   ]
  },
  {
   "cell_type": "code",
   "execution_count": 35,
   "id": "4085f0d6",
   "metadata": {
    "execution": {
     "iopub.execute_input": "2023-03-16T04:56:24.851717Z",
     "iopub.status.busy": "2023-03-16T04:56:24.851075Z",
     "iopub.status.idle": "2023-03-16T04:56:24.859998Z",
     "shell.execute_reply": "2023-03-16T04:56:24.860643Z",
     "shell.execute_reply.started": "2023-03-16T04:15:40.811529Z"
    },
    "papermill": {
     "duration": 0.120076,
     "end_time": "2023-03-16T04:56:24.860819",
     "exception": false,
     "start_time": "2023-03-16T04:56:24.740743",
     "status": "completed"
    },
    "tags": []
   },
   "outputs": [],
   "source": [
    "df = pd.merge(\n",
    "    df,\n",
    "    df_features_season,\n",
    "    how='left',\n",
    "    left_on=['Season', 'LTeamID'],\n",
    "    right_on=['Season', 'TeamID']\n",
    ").rename(columns={\n",
    "    'NumWins': 'NumWinsL',\n",
    "    'NumLosses': 'NumLossesL',\n",
    "    'GapWins': 'GapWinsL',\n",
    "    'GapLosses': 'GapLossesL',\n",
    "    'WinRatio': 'WinRatioL',\n",
    "    'GapAvg': 'GapAvgL',\n",
    "    'AstAvg': 'AstAvgL',\n",
    "    'DRAvg': 'DRAvgL',\n",
    "    'TORate': 'TORateL'\n",
    "}).drop(columns='TeamID', axis=1)"
   ]
  },
  {
   "cell_type": "markdown",
   "id": "19f44759",
   "metadata": {
    "papermill": {
     "duration": 0.10555,
     "end_time": "2023-03-16T04:56:25.071687",
     "exception": false,
     "start_time": "2023-03-16T04:56:24.966137",
     "status": "completed"
    },
    "tags": []
   },
   "source": [
    "### FiveThirtyEight Ratings\n",
    "- `538ratingW` is the rating of the winning team during the season\n",
    "- `538ratingL` is the rating of the losing team during the season"
   ]
  },
  {
   "cell_type": "code",
   "execution_count": 36,
   "id": "ab4b5109",
   "metadata": {
    "execution": {
     "iopub.execute_input": "2023-03-16T04:56:25.288879Z",
     "iopub.status.busy": "2023-03-16T04:56:25.288214Z",
     "iopub.status.idle": "2023-03-16T04:56:25.296210Z",
     "shell.execute_reply": "2023-03-16T04:56:25.296776Z",
     "shell.execute_reply.started": "2023-03-16T04:15:41.717451Z"
    },
    "papermill": {
     "duration": 0.118672,
     "end_time": "2023-03-16T04:56:25.296950",
     "exception": false,
     "start_time": "2023-03-16T04:56:25.178278",
     "status": "completed"
    },
    "tags": []
   },
   "outputs": [],
   "source": [
    "df = pd.merge(\n",
    "    df,\n",
    "    df_538,\n",
    "    how='left',\n",
    "    left_on=['Season', 'WTeamID'],\n",
    "    right_on=['Season', 'TeamID']\n",
    ").drop('TeamID', axis=1).rename(columns={'538rating': '538ratingW'})"
   ]
  },
  {
   "cell_type": "code",
   "execution_count": 37,
   "id": "eb4d85c9",
   "metadata": {
    "execution": {
     "iopub.execute_input": "2023-03-16T04:56:25.520143Z",
     "iopub.status.busy": "2023-03-16T04:56:25.519552Z",
     "iopub.status.idle": "2023-03-16T04:56:25.524031Z",
     "shell.execute_reply": "2023-03-16T04:56:25.524403Z",
     "shell.execute_reply.started": "2023-03-16T04:15:41.906295Z"
    },
    "papermill": {
     "duration": 0.120571,
     "end_time": "2023-03-16T04:56:25.524669",
     "exception": false,
     "start_time": "2023-03-16T04:56:25.404098",
     "status": "completed"
    },
    "tags": []
   },
   "outputs": [],
   "source": [
    "df = pd.merge(\n",
    "    df, \n",
    "    df_538, \n",
    "    how='left', \n",
    "    left_on=['Season', 'LTeamID'], \n",
    "    right_on=['Season', 'TeamID']\n",
    ").drop('TeamID', axis=1).rename(columns={'538rating': '538ratingL'})"
   ]
  },
  {
   "cell_type": "code",
   "execution_count": 38,
   "id": "14e69dbf",
   "metadata": {
    "execution": {
     "iopub.execute_input": "2023-03-16T04:56:25.741268Z",
     "iopub.status.busy": "2023-03-16T04:56:25.740758Z",
     "iopub.status.idle": "2023-03-16T04:56:25.757384Z",
     "shell.execute_reply": "2023-03-16T04:56:25.757925Z",
     "shell.execute_reply.started": "2023-03-16T04:15:42.409509Z"
    },
    "papermill": {
     "duration": 0.127363,
     "end_time": "2023-03-16T04:56:25.758096",
     "exception": false,
     "start_time": "2023-03-16T04:56:25.630733",
     "status": "completed"
    },
    "tags": []
   },
   "outputs": [
    {
     "data": {
      "text/html": [
       "<div>\n",
       "<style scoped>\n",
       "    .dataframe tbody tr th:only-of-type {\n",
       "        vertical-align: middle;\n",
       "    }\n",
       "\n",
       "    .dataframe tbody tr th {\n",
       "        vertical-align: top;\n",
       "    }\n",
       "\n",
       "    .dataframe thead th {\n",
       "        text-align: right;\n",
       "    }\n",
       "</style>\n",
       "<table border=\"1\" class=\"dataframe\">\n",
       "  <thead>\n",
       "    <tr style=\"text-align: right;\">\n",
       "      <th></th>\n",
       "      <th>Season</th>\n",
       "      <th>DayNum</th>\n",
       "      <th>WTeamID</th>\n",
       "      <th>WScore</th>\n",
       "      <th>LTeamID</th>\n",
       "      <th>LScore</th>\n",
       "      <th>SeedW</th>\n",
       "      <th>SeedL</th>\n",
       "      <th>AstAvgW</th>\n",
       "      <th>DRAvgW</th>\n",
       "      <th>WinRatioW</th>\n",
       "      <th>GapAvgW</th>\n",
       "      <th>TORateW</th>\n",
       "      <th>AstAvgL</th>\n",
       "      <th>DRAvgL</th>\n",
       "      <th>WinRatioL</th>\n",
       "      <th>GapAvgL</th>\n",
       "      <th>TORateL</th>\n",
       "      <th>538ratingW</th>\n",
       "      <th>538ratingL</th>\n",
       "    </tr>\n",
       "  </thead>\n",
       "  <tbody>\n",
       "    <tr>\n",
       "      <th>0</th>\n",
       "      <td>2016</td>\n",
       "      <td>137</td>\n",
       "      <td>3107</td>\n",
       "      <td>61</td>\n",
       "      <td>3196</td>\n",
       "      <td>59</td>\n",
       "      <td>12</td>\n",
       "      <td>5</td>\n",
       "      <td>16.193548</td>\n",
       "      <td>24.645161</td>\n",
       "      <td>0.870968</td>\n",
       "      <td>18.677419</td>\n",
       "      <td>15.052532</td>\n",
       "      <td>15.066667</td>\n",
       "      <td>25.566667</td>\n",
       "      <td>0.733333</td>\n",
       "      <td>8.700000</td>\n",
       "      <td>18.985392</td>\n",
       "      <td>80.90</td>\n",
       "      <td>83.36</td>\n",
       "    </tr>\n",
       "    <tr>\n",
       "      <th>1</th>\n",
       "      <td>2016</td>\n",
       "      <td>137</td>\n",
       "      <td>3113</td>\n",
       "      <td>74</td>\n",
       "      <td>3308</td>\n",
       "      <td>52</td>\n",
       "      <td>2</td>\n",
       "      <td>15</td>\n",
       "      <td>14.709677</td>\n",
       "      <td>22.967742</td>\n",
       "      <td>0.806452</td>\n",
       "      <td>9.258065</td>\n",
       "      <td>15.740817</td>\n",
       "      <td>13.071429</td>\n",
       "      <td>24.607143</td>\n",
       "      <td>0.857143</td>\n",
       "      <td>8.964286</td>\n",
       "      <td>15.618011</td>\n",
       "      <td>91.32</td>\n",
       "      <td>71.42</td>\n",
       "    </tr>\n",
       "    <tr>\n",
       "      <th>2</th>\n",
       "      <td>2016</td>\n",
       "      <td>137</td>\n",
       "      <td>3120</td>\n",
       "      <td>68</td>\n",
       "      <td>3385</td>\n",
       "      <td>57</td>\n",
       "      <td>9</td>\n",
       "      <td>8</td>\n",
       "      <td>13.161290</td>\n",
       "      <td>21.838710</td>\n",
       "      <td>0.612903</td>\n",
       "      <td>3.032258</td>\n",
       "      <td>18.769321</td>\n",
       "      <td>13.062500</td>\n",
       "      <td>25.437500</td>\n",
       "      <td>0.718750</td>\n",
       "      <td>6.812500</td>\n",
       "      <td>15.427732</td>\n",
       "      <td>80.17</td>\n",
       "      <td>82.19</td>\n",
       "    </tr>\n",
       "    <tr>\n",
       "      <th>3</th>\n",
       "      <td>2016</td>\n",
       "      <td>137</td>\n",
       "      <td>3124</td>\n",
       "      <td>89</td>\n",
       "      <td>3225</td>\n",
       "      <td>59</td>\n",
       "      <td>1</td>\n",
       "      <td>16</td>\n",
       "      <td>20.794118</td>\n",
       "      <td>31.176471</td>\n",
       "      <td>0.970588</td>\n",
       "      <td>24.617647</td>\n",
       "      <td>14.340239</td>\n",
       "      <td>15.580645</td>\n",
       "      <td>29.419355</td>\n",
       "      <td>0.709677</td>\n",
       "      <td>10.612903</td>\n",
       "      <td>13.698889</td>\n",
       "      <td>101.59</td>\n",
       "      <td>72.69</td>\n",
       "    </tr>\n",
       "    <tr>\n",
       "      <th>4</th>\n",
       "      <td>2016</td>\n",
       "      <td>137</td>\n",
       "      <td>3177</td>\n",
       "      <td>97</td>\n",
       "      <td>3241</td>\n",
       "      <td>67</td>\n",
       "      <td>6</td>\n",
       "      <td>11</td>\n",
       "      <td>20.909091</td>\n",
       "      <td>25.303030</td>\n",
       "      <td>0.757576</td>\n",
       "      <td>16.272727</td>\n",
       "      <td>12.200842</td>\n",
       "      <td>12.531250</td>\n",
       "      <td>29.062500</td>\n",
       "      <td>0.843750</td>\n",
       "      <td>15.406250</td>\n",
       "      <td>13.530863</td>\n",
       "      <td>90.08</td>\n",
       "      <td>83.04</td>\n",
       "    </tr>\n",
       "  </tbody>\n",
       "</table>\n",
       "</div>"
      ],
      "text/plain": [
       "   Season  DayNum  WTeamID  WScore  LTeamID  LScore  SeedW  SeedL    AstAvgW  \\\n",
       "0    2016     137     3107      61     3196      59     12      5  16.193548   \n",
       "1    2016     137     3113      74     3308      52      2     15  14.709677   \n",
       "2    2016     137     3120      68     3385      57      9      8  13.161290   \n",
       "3    2016     137     3124      89     3225      59      1     16  20.794118   \n",
       "4    2016     137     3177      97     3241      67      6     11  20.909091   \n",
       "\n",
       "      DRAvgW  WinRatioW    GapAvgW    TORateW    AstAvgL     DRAvgL  \\\n",
       "0  24.645161   0.870968  18.677419  15.052532  15.066667  25.566667   \n",
       "1  22.967742   0.806452   9.258065  15.740817  13.071429  24.607143   \n",
       "2  21.838710   0.612903   3.032258  18.769321  13.062500  25.437500   \n",
       "3  31.176471   0.970588  24.617647  14.340239  15.580645  29.419355   \n",
       "4  25.303030   0.757576  16.272727  12.200842  12.531250  29.062500   \n",
       "\n",
       "   WinRatioL    GapAvgL    TORateL  538ratingW  538ratingL  \n",
       "0   0.733333   8.700000  18.985392       80.90       83.36  \n",
       "1   0.857143   8.964286  15.618011       91.32       71.42  \n",
       "2   0.718750   6.812500  15.427732       80.17       82.19  \n",
       "3   0.709677  10.612903  13.698889      101.59       72.69  \n",
       "4   0.843750  15.406250  13.530863       90.08       83.04  "
      ]
     },
     "execution_count": 38,
     "metadata": {},
     "output_type": "execute_result"
    }
   ],
   "source": [
    "df.head()"
   ]
  },
  {
   "cell_type": "markdown",
   "id": "7b26a888",
   "metadata": {
    "papermill": {
     "duration": 0.106262,
     "end_time": "2023-03-16T04:56:25.970253",
     "exception": false,
     "start_time": "2023-03-16T04:56:25.863991",
     "status": "completed"
    },
    "tags": []
   },
   "source": [
    "### Add symetrical\n",
    "- Right now our data only consists of won matches\n",
    "- We duplicate our data, get rid of the winner loser "
   ]
  },
  {
   "cell_type": "code",
   "execution_count": 39,
   "id": "c540e551",
   "metadata": {
    "execution": {
     "iopub.execute_input": "2023-03-16T04:56:26.186451Z",
     "iopub.status.busy": "2023-03-16T04:56:26.185897Z",
     "iopub.status.idle": "2023-03-16T04:56:26.193030Z",
     "shell.execute_reply": "2023-03-16T04:56:26.193443Z",
     "shell.execute_reply.started": "2023-03-16T04:15:43.578018Z"
    },
    "papermill": {
     "duration": 0.116797,
     "end_time": "2023-03-16T04:56:26.193597",
     "exception": false,
     "start_time": "2023-03-16T04:56:26.076800",
     "status": "completed"
    },
    "tags": []
   },
   "outputs": [],
   "source": [
    "def add_loosing_matches(df):\n",
    "    win_rename = {\n",
    "        \"WTeamID\": \"TeamIdA\", \n",
    "        \"WScore\" : \"ScoreA\", \n",
    "        \"LTeamID\" : \"TeamIdB\",\n",
    "        \"LScore\": \"ScoreB\",\n",
    "     }\n",
    "    win_rename.update({c : c[:-1] + \"A\" for c in df.columns if c.endswith('W')})\n",
    "    win_rename.update({c : c[:-1] + \"B\" for c in df.columns if c.endswith('L')})\n",
    "    \n",
    "    lose_rename = {\n",
    "        \"WTeamID\": \"TeamIdB\", \n",
    "        \"WScore\" : \"ScoreB\", \n",
    "        \"LTeamID\" : \"TeamIdA\",\n",
    "        \"LScore\": \"ScoreA\",\n",
    "    }\n",
    "    lose_rename.update({c : c[:-1] + \"B\" for c in df.columns if c.endswith('W')})\n",
    "    lose_rename.update({c : c[:-1] + \"A\" for c in df.columns if c.endswith('L')})\n",
    "    \n",
    "    win_df = df.copy()\n",
    "    lose_df = df.copy()\n",
    "    \n",
    "    win_df = win_df.rename(columns=win_rename)\n",
    "    lose_df = lose_df.rename(columns=lose_rename)\n",
    "    \n",
    "    return pd.concat([win_df, lose_df], 0, sort=False)"
   ]
  },
  {
   "cell_type": "code",
   "execution_count": 40,
   "id": "9b48eee1",
   "metadata": {
    "execution": {
     "iopub.execute_input": "2023-03-16T04:56:26.412358Z",
     "iopub.status.busy": "2023-03-16T04:56:26.411864Z",
     "iopub.status.idle": "2023-03-16T04:56:26.418208Z",
     "shell.execute_reply": "2023-03-16T04:56:26.418652Z",
     "shell.execute_reply.started": "2023-03-16T04:15:44.083084Z"
    },
    "papermill": {
     "duration": 0.119318,
     "end_time": "2023-03-16T04:56:26.418825",
     "exception": false,
     "start_time": "2023-03-16T04:56:26.299507",
     "status": "completed"
    },
    "tags": []
   },
   "outputs": [
    {
     "name": "stderr",
     "output_type": "stream",
     "text": [
      "/opt/conda/lib/python3.7/site-packages/ipykernel_launcher.py:26: FutureWarning: In a future version of pandas all arguments of concat except for the argument 'objs' will be keyword-only\n"
     ]
    }
   ],
   "source": [
    "df = add_loosing_matches(df)"
   ]
  },
  {
   "cell_type": "markdown",
   "id": "d2c1ae87",
   "metadata": {
    "papermill": {
     "duration": 0.111026,
     "end_time": "2023-03-16T04:56:26.637514",
     "exception": false,
     "start_time": "2023-03-16T04:56:26.526488",
     "status": "completed"
    },
    "tags": []
   },
   "source": [
    "### Differences\n",
    "- We compute the difference between the team for each feature.\n",
    "- This helps further assessing how better (or worse) team A is from team B"
   ]
  },
  {
   "cell_type": "code",
   "execution_count": 41,
   "id": "2e6dcb4c",
   "metadata": {
    "execution": {
     "iopub.execute_input": "2023-03-16T04:56:26.863731Z",
     "iopub.status.busy": "2023-03-16T04:56:26.863056Z",
     "iopub.status.idle": "2023-03-16T04:56:26.873031Z",
     "shell.execute_reply": "2023-03-16T04:56:26.873540Z",
     "shell.execute_reply.started": "2023-03-16T04:15:48.093662Z"
    },
    "papermill": {
     "duration": 0.12719,
     "end_time": "2023-03-16T04:56:26.873713",
     "exception": false,
     "start_time": "2023-03-16T04:56:26.746523",
     "status": "completed"
    },
    "tags": []
   },
   "outputs": [
    {
     "data": {
      "text/html": [
       "<div>\n",
       "<style scoped>\n",
       "    .dataframe tbody tr th:only-of-type {\n",
       "        vertical-align: middle;\n",
       "    }\n",
       "\n",
       "    .dataframe tbody tr th {\n",
       "        vertical-align: top;\n",
       "    }\n",
       "\n",
       "    .dataframe thead th {\n",
       "        text-align: right;\n",
       "    }\n",
       "</style>\n",
       "<table border=\"1\" class=\"dataframe\">\n",
       "  <thead>\n",
       "    <tr style=\"text-align: right;\">\n",
       "      <th></th>\n",
       "      <th>Season</th>\n",
       "      <th>DayNum</th>\n",
       "      <th>TeamIdA</th>\n",
       "      <th>ScoreA</th>\n",
       "      <th>TeamIdB</th>\n",
       "      <th>ScoreB</th>\n",
       "      <th>SeedA</th>\n",
       "      <th>SeedB</th>\n",
       "      <th>AstAvgA</th>\n",
       "      <th>DRAvgA</th>\n",
       "      <th>WinRatioA</th>\n",
       "      <th>GapAvgA</th>\n",
       "      <th>TORateA</th>\n",
       "      <th>AstAvgB</th>\n",
       "      <th>DRAvgB</th>\n",
       "      <th>WinRatioB</th>\n",
       "      <th>GapAvgB</th>\n",
       "      <th>TORateB</th>\n",
       "      <th>538ratingA</th>\n",
       "      <th>538ratingB</th>\n",
       "    </tr>\n",
       "  </thead>\n",
       "  <tbody>\n",
       "    <tr>\n",
       "      <th>0</th>\n",
       "      <td>2016</td>\n",
       "      <td>137</td>\n",
       "      <td>3107</td>\n",
       "      <td>61</td>\n",
       "      <td>3196</td>\n",
       "      <td>59</td>\n",
       "      <td>12</td>\n",
       "      <td>5</td>\n",
       "      <td>16.193548</td>\n",
       "      <td>24.645161</td>\n",
       "      <td>0.870968</td>\n",
       "      <td>18.677419</td>\n",
       "      <td>15.052532</td>\n",
       "      <td>15.066667</td>\n",
       "      <td>25.566667</td>\n",
       "      <td>0.733333</td>\n",
       "      <td>8.700000</td>\n",
       "      <td>18.985392</td>\n",
       "      <td>80.90</td>\n",
       "      <td>83.36</td>\n",
       "    </tr>\n",
       "    <tr>\n",
       "      <th>1</th>\n",
       "      <td>2016</td>\n",
       "      <td>137</td>\n",
       "      <td>3113</td>\n",
       "      <td>74</td>\n",
       "      <td>3308</td>\n",
       "      <td>52</td>\n",
       "      <td>2</td>\n",
       "      <td>15</td>\n",
       "      <td>14.709677</td>\n",
       "      <td>22.967742</td>\n",
       "      <td>0.806452</td>\n",
       "      <td>9.258065</td>\n",
       "      <td>15.740817</td>\n",
       "      <td>13.071429</td>\n",
       "      <td>24.607143</td>\n",
       "      <td>0.857143</td>\n",
       "      <td>8.964286</td>\n",
       "      <td>15.618011</td>\n",
       "      <td>91.32</td>\n",
       "      <td>71.42</td>\n",
       "    </tr>\n",
       "    <tr>\n",
       "      <th>2</th>\n",
       "      <td>2016</td>\n",
       "      <td>137</td>\n",
       "      <td>3120</td>\n",
       "      <td>68</td>\n",
       "      <td>3385</td>\n",
       "      <td>57</td>\n",
       "      <td>9</td>\n",
       "      <td>8</td>\n",
       "      <td>13.161290</td>\n",
       "      <td>21.838710</td>\n",
       "      <td>0.612903</td>\n",
       "      <td>3.032258</td>\n",
       "      <td>18.769321</td>\n",
       "      <td>13.062500</td>\n",
       "      <td>25.437500</td>\n",
       "      <td>0.718750</td>\n",
       "      <td>6.812500</td>\n",
       "      <td>15.427732</td>\n",
       "      <td>80.17</td>\n",
       "      <td>82.19</td>\n",
       "    </tr>\n",
       "    <tr>\n",
       "      <th>3</th>\n",
       "      <td>2016</td>\n",
       "      <td>137</td>\n",
       "      <td>3124</td>\n",
       "      <td>89</td>\n",
       "      <td>3225</td>\n",
       "      <td>59</td>\n",
       "      <td>1</td>\n",
       "      <td>16</td>\n",
       "      <td>20.794118</td>\n",
       "      <td>31.176471</td>\n",
       "      <td>0.970588</td>\n",
       "      <td>24.617647</td>\n",
       "      <td>14.340239</td>\n",
       "      <td>15.580645</td>\n",
       "      <td>29.419355</td>\n",
       "      <td>0.709677</td>\n",
       "      <td>10.612903</td>\n",
       "      <td>13.698889</td>\n",
       "      <td>101.59</td>\n",
       "      <td>72.69</td>\n",
       "    </tr>\n",
       "    <tr>\n",
       "      <th>4</th>\n",
       "      <td>2016</td>\n",
       "      <td>137</td>\n",
       "      <td>3177</td>\n",
       "      <td>97</td>\n",
       "      <td>3241</td>\n",
       "      <td>67</td>\n",
       "      <td>6</td>\n",
       "      <td>11</td>\n",
       "      <td>20.909091</td>\n",
       "      <td>25.303030</td>\n",
       "      <td>0.757576</td>\n",
       "      <td>16.272727</td>\n",
       "      <td>12.200842</td>\n",
       "      <td>12.531250</td>\n",
       "      <td>29.062500</td>\n",
       "      <td>0.843750</td>\n",
       "      <td>15.406250</td>\n",
       "      <td>13.530863</td>\n",
       "      <td>90.08</td>\n",
       "      <td>83.04</td>\n",
       "    </tr>\n",
       "  </tbody>\n",
       "</table>\n",
       "</div>"
      ],
      "text/plain": [
       "   Season  DayNum  TeamIdA  ScoreA  TeamIdB  ScoreB  SeedA  SeedB    AstAvgA  \\\n",
       "0    2016     137     3107      61     3196      59     12      5  16.193548   \n",
       "1    2016     137     3113      74     3308      52      2     15  14.709677   \n",
       "2    2016     137     3120      68     3385      57      9      8  13.161290   \n",
       "3    2016     137     3124      89     3225      59      1     16  20.794118   \n",
       "4    2016     137     3177      97     3241      67      6     11  20.909091   \n",
       "\n",
       "      DRAvgA  WinRatioA    GapAvgA    TORateA    AstAvgB     DRAvgB  \\\n",
       "0  24.645161   0.870968  18.677419  15.052532  15.066667  25.566667   \n",
       "1  22.967742   0.806452   9.258065  15.740817  13.071429  24.607143   \n",
       "2  21.838710   0.612903   3.032258  18.769321  13.062500  25.437500   \n",
       "3  31.176471   0.970588  24.617647  14.340239  15.580645  29.419355   \n",
       "4  25.303030   0.757576  16.272727  12.200842  12.531250  29.062500   \n",
       "\n",
       "   WinRatioB    GapAvgB    TORateB  538ratingA  538ratingB  \n",
       "0   0.733333   8.700000  18.985392       80.90       83.36  \n",
       "1   0.857143   8.964286  15.618011       91.32       71.42  \n",
       "2   0.718750   6.812500  15.427732       80.17       82.19  \n",
       "3   0.709677  10.612903  13.698889      101.59       72.69  \n",
       "4   0.843750  15.406250  13.530863       90.08       83.04  "
      ]
     },
     "execution_count": 41,
     "metadata": {},
     "output_type": "execute_result"
    }
   ],
   "source": [
    "df.head()"
   ]
  },
  {
   "cell_type": "markdown",
   "id": "1fde5787",
   "metadata": {
    "papermill": {
     "duration": 0.108126,
     "end_time": "2023-03-16T04:56:27.090159",
     "exception": false,
     "start_time": "2023-03-16T04:56:26.982033",
     "status": "completed"
    },
    "tags": []
   },
   "source": [
    "## RPI\n",
    "### .25*(Team’s Winning Percentage)+.50*(Opponents’  Average Winning Percentage)+0.25*(Opponents’ Opponents’  Average Winning Percentage)"
   ]
  },
  {
   "cell_type": "code",
   "execution_count": 42,
   "id": "a106a0bc",
   "metadata": {
    "execution": {
     "iopub.execute_input": "2023-03-16T04:56:27.313993Z",
     "iopub.status.busy": "2023-03-16T04:56:27.313341Z",
     "iopub.status.idle": "2023-03-16T04:56:27.412407Z",
     "shell.execute_reply": "2023-03-16T04:56:27.412936Z",
     "shell.execute_reply.started": "2023-03-16T04:16:08.559032Z"
    },
    "papermill": {
     "duration": 0.2139,
     "end_time": "2023-03-16T04:56:27.413120",
     "exception": false,
     "start_time": "2023-03-16T04:56:27.199220",
     "status": "completed"
    },
    "tags": []
   },
   "outputs": [],
   "source": [
    "all_stats = pd.read_csv('/kaggle/input/march-machine-learning-mania-2023/WRegularSeasonCompactResults.csv')\n",
    "all_stats = all_stats[all_stats['Season'] >= 2016]"
   ]
  },
  {
   "cell_type": "code",
   "execution_count": 43,
   "id": "ab3516fc",
   "metadata": {
    "execution": {
     "iopub.execute_input": "2023-03-16T04:56:27.632498Z",
     "iopub.status.busy": "2023-03-16T04:56:27.631973Z",
     "iopub.status.idle": "2023-03-16T04:56:27.635985Z",
     "shell.execute_reply": "2023-03-16T04:56:27.636529Z",
     "shell.execute_reply.started": "2023-03-16T04:16:08.936707Z"
    },
    "papermill": {
     "duration": 0.115602,
     "end_time": "2023-03-16T04:56:27.636732",
     "exception": false,
     "start_time": "2023-03-16T04:56:27.521130",
     "status": "completed"
    },
    "tags": []
   },
   "outputs": [],
   "source": [
    "def Average(lst):\n",
    "    return sum(lst) / len(lst)"
   ]
  },
  {
   "cell_type": "code",
   "execution_count": 44,
   "id": "c3d66f48",
   "metadata": {
    "execution": {
     "iopub.execute_input": "2023-03-16T04:56:27.856818Z",
     "iopub.status.busy": "2023-03-16T04:56:27.856193Z",
     "iopub.status.idle": "2023-03-16T04:56:27.860313Z",
     "shell.execute_reply": "2023-03-16T04:56:27.860827Z",
     "shell.execute_reply.started": "2023-03-16T04:16:09.637011Z"
    },
    "papermill": {
     "duration": 0.116247,
     "end_time": "2023-03-16T04:56:27.860988",
     "exception": false,
     "start_time": "2023-03-16T04:56:27.744741",
     "status": "completed"
    },
    "tags": []
   },
   "outputs": [],
   "source": [
    "season_stats = all_stats[all_stats.Season == 2016]"
   ]
  },
  {
   "cell_type": "code",
   "execution_count": 45,
   "id": "7980ca35",
   "metadata": {
    "execution": {
     "iopub.execute_input": "2023-03-16T04:56:28.090217Z",
     "iopub.status.busy": "2023-03-16T04:56:28.089632Z",
     "iopub.status.idle": "2023-03-16T04:56:28.093105Z",
     "shell.execute_reply": "2023-03-16T04:56:28.092622Z",
     "shell.execute_reply.started": "2023-03-16T04:16:10.155123Z"
    },
    "papermill": {
     "duration": 0.12298,
     "end_time": "2023-03-16T04:56:28.093212",
     "exception": false,
     "start_time": "2023-03-16T04:56:27.970232",
     "status": "completed"
    },
    "tags": []
   },
   "outputs": [
    {
     "data": {
      "text/html": [
       "<div>\n",
       "<style scoped>\n",
       "    .dataframe tbody tr th:only-of-type {\n",
       "        vertical-align: middle;\n",
       "    }\n",
       "\n",
       "    .dataframe tbody tr th {\n",
       "        vertical-align: top;\n",
       "    }\n",
       "\n",
       "    .dataframe thead th {\n",
       "        text-align: right;\n",
       "    }\n",
       "</style>\n",
       "<table border=\"1\" class=\"dataframe\">\n",
       "  <thead>\n",
       "    <tr style=\"text-align: right;\">\n",
       "      <th></th>\n",
       "      <th>Season</th>\n",
       "      <th>TeamID</th>\n",
       "      <th>AstAvg</th>\n",
       "      <th>DRAvg</th>\n",
       "      <th>WinRatio</th>\n",
       "      <th>GapAvg</th>\n",
       "      <th>TORate</th>\n",
       "    </tr>\n",
       "  </thead>\n",
       "  <tbody>\n",
       "    <tr>\n",
       "      <th>2071</th>\n",
       "      <td>2016</td>\n",
       "      <td>3101</td>\n",
       "      <td>14.000000</td>\n",
       "      <td>25.120000</td>\n",
       "      <td>0.880000</td>\n",
       "      <td>10.000000</td>\n",
       "      <td>16.977861</td>\n",
       "    </tr>\n",
       "    <tr>\n",
       "      <th>2072</th>\n",
       "      <td>2016</td>\n",
       "      <td>3102</td>\n",
       "      <td>10.133333</td>\n",
       "      <td>21.533333</td>\n",
       "      <td>0.033333</td>\n",
       "      <td>-20.966667</td>\n",
       "      <td>21.605482</td>\n",
       "    </tr>\n",
       "    <tr>\n",
       "      <th>2073</th>\n",
       "      <td>2016</td>\n",
       "      <td>3103</td>\n",
       "      <td>14.161290</td>\n",
       "      <td>27.838710</td>\n",
       "      <td>0.580645</td>\n",
       "      <td>0.225806</td>\n",
       "      <td>14.869458</td>\n",
       "    </tr>\n",
       "    <tr>\n",
       "      <th>2074</th>\n",
       "      <td>2016</td>\n",
       "      <td>3104</td>\n",
       "      <td>10.633333</td>\n",
       "      <td>25.533333</td>\n",
       "      <td>0.500000</td>\n",
       "      <td>5.733333</td>\n",
       "      <td>17.577706</td>\n",
       "    </tr>\n",
       "    <tr>\n",
       "      <th>2075</th>\n",
       "      <td>2016</td>\n",
       "      <td>3105</td>\n",
       "      <td>11.172414</td>\n",
       "      <td>22.931034</td>\n",
       "      <td>0.137931</td>\n",
       "      <td>-19.241379</td>\n",
       "      <td>20.952769</td>\n",
       "    </tr>\n",
       "  </tbody>\n",
       "</table>\n",
       "</div>"
      ],
      "text/plain": [
       "      Season  TeamID     AstAvg      DRAvg  WinRatio     GapAvg     TORate\n",
       "2071    2016    3101  14.000000  25.120000  0.880000  10.000000  16.977861\n",
       "2072    2016    3102  10.133333  21.533333  0.033333 -20.966667  21.605482\n",
       "2073    2016    3103  14.161290  27.838710  0.580645   0.225806  14.869458\n",
       "2074    2016    3104  10.633333  25.533333  0.500000   5.733333  17.577706\n",
       "2075    2016    3105  11.172414  22.931034  0.137931 -19.241379  20.952769"
      ]
     },
     "execution_count": 45,
     "metadata": {},
     "output_type": "execute_result"
    }
   ],
   "source": [
    "df_season = df_features_season[df_features_season.Season == 2016]\n",
    "df_season.head()"
   ]
  },
  {
   "cell_type": "code",
   "execution_count": 46,
   "id": "a7c297c2",
   "metadata": {
    "execution": {
     "iopub.execute_input": "2023-03-16T04:56:28.320599Z",
     "iopub.status.busy": "2023-03-16T04:56:28.319943Z",
     "iopub.status.idle": "2023-03-16T04:56:59.857714Z",
     "shell.execute_reply": "2023-03-16T04:56:59.857140Z",
     "shell.execute_reply.started": "2023-03-16T04:16:11.053359Z"
    },
    "papermill": {
     "duration": 31.654731,
     "end_time": "2023-03-16T04:56:59.857844",
     "exception": false,
     "start_time": "2023-03-16T04:56:28.203113",
     "status": "completed"
    },
    "tags": []
   },
   "outputs": [],
   "source": [
    "#  Calculate OA and OB\n",
    "df_all = pd.DataFrame()\n",
    "for season in [2016, 2017, 2018, 2019, 2020, 2021, 2022, 2023]:\n",
    "    df_season = df_features_season[df_features_season.Season == season].copy()\n",
    "    df_season['OA'] = 0\n",
    "    season_stats = all_stats[all_stats.Season == season]\n",
    "    for team in df_season.TeamID.unique():\n",
    "        ratios = []\n",
    "        if season_stats.loc[season_stats.WTeamID == team].LTeamID.any():\n",
    "            wins = season_stats.loc[season_stats.WTeamID == team]\n",
    "            for team_l in wins.LTeamID.unique():\n",
    "                if team_l in df_season.TeamID.values:\n",
    "                    ratio = df_season.loc[df_season.TeamID == team_l].WinRatio.mean()\n",
    "                    ratios.append(ratio)\n",
    "        if season_stats.loc[season_stats.LTeamID == team].WTeamID.any():\n",
    "            loss = season_stats.loc[season_stats.LTeamID == team]\n",
    "            for team_w in loss.WTeamID.unique():\n",
    "                if team_w in df_season.TeamID.values:\n",
    "                    ratio = df_season.loc[df_season.TeamID == team_w].WinRatio.mean()\n",
    "                    ratios.append(ratio)\n",
    "        if len(ratios) > 0:\n",
    "            df_season.loc[df_season.TeamID == team, 'OA'] = Average(ratios)\n",
    "    df_season = df_season[['Season', 'TeamID', 'OA']].rename(columns={'TeamID': 'TeamIdA'})\n",
    "    df_all = pd.concat([df_all, df_season])\n",
    "df = df.merge(df_all, how = 'left', on = ['Season','TeamIdA'])\n",
    "df_all = df_all.rename(columns = {'TeamIdA':'TeamIdB', 'OA':'OB'})\n",
    "df = df.merge(df_all, how = 'left', on = ['Season','TeamIdB'])\n",
    "df = df.drop_duplicates().reset_index().drop('index', axis=1)"
   ]
  },
  {
   "cell_type": "code",
   "execution_count": 47,
   "id": "945eef3c",
   "metadata": {
    "execution": {
     "iopub.execute_input": "2023-03-16T04:57:00.085779Z",
     "iopub.status.busy": "2023-03-16T04:57:00.085030Z",
     "iopub.status.idle": "2023-03-16T05:03:11.258855Z",
     "shell.execute_reply": "2023-03-16T05:03:11.259316Z",
     "shell.execute_reply.started": "2023-03-16T04:16:49.750747Z"
    },
    "papermill": {
     "duration": 371.293665,
     "end_time": "2023-03-16T05:03:11.259513",
     "exception": false,
     "start_time": "2023-03-16T04:56:59.965848",
     "status": "completed"
    },
    "tags": []
   },
   "outputs": [],
   "source": [
    "# Calculate OOA and OOB\n",
    "df_all = pd.DataFrame()\n",
    "for season in [2016, 2017, 2018, 2019, 2020, 2021, 2022, 2023]:\n",
    "    df_season = df_features_season[df_features_season.Season == season].copy()\n",
    "    df_season['OOA'] = 0\n",
    "    season_stats = all_stats[all_stats.Season == season]\n",
    "    for team in df_season.TeamID.unique():\n",
    "        ratios = []\n",
    "        if season_stats.loc[season_stats.WTeamID == team].LTeamID.any() or season_stats.loc[season_stats.LTeamID == team].WTeamID.any():\n",
    "            wins = season_stats.loc[season_stats.WTeamID == team]\n",
    "            for team_l in wins.LTeamID.unique():\n",
    "                wins_o = season_stats.loc[season_stats.LTeamID == team_l]\n",
    "                for team_l_o in wins_o.WTeamID.unique():\n",
    "                    if team_l_o in df_season.TeamID.values:\n",
    "                        ratio = df_season.loc[df_season.TeamID == team_l_o].WinRatio.mean()\n",
    "                        ratios.append(ratio)\n",
    "            loss = season_stats.loc[season_stats.LTeamID == team]\n",
    "            for team_l in loss.WTeamID.unique():\n",
    "                loss_o = season_stats.loc[season_stats.WTeamID == team_l]\n",
    "                for team_l_o in loss_o.LTeamID.unique():\n",
    "                    if team_l_o in df_season.TeamID.values:\n",
    "                        ratio = df_season.loc[df_season.TeamID == team_l_o].WinRatio.mean()\n",
    "                        ratios.append(ratio)\n",
    "            if len(ratios) > 0:\n",
    "                df_season.loc[df_season.TeamID == team, 'OOA'] = Average(ratios)\n",
    "    df_season = df_season[['Season', 'TeamID', 'OOA']].rename(columns={'TeamID': 'TeamIdA'})\n",
    "    df_all = pd.concat([df_all, df_season])\n",
    "    df_all = df_all.drop_duplicates().reset_index().drop('index', axis=1)\n",
    "df = df.merge(df_all, how = 'left', on = ['Season','TeamIdA'])\n",
    "df_all = df_all.rename(columns = {'TeamIdA':'TeamIdB', 'OOA':'OOB'})\n",
    "df = df.merge(df_all, how = 'left', on = ['Season','TeamIdB'])\n",
    "df = df.drop_duplicates().reset_index().drop('index', axis=1)"
   ]
  },
  {
   "cell_type": "code",
   "execution_count": 48,
   "id": "ba556b71",
   "metadata": {
    "execution": {
     "iopub.execute_input": "2023-03-16T05:03:11.480947Z",
     "iopub.status.busy": "2023-03-16T05:03:11.479963Z",
     "iopub.status.idle": "2023-03-16T05:03:11.488136Z",
     "shell.execute_reply": "2023-03-16T05:03:11.488645Z",
     "shell.execute_reply.started": "2023-03-16T04:25:00.450441Z"
    },
    "papermill": {
     "duration": 0.119656,
     "end_time": "2023-03-16T05:03:11.488805",
     "exception": false,
     "start_time": "2023-03-16T05:03:11.369149",
     "status": "completed"
    },
    "tags": []
   },
   "outputs": [],
   "source": [
    "df['PRIA'] = (df['WinRatioA'] * 0.25) + (df['OA'] * 0.5) + (df['OOA'] * 0.25)\n",
    "df['PRIB'] = (df['WinRatioB'] * 0.25) + (df['OB'] * 0.5) + (df['OOB'] * 0.25)"
   ]
  },
  {
   "cell_type": "code",
   "execution_count": 49,
   "id": "e0b138cb",
   "metadata": {
    "execution": {
     "iopub.execute_input": "2023-03-16T05:03:11.711506Z",
     "iopub.status.busy": "2023-03-16T05:03:11.710779Z",
     "iopub.status.idle": "2023-03-16T05:03:11.720163Z",
     "shell.execute_reply": "2023-03-16T05:03:11.720613Z",
     "shell.execute_reply.started": "2023-03-16T04:25:01.340996Z"
    },
    "papermill": {
     "duration": 0.122068,
     "end_time": "2023-03-16T05:03:11.720848",
     "exception": false,
     "start_time": "2023-03-16T05:03:11.598780",
     "status": "completed"
    },
    "tags": []
   },
   "outputs": [],
   "source": [
    "#  'AstAvg', 'FTAAvg', 'DRAvg', 'TOAvg'\n",
    "cols_to_diff = [\n",
    "    'Seed', 'WinRatio', 'GapAvg', '538rating', 'AstAvg', 'DRAvg', 'TORate', 'PRI'\n",
    "]\n",
    "\n",
    "for col in cols_to_diff:\n",
    "    df[col + 'Diff'] = df[col + 'A'] - df[col + 'B']"
   ]
  },
  {
   "cell_type": "code",
   "execution_count": 50,
   "id": "96d4831c",
   "metadata": {
    "execution": {
     "iopub.execute_input": "2023-03-16T05:03:11.941033Z",
     "iopub.status.busy": "2023-03-16T05:03:11.940261Z",
     "iopub.status.idle": "2023-03-16T05:03:11.971924Z",
     "shell.execute_reply": "2023-03-16T05:03:11.972350Z",
     "shell.execute_reply.started": "2023-03-16T04:25:02.737934Z"
    },
    "papermill": {
     "duration": 0.14329,
     "end_time": "2023-03-16T05:03:11.972508",
     "exception": false,
     "start_time": "2023-03-16T05:03:11.829218",
     "status": "completed"
    },
    "tags": []
   },
   "outputs": [
    {
     "data": {
      "text/html": [
       "<div>\n",
       "<style scoped>\n",
       "    .dataframe tbody tr th:only-of-type {\n",
       "        vertical-align: middle;\n",
       "    }\n",
       "\n",
       "    .dataframe tbody tr th {\n",
       "        vertical-align: top;\n",
       "    }\n",
       "\n",
       "    .dataframe thead th {\n",
       "        text-align: right;\n",
       "    }\n",
       "</style>\n",
       "<table border=\"1\" class=\"dataframe\">\n",
       "  <thead>\n",
       "    <tr style=\"text-align: right;\">\n",
       "      <th></th>\n",
       "      <th>Season</th>\n",
       "      <th>DayNum</th>\n",
       "      <th>TeamIdA</th>\n",
       "      <th>ScoreA</th>\n",
       "      <th>TeamIdB</th>\n",
       "      <th>ScoreB</th>\n",
       "      <th>SeedA</th>\n",
       "      <th>SeedB</th>\n",
       "      <th>AstAvgA</th>\n",
       "      <th>DRAvgA</th>\n",
       "      <th>WinRatioA</th>\n",
       "      <th>GapAvgA</th>\n",
       "      <th>TORateA</th>\n",
       "      <th>AstAvgB</th>\n",
       "      <th>DRAvgB</th>\n",
       "      <th>WinRatioB</th>\n",
       "      <th>GapAvgB</th>\n",
       "      <th>TORateB</th>\n",
       "      <th>538ratingA</th>\n",
       "      <th>538ratingB</th>\n",
       "      <th>OA</th>\n",
       "      <th>OB</th>\n",
       "      <th>OOA</th>\n",
       "      <th>OOB</th>\n",
       "      <th>PRIA</th>\n",
       "      <th>PRIB</th>\n",
       "      <th>SeedDiff</th>\n",
       "      <th>WinRatioDiff</th>\n",
       "      <th>GapAvgDiff</th>\n",
       "      <th>538ratingDiff</th>\n",
       "      <th>AstAvgDiff</th>\n",
       "      <th>DRAvgDiff</th>\n",
       "      <th>TORateDiff</th>\n",
       "      <th>PRIDiff</th>\n",
       "    </tr>\n",
       "  </thead>\n",
       "  <tbody>\n",
       "    <tr>\n",
       "      <th>0</th>\n",
       "      <td>2016</td>\n",
       "      <td>137</td>\n",
       "      <td>3107</td>\n",
       "      <td>61</td>\n",
       "      <td>3196</td>\n",
       "      <td>59</td>\n",
       "      <td>12</td>\n",
       "      <td>5</td>\n",
       "      <td>16.193548</td>\n",
       "      <td>24.645161</td>\n",
       "      <td>0.870968</td>\n",
       "      <td>18.677419</td>\n",
       "      <td>15.052532</td>\n",
       "      <td>15.066667</td>\n",
       "      <td>25.566667</td>\n",
       "      <td>0.733333</td>\n",
       "      <td>8.700000</td>\n",
       "      <td>18.985392</td>\n",
       "      <td>80.90</td>\n",
       "      <td>83.36</td>\n",
       "      <td>0.465564</td>\n",
       "      <td>0.563728</td>\n",
       "      <td>0.546547</td>\n",
       "      <td>0.583374</td>\n",
       "      <td>0.587161</td>\n",
       "      <td>0.611041</td>\n",
       "      <td>7</td>\n",
       "      <td>0.137634</td>\n",
       "      <td>9.977419</td>\n",
       "      <td>-2.46</td>\n",
       "      <td>1.126882</td>\n",
       "      <td>-0.921505</td>\n",
       "      <td>-3.932860</td>\n",
       "      <td>-0.023880</td>\n",
       "    </tr>\n",
       "    <tr>\n",
       "      <th>1</th>\n",
       "      <td>2016</td>\n",
       "      <td>137</td>\n",
       "      <td>3113</td>\n",
       "      <td>74</td>\n",
       "      <td>3308</td>\n",
       "      <td>52</td>\n",
       "      <td>2</td>\n",
       "      <td>15</td>\n",
       "      <td>14.709677</td>\n",
       "      <td>22.967742</td>\n",
       "      <td>0.806452</td>\n",
       "      <td>9.258065</td>\n",
       "      <td>15.740817</td>\n",
       "      <td>13.071429</td>\n",
       "      <td>24.607143</td>\n",
       "      <td>0.857143</td>\n",
       "      <td>8.964286</td>\n",
       "      <td>15.618011</td>\n",
       "      <td>91.32</td>\n",
       "      <td>71.42</td>\n",
       "      <td>0.583962</td>\n",
       "      <td>0.408425</td>\n",
       "      <td>0.611864</td>\n",
       "      <td>0.540788</td>\n",
       "      <td>0.646560</td>\n",
       "      <td>0.553695</td>\n",
       "      <td>-13</td>\n",
       "      <td>-0.050691</td>\n",
       "      <td>0.293779</td>\n",
       "      <td>19.90</td>\n",
       "      <td>1.638249</td>\n",
       "      <td>-1.639401</td>\n",
       "      <td>0.122806</td>\n",
       "      <td>0.092865</td>\n",
       "    </tr>\n",
       "    <tr>\n",
       "      <th>2</th>\n",
       "      <td>2016</td>\n",
       "      <td>137</td>\n",
       "      <td>3120</td>\n",
       "      <td>68</td>\n",
       "      <td>3385</td>\n",
       "      <td>57</td>\n",
       "      <td>9</td>\n",
       "      <td>8</td>\n",
       "      <td>13.161290</td>\n",
       "      <td>21.838710</td>\n",
       "      <td>0.612903</td>\n",
       "      <td>3.032258</td>\n",
       "      <td>18.769321</td>\n",
       "      <td>13.062500</td>\n",
       "      <td>25.437500</td>\n",
       "      <td>0.718750</td>\n",
       "      <td>6.812500</td>\n",
       "      <td>15.427732</td>\n",
       "      <td>80.17</td>\n",
       "      <td>82.19</td>\n",
       "      <td>0.549446</td>\n",
       "      <td>0.510343</td>\n",
       "      <td>0.561986</td>\n",
       "      <td>0.572805</td>\n",
       "      <td>0.568445</td>\n",
       "      <td>0.578060</td>\n",
       "      <td>1</td>\n",
       "      <td>-0.105847</td>\n",
       "      <td>-3.780242</td>\n",
       "      <td>-2.02</td>\n",
       "      <td>0.098790</td>\n",
       "      <td>-3.598790</td>\n",
       "      <td>3.341589</td>\n",
       "      <td>-0.009615</td>\n",
       "    </tr>\n",
       "    <tr>\n",
       "      <th>3</th>\n",
       "      <td>2016</td>\n",
       "      <td>137</td>\n",
       "      <td>3124</td>\n",
       "      <td>89</td>\n",
       "      <td>3225</td>\n",
       "      <td>59</td>\n",
       "      <td>1</td>\n",
       "      <td>16</td>\n",
       "      <td>20.794118</td>\n",
       "      <td>31.176471</td>\n",
       "      <td>0.970588</td>\n",
       "      <td>24.617647</td>\n",
       "      <td>14.340239</td>\n",
       "      <td>15.580645</td>\n",
       "      <td>29.419355</td>\n",
       "      <td>0.709677</td>\n",
       "      <td>10.612903</td>\n",
       "      <td>13.698889</td>\n",
       "      <td>101.59</td>\n",
       "      <td>72.69</td>\n",
       "      <td>0.578084</td>\n",
       "      <td>0.472108</td>\n",
       "      <td>0.652387</td>\n",
       "      <td>0.523931</td>\n",
       "      <td>0.694786</td>\n",
       "      <td>0.544456</td>\n",
       "      <td>-15</td>\n",
       "      <td>0.260911</td>\n",
       "      <td>14.004744</td>\n",
       "      <td>28.90</td>\n",
       "      <td>5.213472</td>\n",
       "      <td>1.757116</td>\n",
       "      <td>0.641350</td>\n",
       "      <td>0.150330</td>\n",
       "    </tr>\n",
       "    <tr>\n",
       "      <th>4</th>\n",
       "      <td>2016</td>\n",
       "      <td>137</td>\n",
       "      <td>3177</td>\n",
       "      <td>97</td>\n",
       "      <td>3241</td>\n",
       "      <td>67</td>\n",
       "      <td>6</td>\n",
       "      <td>11</td>\n",
       "      <td>20.909091</td>\n",
       "      <td>25.303030</td>\n",
       "      <td>0.757576</td>\n",
       "      <td>16.272727</td>\n",
       "      <td>12.200842</td>\n",
       "      <td>12.531250</td>\n",
       "      <td>29.062500</td>\n",
       "      <td>0.843750</td>\n",
       "      <td>15.406250</td>\n",
       "      <td>13.530863</td>\n",
       "      <td>90.08</td>\n",
       "      <td>83.04</td>\n",
       "      <td>0.595631</td>\n",
       "      <td>0.507240</td>\n",
       "      <td>0.564214</td>\n",
       "      <td>0.559464</td>\n",
       "      <td>0.628263</td>\n",
       "      <td>0.604423</td>\n",
       "      <td>-5</td>\n",
       "      <td>-0.086174</td>\n",
       "      <td>0.866477</td>\n",
       "      <td>7.04</td>\n",
       "      <td>8.377841</td>\n",
       "      <td>-3.759470</td>\n",
       "      <td>-1.330021</td>\n",
       "      <td>0.023839</td>\n",
       "    </tr>\n",
       "    <tr>\n",
       "      <th>...</th>\n",
       "      <td>...</td>\n",
       "      <td>...</td>\n",
       "      <td>...</td>\n",
       "      <td>...</td>\n",
       "      <td>...</td>\n",
       "      <td>...</td>\n",
       "      <td>...</td>\n",
       "      <td>...</td>\n",
       "      <td>...</td>\n",
       "      <td>...</td>\n",
       "      <td>...</td>\n",
       "      <td>...</td>\n",
       "      <td>...</td>\n",
       "      <td>...</td>\n",
       "      <td>...</td>\n",
       "      <td>...</td>\n",
       "      <td>...</td>\n",
       "      <td>...</td>\n",
       "      <td>...</td>\n",
       "      <td>...</td>\n",
       "      <td>...</td>\n",
       "      <td>...</td>\n",
       "      <td>...</td>\n",
       "      <td>...</td>\n",
       "      <td>...</td>\n",
       "      <td>...</td>\n",
       "      <td>...</td>\n",
       "      <td>...</td>\n",
       "      <td>...</td>\n",
       "      <td>...</td>\n",
       "      <td>...</td>\n",
       "      <td>...</td>\n",
       "      <td>...</td>\n",
       "      <td>...</td>\n",
       "    </tr>\n",
       "    <tr>\n",
       "      <th>759</th>\n",
       "      <td>2022</td>\n",
       "      <td>147</td>\n",
       "      <td>3301</td>\n",
       "      <td>87</td>\n",
       "      <td>3163</td>\n",
       "      <td>91</td>\n",
       "      <td>1</td>\n",
       "      <td>2</td>\n",
       "      <td>14.250000</td>\n",
       "      <td>27.687500</td>\n",
       "      <td>0.906250</td>\n",
       "      <td>19.343750</td>\n",
       "      <td>12.665039</td>\n",
       "      <td>18.833333</td>\n",
       "      <td>25.133333</td>\n",
       "      <td>0.833333</td>\n",
       "      <td>20.600000</td>\n",
       "      <td>13.825480</td>\n",
       "      <td>101.78</td>\n",
       "      <td>98.35</td>\n",
       "      <td>0.612216</td>\n",
       "      <td>0.593645</td>\n",
       "      <td>0.663449</td>\n",
       "      <td>0.610154</td>\n",
       "      <td>0.698533</td>\n",
       "      <td>0.657694</td>\n",
       "      <td>-1</td>\n",
       "      <td>0.072917</td>\n",
       "      <td>-1.256250</td>\n",
       "      <td>3.43</td>\n",
       "      <td>-4.583333</td>\n",
       "      <td>2.554167</td>\n",
       "      <td>-1.160440</td>\n",
       "      <td>0.040839</td>\n",
       "    </tr>\n",
       "    <tr>\n",
       "      <th>760</th>\n",
       "      <td>2022</td>\n",
       "      <td>147</td>\n",
       "      <td>3276</td>\n",
       "      <td>50</td>\n",
       "      <td>3257</td>\n",
       "      <td>62</td>\n",
       "      <td>3</td>\n",
       "      <td>1</td>\n",
       "      <td>13.964286</td>\n",
       "      <td>24.928571</td>\n",
       "      <td>0.785714</td>\n",
       "      <td>11.178571</td>\n",
       "      <td>15.899835</td>\n",
       "      <td>15.862069</td>\n",
       "      <td>23.793103</td>\n",
       "      <td>0.862069</td>\n",
       "      <td>17.137931</td>\n",
       "      <td>14.505336</td>\n",
       "      <td>90.12</td>\n",
       "      <td>97.40</td>\n",
       "      <td>0.580898</td>\n",
       "      <td>0.563668</td>\n",
       "      <td>0.599719</td>\n",
       "      <td>0.613811</td>\n",
       "      <td>0.636807</td>\n",
       "      <td>0.650804</td>\n",
       "      <td>2</td>\n",
       "      <td>-0.076355</td>\n",
       "      <td>-5.959360</td>\n",
       "      <td>-7.28</td>\n",
       "      <td>-1.897783</td>\n",
       "      <td>1.135468</td>\n",
       "      <td>1.394498</td>\n",
       "      <td>-0.013997</td>\n",
       "    </tr>\n",
       "    <tr>\n",
       "      <th>761</th>\n",
       "      <td>2022</td>\n",
       "      <td>151</td>\n",
       "      <td>3390</td>\n",
       "      <td>58</td>\n",
       "      <td>3163</td>\n",
       "      <td>63</td>\n",
       "      <td>1</td>\n",
       "      <td>2</td>\n",
       "      <td>15.129032</td>\n",
       "      <td>26.419355</td>\n",
       "      <td>0.903226</td>\n",
       "      <td>16.903226</td>\n",
       "      <td>12.880217</td>\n",
       "      <td>18.833333</td>\n",
       "      <td>25.133333</td>\n",
       "      <td>0.833333</td>\n",
       "      <td>20.600000</td>\n",
       "      <td>13.825480</td>\n",
       "      <td>101.83</td>\n",
       "      <td>98.35</td>\n",
       "      <td>0.617215</td>\n",
       "      <td>0.593645</td>\n",
       "      <td>0.639237</td>\n",
       "      <td>0.610154</td>\n",
       "      <td>0.694223</td>\n",
       "      <td>0.657694</td>\n",
       "      <td>-1</td>\n",
       "      <td>0.069892</td>\n",
       "      <td>-3.696774</td>\n",
       "      <td>3.48</td>\n",
       "      <td>-3.704301</td>\n",
       "      <td>1.286022</td>\n",
       "      <td>-0.945262</td>\n",
       "      <td>0.036528</td>\n",
       "    </tr>\n",
       "    <tr>\n",
       "      <th>762</th>\n",
       "      <td>2022</td>\n",
       "      <td>151</td>\n",
       "      <td>3257</td>\n",
       "      <td>59</td>\n",
       "      <td>3376</td>\n",
       "      <td>72</td>\n",
       "      <td>1</td>\n",
       "      <td>1</td>\n",
       "      <td>15.862069</td>\n",
       "      <td>23.793103</td>\n",
       "      <td>0.862069</td>\n",
       "      <td>17.137931</td>\n",
       "      <td>14.505336</td>\n",
       "      <td>14.193548</td>\n",
       "      <td>28.677419</td>\n",
       "      <td>0.935484</td>\n",
       "      <td>19.612903</td>\n",
       "      <td>14.187751</td>\n",
       "      <td>97.40</td>\n",
       "      <td>106.36</td>\n",
       "      <td>0.563668</td>\n",
       "      <td>0.640792</td>\n",
       "      <td>0.613811</td>\n",
       "      <td>0.677779</td>\n",
       "      <td>0.650804</td>\n",
       "      <td>0.723711</td>\n",
       "      <td>0</td>\n",
       "      <td>-0.073415</td>\n",
       "      <td>-2.474972</td>\n",
       "      <td>-8.96</td>\n",
       "      <td>1.668521</td>\n",
       "      <td>-4.884316</td>\n",
       "      <td>0.317585</td>\n",
       "      <td>-0.072907</td>\n",
       "    </tr>\n",
       "    <tr>\n",
       "      <th>763</th>\n",
       "      <td>2022</td>\n",
       "      <td>153</td>\n",
       "      <td>3163</td>\n",
       "      <td>49</td>\n",
       "      <td>3376</td>\n",
       "      <td>64</td>\n",
       "      <td>2</td>\n",
       "      <td>1</td>\n",
       "      <td>18.833333</td>\n",
       "      <td>25.133333</td>\n",
       "      <td>0.833333</td>\n",
       "      <td>20.600000</td>\n",
       "      <td>13.825480</td>\n",
       "      <td>14.193548</td>\n",
       "      <td>28.677419</td>\n",
       "      <td>0.935484</td>\n",
       "      <td>19.612903</td>\n",
       "      <td>14.187751</td>\n",
       "      <td>98.35</td>\n",
       "      <td>106.36</td>\n",
       "      <td>0.593645</td>\n",
       "      <td>0.640792</td>\n",
       "      <td>0.610154</td>\n",
       "      <td>0.677779</td>\n",
       "      <td>0.657694</td>\n",
       "      <td>0.723711</td>\n",
       "      <td>1</td>\n",
       "      <td>-0.102151</td>\n",
       "      <td>0.987097</td>\n",
       "      <td>-8.01</td>\n",
       "      <td>4.639785</td>\n",
       "      <td>-3.544086</td>\n",
       "      <td>-0.362272</td>\n",
       "      <td>-0.066017</td>\n",
       "    </tr>\n",
       "  </tbody>\n",
       "</table>\n",
       "<p>764 rows × 34 columns</p>\n",
       "</div>"
      ],
      "text/plain": [
       "     Season  DayNum  TeamIdA  ScoreA  TeamIdB  ScoreB  SeedA  SeedB  \\\n",
       "0      2016     137     3107      61     3196      59     12      5   \n",
       "1      2016     137     3113      74     3308      52      2     15   \n",
       "2      2016     137     3120      68     3385      57      9      8   \n",
       "3      2016     137     3124      89     3225      59      1     16   \n",
       "4      2016     137     3177      97     3241      67      6     11   \n",
       "..      ...     ...      ...     ...      ...     ...    ...    ...   \n",
       "759    2022     147     3301      87     3163      91      1      2   \n",
       "760    2022     147     3276      50     3257      62      3      1   \n",
       "761    2022     151     3390      58     3163      63      1      2   \n",
       "762    2022     151     3257      59     3376      72      1      1   \n",
       "763    2022     153     3163      49     3376      64      2      1   \n",
       "\n",
       "       AstAvgA     DRAvgA  WinRatioA    GapAvgA    TORateA    AstAvgB  \\\n",
       "0    16.193548  24.645161   0.870968  18.677419  15.052532  15.066667   \n",
       "1    14.709677  22.967742   0.806452   9.258065  15.740817  13.071429   \n",
       "2    13.161290  21.838710   0.612903   3.032258  18.769321  13.062500   \n",
       "3    20.794118  31.176471   0.970588  24.617647  14.340239  15.580645   \n",
       "4    20.909091  25.303030   0.757576  16.272727  12.200842  12.531250   \n",
       "..         ...        ...        ...        ...        ...        ...   \n",
       "759  14.250000  27.687500   0.906250  19.343750  12.665039  18.833333   \n",
       "760  13.964286  24.928571   0.785714  11.178571  15.899835  15.862069   \n",
       "761  15.129032  26.419355   0.903226  16.903226  12.880217  18.833333   \n",
       "762  15.862069  23.793103   0.862069  17.137931  14.505336  14.193548   \n",
       "763  18.833333  25.133333   0.833333  20.600000  13.825480  14.193548   \n",
       "\n",
       "        DRAvgB  WinRatioB    GapAvgB    TORateB  538ratingA  538ratingB  \\\n",
       "0    25.566667   0.733333   8.700000  18.985392       80.90       83.36   \n",
       "1    24.607143   0.857143   8.964286  15.618011       91.32       71.42   \n",
       "2    25.437500   0.718750   6.812500  15.427732       80.17       82.19   \n",
       "3    29.419355   0.709677  10.612903  13.698889      101.59       72.69   \n",
       "4    29.062500   0.843750  15.406250  13.530863       90.08       83.04   \n",
       "..         ...        ...        ...        ...         ...         ...   \n",
       "759  25.133333   0.833333  20.600000  13.825480      101.78       98.35   \n",
       "760  23.793103   0.862069  17.137931  14.505336       90.12       97.40   \n",
       "761  25.133333   0.833333  20.600000  13.825480      101.83       98.35   \n",
       "762  28.677419   0.935484  19.612903  14.187751       97.40      106.36   \n",
       "763  28.677419   0.935484  19.612903  14.187751       98.35      106.36   \n",
       "\n",
       "           OA        OB       OOA       OOB      PRIA      PRIB  SeedDiff  \\\n",
       "0    0.465564  0.563728  0.546547  0.583374  0.587161  0.611041         7   \n",
       "1    0.583962  0.408425  0.611864  0.540788  0.646560  0.553695       -13   \n",
       "2    0.549446  0.510343  0.561986  0.572805  0.568445  0.578060         1   \n",
       "3    0.578084  0.472108  0.652387  0.523931  0.694786  0.544456       -15   \n",
       "4    0.595631  0.507240  0.564214  0.559464  0.628263  0.604423        -5   \n",
       "..        ...       ...       ...       ...       ...       ...       ...   \n",
       "759  0.612216  0.593645  0.663449  0.610154  0.698533  0.657694        -1   \n",
       "760  0.580898  0.563668  0.599719  0.613811  0.636807  0.650804         2   \n",
       "761  0.617215  0.593645  0.639237  0.610154  0.694223  0.657694        -1   \n",
       "762  0.563668  0.640792  0.613811  0.677779  0.650804  0.723711         0   \n",
       "763  0.593645  0.640792  0.610154  0.677779  0.657694  0.723711         1   \n",
       "\n",
       "     WinRatioDiff  GapAvgDiff  538ratingDiff  AstAvgDiff  DRAvgDiff  \\\n",
       "0        0.137634    9.977419          -2.46    1.126882  -0.921505   \n",
       "1       -0.050691    0.293779          19.90    1.638249  -1.639401   \n",
       "2       -0.105847   -3.780242          -2.02    0.098790  -3.598790   \n",
       "3        0.260911   14.004744          28.90    5.213472   1.757116   \n",
       "4       -0.086174    0.866477           7.04    8.377841  -3.759470   \n",
       "..            ...         ...            ...         ...        ...   \n",
       "759      0.072917   -1.256250           3.43   -4.583333   2.554167   \n",
       "760     -0.076355   -5.959360          -7.28   -1.897783   1.135468   \n",
       "761      0.069892   -3.696774           3.48   -3.704301   1.286022   \n",
       "762     -0.073415   -2.474972          -8.96    1.668521  -4.884316   \n",
       "763     -0.102151    0.987097          -8.01    4.639785  -3.544086   \n",
       "\n",
       "     TORateDiff   PRIDiff  \n",
       "0     -3.932860 -0.023880  \n",
       "1      0.122806  0.092865  \n",
       "2      3.341589 -0.009615  \n",
       "3      0.641350  0.150330  \n",
       "4     -1.330021  0.023839  \n",
       "..          ...       ...  \n",
       "759   -1.160440  0.040839  \n",
       "760    1.394498 -0.013997  \n",
       "761   -0.945262  0.036528  \n",
       "762    0.317585 -0.072907  \n",
       "763   -0.362272 -0.066017  \n",
       "\n",
       "[764 rows x 34 columns]"
      ]
     },
     "execution_count": 50,
     "metadata": {},
     "output_type": "execute_result"
    }
   ],
   "source": [
    "df"
   ]
  },
  {
   "cell_type": "markdown",
   "id": "4c959c50",
   "metadata": {
    "papermill": {
     "duration": 0.107951,
     "end_time": "2023-03-16T05:03:12.189731",
     "exception": false,
     "start_time": "2023-03-16T05:03:12.081780",
     "status": "completed"
    },
    "tags": []
   },
   "source": [
    "### Preparing\n",
    "\n",
    "Prepare for Female test data"
   ]
  },
  {
   "cell_type": "code",
   "execution_count": 51,
   "id": "78b2c20a",
   "metadata": {
    "execution": {
     "iopub.execute_input": "2023-03-16T05:03:12.409250Z",
     "iopub.status.busy": "2023-03-16T05:03:12.408625Z",
     "iopub.status.idle": "2023-03-16T05:03:12.511524Z",
     "shell.execute_reply": "2023-03-16T05:03:12.510943Z",
     "shell.execute_reply.started": "2023-03-16T04:25:08.680196Z"
    },
    "papermill": {
     "duration": 0.214218,
     "end_time": "2023-03-16T05:03:12.511693",
     "exception": false,
     "start_time": "2023-03-16T05:03:12.297475",
     "status": "completed"
    },
    "tags": []
   },
   "outputs": [],
   "source": [
    "df_test = pd.read_csv(\"/kaggle/input/march-machine-learning-mania-2023/SampleSubmission2023.csv\")"
   ]
  },
  {
   "cell_type": "code",
   "execution_count": 52,
   "id": "03d8781c",
   "metadata": {
    "execution": {
     "iopub.execute_input": "2023-03-16T05:03:12.745398Z",
     "iopub.status.busy": "2023-03-16T05:03:12.744605Z",
     "iopub.status.idle": "2023-03-16T05:03:13.228491Z",
     "shell.execute_reply": "2023-03-16T05:03:13.227514Z",
     "shell.execute_reply.started": "2023-03-16T04:25:09.430021Z"
    },
    "papermill": {
     "duration": 0.60424,
     "end_time": "2023-03-16T05:03:13.228702",
     "exception": false,
     "start_time": "2023-03-16T05:03:12.624462",
     "status": "completed"
    },
    "tags": []
   },
   "outputs": [],
   "source": [
    "df_test[['Season', 'TeamIdA', 'TeamIdB']] = pd.DataFrame(df_test['ID'].str.split('_').values.tolist(), index = df_test.index)\n",
    "df_test = df_test[df_test.TeamIdA > '3000']\n",
    "df_test['Season'] = pd.to_numeric(df_test.Season)\n",
    "df_test['TeamIdA'] = pd.to_numeric(df_test.TeamIdA)\n",
    "df_test['TeamIdB'] = pd.to_numeric(df_test.TeamIdB)"
   ]
  },
  {
   "cell_type": "code",
   "execution_count": 53,
   "id": "3b76d3b8",
   "metadata": {
    "execution": {
     "iopub.execute_input": "2023-03-16T05:03:13.457390Z",
     "iopub.status.busy": "2023-03-16T05:03:13.456814Z",
     "iopub.status.idle": "2023-03-16T05:03:13.458550Z",
     "shell.execute_reply": "2023-03-16T05:03:13.458056Z",
     "shell.execute_reply.started": "2023-03-15T00:48:30.216872Z"
    },
    "papermill": {
     "duration": 0.118628,
     "end_time": "2023-03-16T05:03:13.458689",
     "exception": false,
     "start_time": "2023-03-16T05:03:13.340061",
     "status": "completed"
    },
    "tags": []
   },
   "outputs": [],
   "source": [
    "# df_test['Season'] = df_test['ID'].apply(lambda x: int(x.split('_')[0]))\n",
    "# df_test['TeamIdA'] = df_test['ID'].apply(lambda x: int(x.split('_')[1]))\n",
    "# df_test['TeamIdB'] = df_test['ID'].apply(lambda x: int(x.split('_')[2]))\n",
    "# df_test = df_test[df_test.TeamIdA.astype(int) < '3000']"
   ]
  },
  {
   "cell_type": "markdown",
   "id": "86f78d9d",
   "metadata": {
    "papermill": {
     "duration": 0.109363,
     "end_time": "2023-03-16T05:03:13.679446",
     "exception": false,
     "start_time": "2023-03-16T05:03:13.570083",
     "status": "completed"
    },
    "tags": []
   },
   "source": [
    "### Seeds"
   ]
  },
  {
   "cell_type": "code",
   "execution_count": 54,
   "id": "e7ecf5c6",
   "metadata": {
    "execution": {
     "iopub.execute_input": "2023-03-16T05:03:13.902357Z",
     "iopub.status.busy": "2023-03-16T05:03:13.901720Z",
     "iopub.status.idle": "2023-03-16T05:03:13.922500Z",
     "shell.execute_reply": "2023-03-16T05:03:13.922978Z",
     "shell.execute_reply.started": "2023-03-16T04:25:11.173373Z"
    },
    "papermill": {
     "duration": 0.135704,
     "end_time": "2023-03-16T05:03:13.923143",
     "exception": false,
     "start_time": "2023-03-16T05:03:13.787439",
     "status": "completed"
    },
    "tags": []
   },
   "outputs": [],
   "source": [
    "df_test = pd.merge(\n",
    "    df_test,\n",
    "    df_seeds,\n",
    "    how='left',\n",
    "    left_on=['Season', 'TeamIdA'],\n",
    "    right_on=['Season', 'TeamID']\n",
    ").drop('TeamID', axis=1).rename(columns={'Seed': 'SeedA'})"
   ]
  },
  {
   "cell_type": "code",
   "execution_count": 55,
   "id": "88acdcab",
   "metadata": {
    "execution": {
     "iopub.execute_input": "2023-03-16T05:03:14.151839Z",
     "iopub.status.busy": "2023-03-16T05:03:14.149691Z",
     "iopub.status.idle": "2023-03-16T05:03:14.176328Z",
     "shell.execute_reply": "2023-03-16T05:03:14.175783Z",
     "shell.execute_reply.started": "2023-03-16T04:25:11.364917Z"
    },
    "papermill": {
     "duration": 0.141445,
     "end_time": "2023-03-16T05:03:14.176446",
     "exception": false,
     "start_time": "2023-03-16T05:03:14.035001",
     "status": "completed"
    },
    "tags": []
   },
   "outputs": [],
   "source": [
    "df_test = pd.merge(\n",
    "    df_test, \n",
    "    df_seeds, \n",
    "    how='left', \n",
    "    left_on=['Season', 'TeamIdB'], \n",
    "    right_on=['Season', 'TeamID']\n",
    ").drop('TeamID', axis=1).rename(columns={'Seed': 'SeedB'})"
   ]
  },
  {
   "cell_type": "code",
   "execution_count": 56,
   "id": "a994357f",
   "metadata": {
    "execution": {
     "iopub.execute_input": "2023-03-16T05:03:14.408945Z",
     "iopub.status.busy": "2023-03-16T05:03:14.408254Z",
     "iopub.status.idle": "2023-03-16T05:03:14.413820Z",
     "shell.execute_reply": "2023-03-16T05:03:14.414216Z",
     "shell.execute_reply.started": "2023-03-16T04:25:12.730123Z"
    },
    "papermill": {
     "duration": 0.12675,
     "end_time": "2023-03-16T05:03:14.414372",
     "exception": false,
     "start_time": "2023-03-16T05:03:14.287622",
     "status": "completed"
    },
    "tags": []
   },
   "outputs": [],
   "source": [
    "df_test = df_test.fillna(value=\"A1\")"
   ]
  },
  {
   "cell_type": "code",
   "execution_count": 57,
   "id": "df03521b",
   "metadata": {
    "execution": {
     "iopub.execute_input": "2023-03-16T05:03:14.636934Z",
     "iopub.status.busy": "2023-03-16T05:03:14.636365Z",
     "iopub.status.idle": "2023-03-16T05:03:14.846223Z",
     "shell.execute_reply": "2023-03-16T05:03:14.845615Z",
     "shell.execute_reply.started": "2023-03-16T04:25:12.929590Z"
    },
    "papermill": {
     "duration": 0.32159,
     "end_time": "2023-03-16T05:03:14.846365",
     "exception": false,
     "start_time": "2023-03-16T05:03:14.524775",
     "status": "completed"
    },
    "tags": []
   },
   "outputs": [],
   "source": [
    "df_test['SeedA'] = df_test['SeedA'].apply(treat_seed)\n",
    "df_test['SeedB'] = df_test['SeedB'].apply(treat_seed)"
   ]
  },
  {
   "cell_type": "code",
   "execution_count": 58,
   "id": "25c1b129",
   "metadata": {
    "execution": {
     "iopub.execute_input": "2023-03-16T05:03:15.070915Z",
     "iopub.status.busy": "2023-03-16T05:03:15.070316Z",
     "iopub.status.idle": "2023-03-16T05:03:15.080249Z",
     "shell.execute_reply": "2023-03-16T05:03:15.080753Z",
     "shell.execute_reply.started": "2023-03-16T04:25:13.485708Z"
    },
    "papermill": {
     "duration": 0.121472,
     "end_time": "2023-03-16T05:03:15.080910",
     "exception": false,
     "start_time": "2023-03-16T05:03:14.959438",
     "status": "completed"
    },
    "tags": []
   },
   "outputs": [
    {
     "data": {
      "text/html": [
       "<div>\n",
       "<style scoped>\n",
       "    .dataframe tbody tr th:only-of-type {\n",
       "        vertical-align: middle;\n",
       "    }\n",
       "\n",
       "    .dataframe tbody tr th {\n",
       "        vertical-align: top;\n",
       "    }\n",
       "\n",
       "    .dataframe thead th {\n",
       "        text-align: right;\n",
       "    }\n",
       "</style>\n",
       "<table border=\"1\" class=\"dataframe\">\n",
       "  <thead>\n",
       "    <tr style=\"text-align: right;\">\n",
       "      <th></th>\n",
       "      <th>ID</th>\n",
       "      <th>Pred</th>\n",
       "      <th>Season</th>\n",
       "      <th>TeamIdA</th>\n",
       "      <th>TeamIdB</th>\n",
       "      <th>SeedA</th>\n",
       "      <th>SeedB</th>\n",
       "    </tr>\n",
       "  </thead>\n",
       "  <tbody>\n",
       "    <tr>\n",
       "      <th>0</th>\n",
       "      <td>2023_3101_3102</td>\n",
       "      <td>0.5</td>\n",
       "      <td>2023</td>\n",
       "      <td>3101</td>\n",
       "      <td>3102</td>\n",
       "      <td>1</td>\n",
       "      <td>1</td>\n",
       "    </tr>\n",
       "    <tr>\n",
       "      <th>1</th>\n",
       "      <td>2023_3101_3103</td>\n",
       "      <td>0.5</td>\n",
       "      <td>2023</td>\n",
       "      <td>3101</td>\n",
       "      <td>3103</td>\n",
       "      <td>1</td>\n",
       "      <td>1</td>\n",
       "    </tr>\n",
       "    <tr>\n",
       "      <th>2</th>\n",
       "      <td>2023_3101_3104</td>\n",
       "      <td>0.5</td>\n",
       "      <td>2023</td>\n",
       "      <td>3101</td>\n",
       "      <td>3104</td>\n",
       "      <td>1</td>\n",
       "      <td>10</td>\n",
       "    </tr>\n",
       "    <tr>\n",
       "      <th>3</th>\n",
       "      <td>2023_3101_3105</td>\n",
       "      <td>0.5</td>\n",
       "      <td>2023</td>\n",
       "      <td>3101</td>\n",
       "      <td>3105</td>\n",
       "      <td>1</td>\n",
       "      <td>1</td>\n",
       "    </tr>\n",
       "    <tr>\n",
       "      <th>4</th>\n",
       "      <td>2023_3101_3106</td>\n",
       "      <td>0.5</td>\n",
       "      <td>2023</td>\n",
       "      <td>3101</td>\n",
       "      <td>3106</td>\n",
       "      <td>1</td>\n",
       "      <td>1</td>\n",
       "    </tr>\n",
       "  </tbody>\n",
       "</table>\n",
       "</div>"
      ],
      "text/plain": [
       "               ID  Pred  Season  TeamIdA  TeamIdB  SeedA  SeedB\n",
       "0  2023_3101_3102   0.5    2023     3101     3102      1      1\n",
       "1  2023_3101_3103   0.5    2023     3101     3103      1      1\n",
       "2  2023_3101_3104   0.5    2023     3101     3104      1     10\n",
       "3  2023_3101_3105   0.5    2023     3101     3105      1      1\n",
       "4  2023_3101_3106   0.5    2023     3101     3106      1      1"
      ]
     },
     "execution_count": 58,
     "metadata": {},
     "output_type": "execute_result"
    }
   ],
   "source": [
    "df_test.head()"
   ]
  },
  {
   "cell_type": "markdown",
   "id": "c9b883b7",
   "metadata": {
    "papermill": {
     "duration": 0.108089,
     "end_time": "2023-03-16T05:03:15.356149",
     "exception": false,
     "start_time": "2023-03-16T05:03:15.248060",
     "status": "completed"
    },
    "tags": []
   },
   "source": [
    "### Season Stats"
   ]
  },
  {
   "cell_type": "code",
   "execution_count": 59,
   "id": "9190b4fb",
   "metadata": {
    "execution": {
     "iopub.execute_input": "2023-03-16T05:03:15.585802Z",
     "iopub.status.busy": "2023-03-16T05:03:15.585221Z",
     "iopub.status.idle": "2023-03-16T05:03:15.604475Z",
     "shell.execute_reply": "2023-03-16T05:03:15.603941Z",
     "shell.execute_reply.started": "2023-03-16T04:25:15.017381Z"
    },
    "papermill": {
     "duration": 0.137542,
     "end_time": "2023-03-16T05:03:15.604619",
     "exception": false,
     "start_time": "2023-03-16T05:03:15.467077",
     "status": "completed"
    },
    "tags": []
   },
   "outputs": [],
   "source": [
    "df_test = pd.merge(\n",
    "    df_test,\n",
    "    df_features_season,\n",
    "    how='left',\n",
    "    left_on=['Season', 'TeamIdA'],\n",
    "    right_on=['Season', 'TeamID']\n",
    ").rename(columns={\n",
    "    'NumWins': 'NumWinsA',\n",
    "    'NumLosses': 'NumLossesA',\n",
    "    'GapWins': 'GapWinsA',\n",
    "    'GapLosses': 'GapLossesA',\n",
    "    'WinRatio': 'WinRatioA',\n",
    "    'GapAvg': 'GapAvgA',\n",
    "    'AstAvg': 'AstAvgA',\n",
    "    'DRAvg': 'DRAvgA',\n",
    "    'TORate': 'TORateA'\n",
    "}).drop(columns='TeamID', axis=1)"
   ]
  },
  {
   "cell_type": "code",
   "execution_count": 60,
   "id": "bbdebcaa",
   "metadata": {
    "execution": {
     "iopub.execute_input": "2023-03-16T05:03:15.832203Z",
     "iopub.status.busy": "2023-03-16T05:03:15.831588Z",
     "iopub.status.idle": "2023-03-16T05:03:15.855907Z",
     "shell.execute_reply": "2023-03-16T05:03:15.855418Z",
     "shell.execute_reply.started": "2023-03-16T04:25:20.055610Z"
    },
    "papermill": {
     "duration": 0.141957,
     "end_time": "2023-03-16T05:03:15.856031",
     "exception": false,
     "start_time": "2023-03-16T05:03:15.714074",
     "status": "completed"
    },
    "tags": []
   },
   "outputs": [],
   "source": [
    "df_test = pd.merge(\n",
    "    df_test,\n",
    "    df_features_season,\n",
    "    how='left',\n",
    "    left_on=['Season', 'TeamIdB'],\n",
    "    right_on=['Season', 'TeamID']\n",
    ").rename(columns={\n",
    "    'NumWins': 'NumWinsB',\n",
    "    'NumLosses': 'NumLossesB',\n",
    "    'GapWins': 'GapWinsB',\n",
    "    'GapLosses': 'GapLossesB',\n",
    "    'WinRatio': 'WinRatioB',\n",
    "    'GapAvg': 'GapAvgB',\n",
    "    'AstAvg': 'AstAvgB',\n",
    "    'DRAvg': 'DRAvgB',\n",
    "    'TORate': 'TORateB'\n",
    "}).drop(columns='TeamID', axis=1)"
   ]
  },
  {
   "cell_type": "code",
   "execution_count": 61,
   "id": "7eaf48b9",
   "metadata": {
    "execution": {
     "iopub.execute_input": "2023-03-16T05:03:16.079964Z",
     "iopub.status.busy": "2023-03-16T05:03:16.079299Z",
     "iopub.status.idle": "2023-03-16T05:03:16.096382Z",
     "shell.execute_reply": "2023-03-16T05:03:16.095937Z",
     "shell.execute_reply.started": "2023-03-16T04:25:21.742063Z"
    },
    "papermill": {
     "duration": 0.131098,
     "end_time": "2023-03-16T05:03:16.096511",
     "exception": false,
     "start_time": "2023-03-16T05:03:15.965413",
     "status": "completed"
    },
    "tags": []
   },
   "outputs": [
    {
     "data": {
      "text/html": [
       "<div>\n",
       "<style scoped>\n",
       "    .dataframe tbody tr th:only-of-type {\n",
       "        vertical-align: middle;\n",
       "    }\n",
       "\n",
       "    .dataframe tbody tr th {\n",
       "        vertical-align: top;\n",
       "    }\n",
       "\n",
       "    .dataframe thead th {\n",
       "        text-align: right;\n",
       "    }\n",
       "</style>\n",
       "<table border=\"1\" class=\"dataframe\">\n",
       "  <thead>\n",
       "    <tr style=\"text-align: right;\">\n",
       "      <th></th>\n",
       "      <th>ID</th>\n",
       "      <th>Pred</th>\n",
       "      <th>Season</th>\n",
       "      <th>TeamIdA</th>\n",
       "      <th>TeamIdB</th>\n",
       "      <th>SeedA</th>\n",
       "      <th>SeedB</th>\n",
       "      <th>AstAvgA</th>\n",
       "      <th>DRAvgA</th>\n",
       "      <th>WinRatioA</th>\n",
       "      <th>GapAvgA</th>\n",
       "      <th>TORateA</th>\n",
       "      <th>AstAvgB</th>\n",
       "      <th>DRAvgB</th>\n",
       "      <th>WinRatioB</th>\n",
       "      <th>GapAvgB</th>\n",
       "      <th>TORateB</th>\n",
       "    </tr>\n",
       "  </thead>\n",
       "  <tbody>\n",
       "    <tr>\n",
       "      <th>0</th>\n",
       "      <td>2023_3101_3102</td>\n",
       "      <td>0.5</td>\n",
       "      <td>2023</td>\n",
       "      <td>3101</td>\n",
       "      <td>3102</td>\n",
       "      <td>1</td>\n",
       "      <td>1</td>\n",
       "      <td>13.925926</td>\n",
       "      <td>22.0</td>\n",
       "      <td>0.444444</td>\n",
       "      <td>2.333333</td>\n",
       "      <td>15.863447</td>\n",
       "      <td>11.724138</td>\n",
       "      <td>19.000000</td>\n",
       "      <td>0.379310</td>\n",
       "      <td>-2.241379</td>\n",
       "      <td>13.792785</td>\n",
       "    </tr>\n",
       "    <tr>\n",
       "      <th>1</th>\n",
       "      <td>2023_3101_3103</td>\n",
       "      <td>0.5</td>\n",
       "      <td>2023</td>\n",
       "      <td>3101</td>\n",
       "      <td>3103</td>\n",
       "      <td>1</td>\n",
       "      <td>1</td>\n",
       "      <td>13.925926</td>\n",
       "      <td>22.0</td>\n",
       "      <td>0.444444</td>\n",
       "      <td>2.333333</td>\n",
       "      <td>15.863447</td>\n",
       "      <td>15.107143</td>\n",
       "      <td>25.392857</td>\n",
       "      <td>0.535714</td>\n",
       "      <td>-0.785714</td>\n",
       "      <td>16.406953</td>\n",
       "    </tr>\n",
       "    <tr>\n",
       "      <th>2</th>\n",
       "      <td>2023_3101_3104</td>\n",
       "      <td>0.5</td>\n",
       "      <td>2023</td>\n",
       "      <td>3101</td>\n",
       "      <td>3104</td>\n",
       "      <td>1</td>\n",
       "      <td>10</td>\n",
       "      <td>13.925926</td>\n",
       "      <td>22.0</td>\n",
       "      <td>0.444444</td>\n",
       "      <td>2.333333</td>\n",
       "      <td>15.863447</td>\n",
       "      <td>13.200000</td>\n",
       "      <td>22.600000</td>\n",
       "      <td>0.666667</td>\n",
       "      <td>10.100000</td>\n",
       "      <td>16.201215</td>\n",
       "    </tr>\n",
       "    <tr>\n",
       "      <th>3</th>\n",
       "      <td>2023_3101_3105</td>\n",
       "      <td>0.5</td>\n",
       "      <td>2023</td>\n",
       "      <td>3101</td>\n",
       "      <td>3105</td>\n",
       "      <td>1</td>\n",
       "      <td>1</td>\n",
       "      <td>13.925926</td>\n",
       "      <td>22.0</td>\n",
       "      <td>0.444444</td>\n",
       "      <td>2.333333</td>\n",
       "      <td>15.863447</td>\n",
       "      <td>9.517241</td>\n",
       "      <td>23.793103</td>\n",
       "      <td>0.482759</td>\n",
       "      <td>-4.517241</td>\n",
       "      <td>17.954909</td>\n",
       "    </tr>\n",
       "    <tr>\n",
       "      <th>4</th>\n",
       "      <td>2023_3101_3106</td>\n",
       "      <td>0.5</td>\n",
       "      <td>2023</td>\n",
       "      <td>3101</td>\n",
       "      <td>3106</td>\n",
       "      <td>1</td>\n",
       "      <td>1</td>\n",
       "      <td>13.925926</td>\n",
       "      <td>22.0</td>\n",
       "      <td>0.444444</td>\n",
       "      <td>2.333333</td>\n",
       "      <td>15.863447</td>\n",
       "      <td>11.333333</td>\n",
       "      <td>20.466667</td>\n",
       "      <td>0.500000</td>\n",
       "      <td>-7.500000</td>\n",
       "      <td>18.842404</td>\n",
       "    </tr>\n",
       "  </tbody>\n",
       "</table>\n",
       "</div>"
      ],
      "text/plain": [
       "               ID  Pred  Season  TeamIdA  TeamIdB  SeedA  SeedB    AstAvgA  \\\n",
       "0  2023_3101_3102   0.5    2023     3101     3102      1      1  13.925926   \n",
       "1  2023_3101_3103   0.5    2023     3101     3103      1      1  13.925926   \n",
       "2  2023_3101_3104   0.5    2023     3101     3104      1     10  13.925926   \n",
       "3  2023_3101_3105   0.5    2023     3101     3105      1      1  13.925926   \n",
       "4  2023_3101_3106   0.5    2023     3101     3106      1      1  13.925926   \n",
       "\n",
       "   DRAvgA  WinRatioA   GapAvgA    TORateA    AstAvgB     DRAvgB  WinRatioB  \\\n",
       "0    22.0   0.444444  2.333333  15.863447  11.724138  19.000000   0.379310   \n",
       "1    22.0   0.444444  2.333333  15.863447  15.107143  25.392857   0.535714   \n",
       "2    22.0   0.444444  2.333333  15.863447  13.200000  22.600000   0.666667   \n",
       "3    22.0   0.444444  2.333333  15.863447   9.517241  23.793103   0.482759   \n",
       "4    22.0   0.444444  2.333333  15.863447  11.333333  20.466667   0.500000   \n",
       "\n",
       "     GapAvgB    TORateB  \n",
       "0  -2.241379  13.792785  \n",
       "1  -0.785714  16.406953  \n",
       "2  10.100000  16.201215  \n",
       "3  -4.517241  17.954909  \n",
       "4  -7.500000  18.842404  "
      ]
     },
     "execution_count": 61,
     "metadata": {},
     "output_type": "execute_result"
    }
   ],
   "source": [
    "df_test.head()"
   ]
  },
  {
   "cell_type": "markdown",
   "id": "ae10544a",
   "metadata": {
    "papermill": {
     "duration": 0.110958,
     "end_time": "2023-03-16T05:03:16.318303",
     "exception": false,
     "start_time": "2023-03-16T05:03:16.207345",
     "status": "completed"
    },
    "tags": []
   },
   "source": [
    "### Ratings"
   ]
  },
  {
   "cell_type": "code",
   "execution_count": 62,
   "id": "2ee61208",
   "metadata": {
    "execution": {
     "iopub.execute_input": "2023-03-16T05:03:16.552213Z",
     "iopub.status.busy": "2023-03-16T05:03:16.548880Z",
     "iopub.status.idle": "2023-03-16T05:03:16.577266Z",
     "shell.execute_reply": "2023-03-16T05:03:16.576748Z",
     "shell.execute_reply.started": "2023-03-16T04:25:23.096637Z"
    },
    "papermill": {
     "duration": 0.146387,
     "end_time": "2023-03-16T05:03:16.577396",
     "exception": false,
     "start_time": "2023-03-16T05:03:16.431009",
     "status": "completed"
    },
    "tags": []
   },
   "outputs": [],
   "source": [
    "df_test = pd.merge(\n",
    "    df_test,\n",
    "    df_538,\n",
    "    how='left',\n",
    "    left_on=['Season', 'TeamIdA'],\n",
    "    right_on=['Season', 'TeamID']\n",
    ").drop('TeamID', axis=1).rename(columns={'538rating': '538ratingA'})"
   ]
  },
  {
   "cell_type": "code",
   "execution_count": 63,
   "id": "497af20f",
   "metadata": {
    "execution": {
     "iopub.execute_input": "2023-03-16T05:03:16.802986Z",
     "iopub.status.busy": "2023-03-16T05:03:16.802298Z",
     "iopub.status.idle": "2023-03-16T05:03:16.830522Z",
     "shell.execute_reply": "2023-03-16T05:03:16.831033Z",
     "shell.execute_reply.started": "2023-03-16T04:25:26.126710Z"
    },
    "papermill": {
     "duration": 0.142769,
     "end_time": "2023-03-16T05:03:16.831192",
     "exception": false,
     "start_time": "2023-03-16T05:03:16.688423",
     "status": "completed"
    },
    "tags": []
   },
   "outputs": [],
   "source": [
    "df_test = pd.merge(\n",
    "    df_test,\n",
    "    df_538,\n",
    "    how='left',\n",
    "    left_on=['Season', 'TeamIdB'],\n",
    "    right_on=['Season', 'TeamID']\n",
    ").drop('TeamID', axis=1).rename(columns={'538rating': '538ratingB'})"
   ]
  },
  {
   "cell_type": "code",
   "execution_count": 64,
   "id": "aaf7ad69",
   "metadata": {
    "execution": {
     "iopub.execute_input": "2023-03-16T05:03:17.055544Z",
     "iopub.status.busy": "2023-03-16T05:03:17.054887Z",
     "iopub.status.idle": "2023-03-16T05:03:21.398993Z",
     "shell.execute_reply": "2023-03-16T05:03:21.398471Z",
     "shell.execute_reply.started": "2023-03-16T04:25:30.419622Z"
    },
    "papermill": {
     "duration": 4.456607,
     "end_time": "2023-03-16T05:03:21.399127",
     "exception": false,
     "start_time": "2023-03-16T05:03:16.942520",
     "status": "completed"
    },
    "tags": []
   },
   "outputs": [],
   "source": [
    "df_season = df_features_season[df_features_season.Season == 2023].copy()\n",
    "df_season['OA'] = 0\n",
    "season_stats = all_stats[all_stats.Season == 2023]\n",
    "for team in df_season.TeamID.unique():\n",
    "    ratios = []\n",
    "    if season_stats.loc[season_stats.WTeamID == team].LTeamID.any():\n",
    "        wins = season_stats.loc[season_stats.WTeamID == team]\n",
    "        for team_l in wins.LTeamID.unique():\n",
    "            if team_l in df_season.TeamID.values:\n",
    "                ratio = df_season.loc[df_season.TeamID == team_l].WinRatio.mean()\n",
    "                ratios.append(ratio)\n",
    "    if season_stats.loc[season_stats.LTeamID == team].WTeamID.any():\n",
    "        loss = season_stats.loc[season_stats.LTeamID == team]\n",
    "        for team_w in loss.WTeamID.unique():\n",
    "            if team_w in df_season.TeamID.values:\n",
    "                ratio = df_season.loc[df_season.TeamID == team_w].WinRatio.mean()\n",
    "                ratios.append(ratio)\n",
    "    if len(ratios) > 0:\n",
    "        df_season.loc[df_season.TeamID == team, 'OA'] = Average(ratios)\n",
    "df_season = df_season[['Season', 'TeamID', 'OA']].rename(columns={'TeamID': 'TeamIdA'})\n",
    "df_test = df_test.merge(df_season, how = 'left', on = ['Season','TeamIdA'])\n",
    "df_season = df_season.rename(columns = {'TeamIdA':'TeamIdB', 'OA':'OB'})\n",
    "df_test = df_test.merge(df_season, how = 'left', on = ['Season','TeamIdB'])\n",
    "df_test = df_test.drop_duplicates().reset_index().drop('index', axis=1)"
   ]
  },
  {
   "cell_type": "code",
   "execution_count": 65,
   "id": "6e3c255c",
   "metadata": {
    "execution": {
     "iopub.execute_input": "2023-03-16T05:03:21.631091Z",
     "iopub.status.busy": "2023-03-16T05:03:21.630432Z",
     "iopub.status.idle": "2023-03-16T05:04:13.227277Z",
     "shell.execute_reply": "2023-03-16T05:04:13.226795Z",
     "shell.execute_reply.started": "2023-03-16T04:25:35.809990Z"
    },
    "papermill": {
     "duration": 51.717061,
     "end_time": "2023-03-16T05:04:13.227397",
     "exception": false,
     "start_time": "2023-03-16T05:03:21.510336",
     "status": "completed"
    },
    "tags": []
   },
   "outputs": [],
   "source": [
    "df_season = df_features_season[df_features_season.Season == 2023].copy()\n",
    "df_season['OOA'] = 0\n",
    "season_stats = all_stats[all_stats.Season == 2023]\n",
    "for team in df_season.TeamID.unique():\n",
    "    ratios = []\n",
    "    if season_stats.loc[season_stats.WTeamID == team].LTeamID.any() or season_stats.loc[season_stats.LTeamID == team].WTeamID.any():\n",
    "        wins = season_stats.loc[season_stats.WTeamID == team]\n",
    "        for team_l in wins.LTeamID.unique():\n",
    "            wins_o = season_stats.loc[season_stats.LTeamID == team_l]\n",
    "            for team_l_o in wins_o.WTeamID.unique():\n",
    "                if team_l_o in df_season.TeamID.values:\n",
    "                    ratio = df_season.loc[df_season.TeamID == team_l_o].WinRatio.mean()\n",
    "                    ratios.append(ratio)\n",
    "        loss = season_stats.loc[season_stats.LTeamID == team]\n",
    "        for team_l in loss.WTeamID.unique():\n",
    "            loss_o = season_stats.loc[season_stats.WTeamID == team_l]\n",
    "            for team_l_o in loss_o.LTeamID.unique():\n",
    "                if team_l_o in df_season.TeamID.values:\n",
    "                    ratio = df_season.loc[df_season.TeamID == team_l_o].WinRatio.mean()\n",
    "                    ratios.append(ratio)\n",
    "        if len(ratios) > 0:\n",
    "            df_season.loc[df_season.TeamID == team, 'OOA'] = Average(ratios)\n",
    "df_season = df_season[['Season', 'TeamID', 'OOA']].rename(columns={'TeamID': 'TeamIdA'})\n",
    "df_test = df_test.merge(df_season, how = 'left', on = ['Season','TeamIdA'])\n",
    "df_test = df_test.drop_duplicates().reset_index().drop('index', axis=1)\n",
    "df_season = df_season.rename(columns = {'TeamIdA':'TeamIdB', 'OOA':'OOB'})\n",
    "df_test = df_test.merge(df_season, how = 'left', on = ['Season','TeamIdB'])\n",
    "df_test = df_test.drop_duplicates().reset_index().drop('index', axis=1)"
   ]
  },
  {
   "cell_type": "code",
   "execution_count": 66,
   "id": "c2428c89",
   "metadata": {
    "execution": {
     "iopub.execute_input": "2023-03-16T05:04:13.455694Z",
     "iopub.status.busy": "2023-03-16T05:04:13.454788Z",
     "iopub.status.idle": "2023-03-16T05:04:13.459929Z",
     "shell.execute_reply": "2023-03-16T05:04:13.460347Z",
     "shell.execute_reply.started": "2023-03-16T04:27:06.098500Z"
    },
    "papermill": {
     "duration": 0.123173,
     "end_time": "2023-03-16T05:04:13.460497",
     "exception": false,
     "start_time": "2023-03-16T05:04:13.337324",
     "status": "completed"
    },
    "tags": []
   },
   "outputs": [],
   "source": [
    "df_test['PRIA'] = (df_test['WinRatioA'] * 0.25) + (df_test['OA'] * 0.5) + (df_test['OOA'] * 0.25)\n",
    "df_test['PRIB'] = (df_test['WinRatioB'] * 0.25) + (df_test['OB'] * 0.5) + (df_test['OOB'] * 0.25)"
   ]
  },
  {
   "cell_type": "markdown",
   "id": "52637018",
   "metadata": {
    "papermill": {
     "duration": 0.111355,
     "end_time": "2023-03-16T05:04:13.685679",
     "exception": false,
     "start_time": "2023-03-16T05:04:13.574324",
     "status": "completed"
    },
    "tags": []
   },
   "source": [
    "### Differences"
   ]
  },
  {
   "cell_type": "code",
   "execution_count": 67,
   "id": "d5a907b6",
   "metadata": {
    "execution": {
     "iopub.execute_input": "2023-03-16T05:04:13.911267Z",
     "iopub.status.busy": "2023-03-16T05:04:13.910589Z",
     "iopub.status.idle": "2023-03-16T05:04:13.919743Z",
     "shell.execute_reply": "2023-03-16T05:04:13.920229Z",
     "shell.execute_reply.started": "2023-03-16T04:27:08.088737Z"
    },
    "papermill": {
     "duration": 0.12437,
     "end_time": "2023-03-16T05:04:13.920694",
     "exception": false,
     "start_time": "2023-03-16T05:04:13.796324",
     "status": "completed"
    },
    "tags": []
   },
   "outputs": [],
   "source": [
    "for col in cols_to_diff:\n",
    "    df_test[col + 'Diff'] = df_test[col + 'A'] - df_test[col + 'B']"
   ]
  },
  {
   "cell_type": "code",
   "execution_count": 68,
   "id": "9516c054",
   "metadata": {
    "execution": {
     "iopub.execute_input": "2023-03-16T05:04:14.143256Z",
     "iopub.status.busy": "2023-03-16T05:04:14.142534Z",
     "iopub.status.idle": "2023-03-16T05:04:14.146067Z",
     "shell.execute_reply": "2023-03-16T05:04:14.146497Z",
     "shell.execute_reply.started": "2023-03-13T23:15:06.761498Z"
    },
    "papermill": {
     "duration": 0.115966,
     "end_time": "2023-03-16T05:04:14.146671",
     "exception": false,
     "start_time": "2023-03-16T05:04:14.030705",
     "status": "completed"
    },
    "tags": []
   },
   "outputs": [],
   "source": [
    "# kenpom = pd.read_csv('/kaggle/input/kenneth-pomeroy-data-scraper-no-leakage-update')"
   ]
  },
  {
   "cell_type": "markdown",
   "id": "646b92ad",
   "metadata": {
    "papermill": {
     "duration": 0.111163,
     "end_time": "2023-03-16T05:04:14.367892",
     "exception": false,
     "start_time": "2023-03-16T05:04:14.256729",
     "status": "completed"
    },
    "tags": []
   },
   "source": [
    "## Target"
   ]
  },
  {
   "cell_type": "code",
   "execution_count": 69,
   "id": "38a59e29",
   "metadata": {
    "execution": {
     "iopub.execute_input": "2023-03-16T05:04:14.597771Z",
     "iopub.status.busy": "2023-03-16T05:04:14.597040Z",
     "iopub.status.idle": "2023-03-16T05:04:14.600068Z",
     "shell.execute_reply": "2023-03-16T05:04:14.599386Z",
     "shell.execute_reply.started": "2023-03-16T04:27:11.687452Z"
    },
    "papermill": {
     "duration": 0.120427,
     "end_time": "2023-03-16T05:04:14.600240",
     "exception": false,
     "start_time": "2023-03-16T05:04:14.479813",
     "status": "completed"
    },
    "tags": []
   },
   "outputs": [],
   "source": [
    "df['ScoreDiff'] = df['ScoreA'] - df['ScoreB']\n",
    "df['WinA'] = (df['ScoreDiff'] > 0).astype(int)"
   ]
  },
  {
   "cell_type": "markdown",
   "id": "e6f0f0be",
   "metadata": {
    "papermill": {
     "duration": 0.110637,
     "end_time": "2023-03-16T05:04:14.824777",
     "exception": false,
     "start_time": "2023-03-16T05:04:14.714140",
     "status": "completed"
    },
    "tags": []
   },
   "source": [
    "# Modeling"
   ]
  },
  {
   "cell_type": "code",
   "execution_count": 70,
   "id": "db9451b2",
   "metadata": {
    "execution": {
     "iopub.execute_input": "2023-03-16T05:04:15.051304Z",
     "iopub.status.busy": "2023-03-16T05:04:15.050739Z",
     "iopub.status.idle": "2023-03-16T05:04:15.053980Z",
     "shell.execute_reply": "2023-03-16T05:04:15.054448Z",
     "shell.execute_reply.started": "2023-03-16T04:31:02.281132Z"
    },
    "papermill": {
     "duration": 0.118285,
     "end_time": "2023-03-16T05:04:15.054611",
     "exception": false,
     "start_time": "2023-03-16T05:04:14.936326",
     "status": "completed"
    },
    "tags": []
   },
   "outputs": [],
   "source": [
    "features = [\n",
    "    'SeedDiff',\n",
    "    '538ratingDiff',\n",
    "    'WinRatioDiff', \n",
    "    'GapAvgDiff', \n",
    "    'PRIDiff',\n",
    "    'TORateDiff',\n",
    "    'DRAvgDiff',\n",
    "#     'AstAvgDiff',\n",
    "#     'FTAAvgDiff',\n",
    "#     'TOAvgDiff',\n",
    "#     'PSMDiff'\n",
    "]"
   ]
  },
  {
   "cell_type": "code",
   "execution_count": 71,
   "id": "855b177a",
   "metadata": {
    "execution": {
     "iopub.execute_input": "2023-03-16T05:04:15.277432Z",
     "iopub.status.busy": "2023-03-16T05:04:15.276262Z",
     "iopub.status.idle": "2023-03-16T05:04:15.280930Z",
     "shell.execute_reply": "2023-03-16T05:04:15.281367Z",
     "shell.execute_reply.started": "2023-03-16T04:27:27.030933Z"
    },
    "papermill": {
     "duration": 0.117893,
     "end_time": "2023-03-16T05:04:15.281518",
     "exception": false,
     "start_time": "2023-03-16T05:04:15.163625",
     "status": "completed"
    },
    "tags": []
   },
   "outputs": [],
   "source": [
    "def rescale(features, df_train, df_val, df_test=None):\n",
    "    min_ = df_train[features].min()\n",
    "    max_ = df_train[features].max()\n",
    "    \n",
    "    df_train[features] = (df_train[features] - min_) / (max_ - min_)\n",
    "    df_val[features] = (df_val[features] - min_) / (max_ - min_)\n",
    "    \n",
    "    if df_test is not None:\n",
    "        df_test[features] = (df_test[features] - min_) / (max_ - min_)\n",
    "        \n",
    "    return df_train, df_val, df_test"
   ]
  },
  {
   "cell_type": "code",
   "execution_count": 72,
   "id": "9454d2c5",
   "metadata": {
    "execution": {
     "iopub.execute_input": "2023-03-16T05:04:15.503446Z",
     "iopub.status.busy": "2023-03-16T05:04:15.502898Z",
     "iopub.status.idle": "2023-03-16T05:04:15.505681Z",
     "shell.execute_reply": "2023-03-16T05:04:15.506183Z",
     "shell.execute_reply.started": "2023-03-07T20:43:07.913629Z"
    },
    "papermill": {
     "duration": 0.116152,
     "end_time": "2023-03-16T05:04:15.506349",
     "exception": false,
     "start_time": "2023-03-16T05:04:15.390197",
     "status": "completed"
    },
    "tags": []
   },
   "outputs": [],
   "source": [
    "# df_val = df[df['Season'] == 2020].reset_index(drop=True).copy()\n",
    "# df_train = df[df['Season'] < 2020].reset_index(drop=True).copy()\n",
    "# rescale(features, df_train, df_val, df_test)"
   ]
  },
  {
   "cell_type": "markdown",
   "id": "669d6a5f",
   "metadata": {
    "papermill": {
     "duration": 0.113586,
     "end_time": "2023-03-16T05:04:15.732402",
     "exception": false,
     "start_time": "2023-03-16T05:04:15.618816",
     "status": "completed"
    },
    "tags": []
   },
   "source": [
    "# Cross Validation\n",
    "- Validate on season `n`, for `n` in the 3 last seasons. \n",
    "- Train on earlier seasons. First available season is 2016 because of the FiveThirtyEight ratings.\n",
    "- Pipeline support classification (predict the team that wins) and regression (predict the score gap), but classification worked better on CV."
   ]
  },
  {
   "cell_type": "code",
   "execution_count": 73,
   "id": "18de4f3d",
   "metadata": {
    "execution": {
     "iopub.execute_input": "2023-03-16T05:04:15.958937Z",
     "iopub.status.busy": "2023-03-16T05:04:15.958143Z",
     "iopub.status.idle": "2023-03-16T05:04:16.162020Z",
     "shell.execute_reply": "2023-03-16T05:04:16.162460Z",
     "shell.execute_reply.started": "2023-03-16T04:27:29.111347Z"
    },
    "papermill": {
     "duration": 0.318828,
     "end_time": "2023-03-16T05:04:16.162663",
     "exception": false,
     "start_time": "2023-03-16T05:04:15.843835",
     "status": "completed"
    },
    "tags": []
   },
   "outputs": [],
   "source": [
    "import sklearn\n",
    "from sklearn.calibration import calibration_curve\n",
    "import matplotlib.lines as line\n",
    "from sklearn.metrics import brier_score_loss\n",
    "from sklearn.linear_model import LogisticRegressionCV\n",
    "\n",
    "\n",
    "from sklearn.calibration import CalibratedClassifierCV\n",
    "from sklearn.model_selection import GridSearchCV\n",
    "from sklearn.pipeline import Pipeline\n",
    "from sklearn.ensemble import RandomForestClassifier\n",
    "from xgboost import XGBClassifier"
   ]
  },
  {
   "cell_type": "code",
   "execution_count": 74,
   "id": "e113edef",
   "metadata": {
    "execution": {
     "iopub.execute_input": "2023-03-16T05:04:16.387606Z",
     "iopub.status.busy": "2023-03-16T05:04:16.386883Z",
     "iopub.status.idle": "2023-03-16T05:04:16.389195Z",
     "shell.execute_reply": "2023-03-16T05:04:16.388772Z",
     "shell.execute_reply.started": "2023-03-16T04:27:34.657657Z"
    },
    "papermill": {
     "duration": 0.116844,
     "end_time": "2023-03-16T05:04:16.389306",
     "exception": false,
     "start_time": "2023-03-16T05:04:16.272462",
     "status": "completed"
    },
    "tags": []
   },
   "outputs": [],
   "source": [
    "# from xgboost import cv\n",
    "# from hyperopt import STATUS_OK, Trials, fmin, hp, tpe\n",
    "# from sklearn.metrics import accuracy_score\n",
    "# from sklearn.metrics import mean_squared_error\n",
    "\n",
    "\n",
    "# space={'max_depth': hp.quniform(\"max_depth\", 3, 18, 1),\n",
    "#         'min_child_weight' : hp.quniform('min_child_weight', 0, 10, 1),\n",
    "#         'n_estimators': 180,\n",
    "#         'seed': 0\n",
    "#     }"
   ]
  },
  {
   "cell_type": "code",
   "execution_count": 75,
   "id": "92ad55cc",
   "metadata": {
    "execution": {
     "iopub.execute_input": "2023-03-16T05:04:16.612456Z",
     "iopub.status.busy": "2023-03-16T05:04:16.611874Z",
     "iopub.status.idle": "2023-03-16T05:04:16.615192Z",
     "shell.execute_reply": "2023-03-16T05:04:16.615599Z",
     "shell.execute_reply.started": "2023-03-16T04:27:34.967348Z"
    },
    "papermill": {
     "duration": 0.115247,
     "end_time": "2023-03-16T05:04:16.615739",
     "exception": false,
     "start_time": "2023-03-16T05:04:16.500492",
     "status": "completed"
    },
    "tags": []
   },
   "outputs": [],
   "source": [
    "# def objective(space):\n",
    "#     target = \"WinA\"\n",
    "#     model = XGBClassifier(n_estimators =space['n_estimators'], \n",
    "#                                       max_depth = int(space['max_depth']), \n",
    "#                                       min_child_weight=int(space['min_child_weight']),\n",
    "#                                       colsample_bytree=int(space['colsample_bytree']))\n",
    "                \n",
    "#     evaluation = [(df_val[features], df_val[target])]\n",
    "                \n",
    "#     model.fit(df_train[features], df_train[target], eval_set=evaluation, early_stopping_rounds=100, verbose=False)\n",
    "    \n",
    "#     pred = model.predict(df_val[features])\n",
    "# #     loss = brier_score_loss(df_val[target], pred>0.5)\n",
    "#     accuracy = accuracy_score(df_val[target], pred>0.5)\n",
    "    \n",
    "#     print (\"SCORE:\", accuracy)\n",
    "#     return {'loss': -accuracy, 'status': STATUS_OK }"
   ]
  },
  {
   "cell_type": "code",
   "execution_count": 76,
   "id": "8f289b62",
   "metadata": {
    "execution": {
     "iopub.execute_input": "2023-03-16T05:04:16.857477Z",
     "iopub.status.busy": "2023-03-16T05:04:16.856982Z",
     "iopub.status.idle": "2023-03-16T05:04:16.859303Z",
     "shell.execute_reply": "2023-03-16T05:04:16.859748Z",
     "shell.execute_reply.started": "2023-03-13T21:27:40.943712Z"
    },
    "papermill": {
     "duration": 0.121218,
     "end_time": "2023-03-16T05:04:16.859876",
     "exception": false,
     "start_time": "2023-03-16T05:04:16.738658",
     "status": "completed"
    },
    "tags": []
   },
   "outputs": [],
   "source": [
    "# print(\"The best hyperparameters are : \",\"\\n\")\n",
    "# print(best_hyperparams)"
   ]
  },
  {
   "cell_type": "code",
   "execution_count": 77,
   "id": "41b1ef76",
   "metadata": {
    "execution": {
     "iopub.execute_input": "2023-03-16T05:04:17.091196Z",
     "iopub.status.busy": "2023-03-16T05:04:17.089445Z",
     "iopub.status.idle": "2023-03-16T05:04:17.093274Z",
     "shell.execute_reply": "2023-03-16T05:04:17.093797Z",
     "shell.execute_reply.started": "2023-03-16T04:27:36.713041Z"
    },
    "papermill": {
     "duration": 0.120548,
     "end_time": "2023-03-16T05:04:17.093976",
     "exception": false,
     "start_time": "2023-03-16T05:04:16.973428",
     "status": "completed"
    },
    "tags": []
   },
   "outputs": [],
   "source": [
    "import gc\n",
    "from sklearn.isotonic import IsotonicRegression \n",
    "from sklearn.model_selection import GridSearchCV\n",
    "from sklearn.metrics import make_scorer"
   ]
  },
  {
   "cell_type": "code",
   "execution_count": 78,
   "id": "da9af8c2",
   "metadata": {
    "execution": {
     "iopub.execute_input": "2023-03-16T05:04:17.322140Z",
     "iopub.status.busy": "2023-03-16T05:04:17.321277Z",
     "iopub.status.idle": "2023-03-16T05:04:17.324558Z",
     "shell.execute_reply": "2023-03-16T05:04:17.324002Z",
     "shell.execute_reply.started": "2023-03-16T04:27:39.025922Z"
    },
    "papermill": {
     "duration": 0.119421,
     "end_time": "2023-03-16T05:04:17.324742",
     "exception": false,
     "start_time": "2023-03-16T05:04:17.205321",
     "status": "completed"
    },
    "tags": []
   },
   "outputs": [],
   "source": [
    "# xgboost = XGBClassifier(learning_rate =0.015, n_estimators=40, max_depth=3,\n",
    "#  min_child_weight=1, gamma=0.3, subsample=0.9, colsample_bytree=0.6, eval_metric = 'logloss', nthread=2, scale_pos_weight=1, seed=42)\n",
    "\n",
    "# param_grid = { \n",
    "#     # Learning rate shrinks the weights to make the boosting process more conservative\n",
    "#     'n_estimators': [50,100,200,300,400,500],\n",
    "#     \"learning_rate\": [0.001, 0.01, 0.05, 0.1, 0.15, 0.2] ,\n",
    "#     # Maximum depth of the tree, increasing it increases the model complexity.\n",
    "#     \"max_depth\": range(3,8),\n",
    "#     'min_child_weight' : [1,2,3,4,5,6],\n",
    "#     # Gamma specifies the minimum loss reduction required to make a split.\n",
    "#     \"gamma\": [i/10.0 for i in range(0,5)],\n",
    "#     # Percentage of columns to be randomly samples for each tree.\n",
    "#     \"colsample_bytree\": [i/10.0 for i in range(3,10)],\n",
    "#     # reg_lambda provides l2 regularization to the weight, higher values result in more conservative models\n",
    "#     \"reg_lambda\": [1e-5, 1e-2, 0.1, 1, 10, 100]\n",
    "#     }\n",
    "\n",
    "# scoring = ['roc_auc']\n",
    "\n",
    "# kfold = StratifiedKFold(n_splits=3, shuffle=True, random_state=0)\n",
    "\n",
    "# random_search = RandomizedSearchCV(estimator=xgboost, \n",
    "#                            param_distributions=param_grid, \n",
    "#                            scoring=scoring, \n",
    "#                            refit='roc_auc', \n",
    "#                            n_jobs=-1, \n",
    "#                            verbose=0)\n",
    "\n",
    "# random_result = random_search.fit(df_train[features], df_train[target])\n",
    "\n",
    "# random_result"
   ]
  },
  {
   "cell_type": "code",
   "execution_count": 79,
   "id": "8cf11f03",
   "metadata": {
    "execution": {
     "iopub.execute_input": "2023-03-16T05:04:17.549829Z",
     "iopub.status.busy": "2023-03-16T05:04:17.549057Z",
     "iopub.status.idle": "2023-03-16T05:04:17.550429Z",
     "shell.execute_reply": "2023-03-16T05:04:17.550858Z",
     "shell.execute_reply.started": "2023-03-16T04:27:39.231021Z"
    },
    "papermill": {
     "duration": 0.115941,
     "end_time": "2023-03-16T05:04:17.551009",
     "exception": false,
     "start_time": "2023-03-16T05:04:17.435068",
     "status": "completed"
    },
    "tags": []
   },
   "outputs": [],
   "source": [
    "# print(f'The best score is {random_result.best_score_:.4f}')\n",
    "# # print('The best score standard deviation is', round(random_result.cv_results_['std_test_recall'][random_result.best_index_], 4))\n",
    "# print(f'The best hyperparameters are {random_result.best_params_}')"
   ]
  },
  {
   "cell_type": "code",
   "execution_count": 80,
   "id": "d7b863ad",
   "metadata": {
    "execution": {
     "iopub.execute_input": "2023-03-16T05:04:17.776318Z",
     "iopub.status.busy": "2023-03-16T05:04:17.774214Z",
     "iopub.status.idle": "2023-03-16T05:04:17.778209Z",
     "shell.execute_reply": "2023-03-16T05:04:17.778728Z",
     "shell.execute_reply.started": "2023-03-13T23:15:19.265612Z"
    },
    "papermill": {
     "duration": 0.116221,
     "end_time": "2023-03-16T05:04:17.778895",
     "exception": false,
     "start_time": "2023-03-16T05:04:17.662674",
     "status": "completed"
    },
    "tags": []
   },
   "outputs": [],
   "source": [
    "# def concat_row(r):\n",
    "#     if r['TeamIdA'] < r['TeamIdB']:\n",
    "#         res = str(r['Season'])+\"_\"+str(r['TeamIdA'])+\"_\"+str(r['TeamIdB'])\n",
    "#     else:\n",
    "#         res = str(r['Season'])+\"_\"+str(r['TeamIdB'])+\"_\"+str(r['TeamIdA'])\n",
    "#     return res\n",
    "\n",
    "# # Delete leaked from train\n",
    "# def delete_leaked_from_df_train(df_train, df_test):\n",
    "#     df_train['Concats'] = df_train.apply(concat_row, axis=1)\n",
    "#     df_train_duplicates = df_train[df_train['Concats'].isin(df_test['ID'].unique())]\n",
    "#     df_train_idx = df_train_duplicates.index.values\n",
    "#     df_train = df_train.drop(df_train_idx)\n",
    "#     df_train = df_train.drop('Concats', axis=1)\n",
    "\n",
    "#     return df_train"
   ]
  },
  {
   "cell_type": "code",
   "execution_count": 81,
   "id": "cc7f4098",
   "metadata": {
    "execution": {
     "iopub.execute_input": "2023-03-16T05:04:18.000832Z",
     "iopub.status.busy": "2023-03-16T05:04:18.000204Z",
     "iopub.status.idle": "2023-03-16T05:04:18.003547Z",
     "shell.execute_reply": "2023-03-16T05:04:18.002991Z",
     "shell.execute_reply.started": "2023-03-16T04:39:43.696448Z"
    },
    "papermill": {
     "duration": 0.116526,
     "end_time": "2023-03-16T05:04:18.003717",
     "exception": false,
     "start_time": "2023-03-16T05:04:17.887191",
     "status": "completed"
    },
    "tags": []
   },
   "outputs": [],
   "source": [
    "from sklearn.metrics import brier_score_loss"
   ]
  },
  {
   "cell_type": "markdown",
   "id": "b05960ac",
   "metadata": {
    "papermill": {
     "duration": 0.111421,
     "end_time": "2023-03-16T05:04:18.226165",
     "exception": false,
     "start_time": "2023-03-16T05:04:18.114744",
     "status": "completed"
    },
    "tags": []
   },
   "source": [
    "No extra: :0.43577\n",
    "\n",
    "XGBClassifier(objective = 'reg:logistic', learning_rate =0.019, n_estimators=500, max_depth=1, min_child_weight=4, \n",
    "                      gamma=0.5, subsample=0.9, reg_lambda = 0.005, colsample_bytree=0.6, eval_metric = 'logloss', nthread=2, seed=42)\n",
    " \n"
   ]
  },
  {
   "cell_type": "code",
   "execution_count": 82,
   "id": "d3ef8e9d",
   "metadata": {
    "execution": {
     "iopub.execute_input": "2023-03-16T05:04:18.451838Z",
     "iopub.status.busy": "2023-03-16T05:04:18.451207Z",
     "iopub.status.idle": "2023-03-16T05:04:18.456027Z",
     "shell.execute_reply": "2023-03-16T05:04:18.456466Z",
     "shell.execute_reply.started": "2023-03-16T04:45:15.301751Z"
    },
    "papermill": {
     "duration": 0.118489,
     "end_time": "2023-03-16T05:04:18.456625",
     "exception": false,
     "start_time": "2023-03-16T05:04:18.338136",
     "status": "completed"
    },
    "tags": []
   },
   "outputs": [],
   "source": [
    "# df_2022 = df[df['Season'] == 2018]"
   ]
  },
  {
   "cell_type": "code",
   "execution_count": 83,
   "id": "74d6d299",
   "metadata": {
    "_kg_hide-input": false,
    "_kg_hide-output": true,
    "execution": {
     "iopub.execute_input": "2023-03-16T05:04:18.683426Z",
     "iopub.status.busy": "2023-03-16T05:04:18.682884Z",
     "iopub.status.idle": "2023-03-16T05:04:18.684860Z",
     "shell.execute_reply": "2023-03-16T05:04:18.685337Z",
     "shell.execute_reply.started": "2023-03-16T04:44:54.581361Z"
    },
    "papermill": {
     "duration": 0.118291,
     "end_time": "2023-03-16T05:04:18.685514",
     "exception": false,
     "start_time": "2023-03-16T05:04:18.567223",
     "status": "completed"
    },
    "tags": []
   },
   "outputs": [],
   "source": [
    "# df_train = df[df['Season'] < 201].reset_index(drop=True).copy()\n",
    "# df_val = df[df['Season'] == 2019].reset_index(drop=True).copy()\n",
    "# df_test_1 = df_test.copy()\n",
    "# df_train, df_val, df_test_1 = rescale(features, df_train, df_val, df_test_1)\n",
    "# target = \"WinA\"\n",
    "\n",
    "# model = XGBClassifier(oobjective = 'reg:logistic', learning_rate =0.019, n_estimators=400, max_depth=1, min_child_weight=3, gamma=0.5, \n",
    "#                       subsample=0.9, reg_lambda = 0.002, colsample_bytree=0.6, eval_metric = 'logloss', nthread=2, seed=42)\n",
    "                \n",
    "# evaluation = [(df_val[features], df_val[target])]\n",
    "                \n",
    "# model.fit(df_train[features], df_train[target], eval_set=evaluation, early_stopping_rounds=20, verbose=0)\n",
    "\n",
    "# pred = model.predict_proba(df_val[features])[:, 1]\n",
    "# preds = []\n",
    "\n",
    "# preds.append(pred)\n",
    "\n",
    "# pred_test_ = np.mean(preds, 0)\n",
    "\n",
    "# df_2022['Pred'] = pred_test_"
   ]
  },
  {
   "cell_type": "code",
   "execution_count": 84,
   "id": "37a9ca20",
   "metadata": {
    "execution": {
     "iopub.execute_input": "2023-03-16T05:04:18.906901Z",
     "iopub.status.busy": "2023-03-16T05:04:18.906355Z",
     "iopub.status.idle": "2023-03-16T05:04:18.922478Z",
     "shell.execute_reply": "2023-03-16T05:04:18.922953Z",
     "shell.execute_reply.started": "2023-03-16T04:45:52.412922Z"
    },
    "papermill": {
     "duration": 0.128649,
     "end_time": "2023-03-16T05:04:18.923092",
     "exception": false,
     "start_time": "2023-03-16T05:04:18.794443",
     "status": "completed"
    },
    "tags": []
   },
   "outputs": [],
   "source": [
    "def kfold(df, df_test_=None, plot=False, verbose=0, xgb=False, mode=\"reg\", calib=False, tune=False):\n",
    "    seasons = df['Season'].unique()\n",
    "    cvs = []\n",
    "    pred_tests = []\n",
    "    target = \"ScoreDiff\" if mode == \"reg\" else \"WinA\"\n",
    "    \n",
    "    for season in seasons[1:]:\n",
    "        if verbose:\n",
    "            print(f'\\nValidating on season {season}')\n",
    "        \n",
    "        df_train = df[df['Season'] < season].reset_index(drop=True).copy()\n",
    "        df_val = df[df['Season'] == season].reset_index(drop=True).copy()\n",
    "        df_test = df_test_.copy()\n",
    "        \n",
    "        df_train, df_val, df_test = rescale(features, df_train, df_val, df_test)\n",
    "        \n",
    "        if mode == \"reg\":\n",
    "            model = ElasticNet(alpha=1, l1_ratio=0.5)\n",
    "        else:\n",
    "            if tune:\n",
    "                model = LogisticRegressionCV(Cs=[10,30,50,70,90,100,120,130,150],cv=5,random_state=42)\n",
    "                model.fit(df_train[features], df_train[target])\n",
    "            elif xgb:\n",
    "                model = XGBClassifier(objective = 'binary:logistic', learning_rate =0.019, n_estimators=500, max_depth=1, min_child_weight=3, \n",
    "                      gamma=0.5, subsample=0.9, reg_lambda = 0.002, colsample_bytree=0.6, eval_metric = 'logloss', nthread=2, seed=42)\n",
    "                \n",
    "                evaluation = [(df_val[features], df_val[target])]\n",
    "                \n",
    "                model.fit(df_train[features], df_train[target], eval_set=evaluation, early_stopping_rounds=20, verbose=0)\n",
    "                \n",
    "            else:\n",
    "                model = LogisticRegression(C=100)\n",
    "                model.fit(df_train[features], df_train[target])\n",
    "        \n",
    "        if mode == \"reg\":\n",
    "            pred = model.predict(df_val[features])\n",
    "            pred = (pred - pred.min()) / (pred.max() - pred.min())\n",
    "        else:\n",
    "            if calib == True: \n",
    "                pred = calib_model.predict_proba(df_val[features])[:, 1]\n",
    "            else:\n",
    "                pred = model.predict_proba(df_val[features])[:, 1]\n",
    "#                 iso_reg = IsotonicRegression(y_min = 0, y_max = 1, out_of_bounds = 'clip').fit(pred, df_val[target])\n",
    "#                 prob_calibrated = iso_reg.predict(model.predict_proba(df_val[features])[:, 1])\n",
    "        \n",
    "        if df_test is not None:\n",
    "            if mode == \"reg\":\n",
    "                pred_test = model.predict(df_test[features])\n",
    "                pred_test = (pred_test - pred_test.min()) / (pred_test.max() - pred_test.min())\n",
    "            else:\n",
    "                if calib == True: \n",
    "                    pred_test = calib_model.predict_proba(df_test[features])[:, 1]\n",
    "                else:\n",
    "                    pred_test = model.predict_proba(df_test[features])[:, 1]\n",
    "            \n",
    "#             for p in range(len(pred_test)):\n",
    "#                 if pred_test[p] <= 0.09:\n",
    "#                     pred_test[p] = 0.001\n",
    "#                 elif pred_test[p] >= 0.91:\n",
    "#                     pred_test[p] = 0.999\n",
    "                    \n",
    "            pred_tests.append(pred_test)\n",
    "            \n",
    "            \n",
    "        if plot:\n",
    "            plt.figure(figsize=(15, 6))\n",
    "            plt.subplot(1, 2, 1)\n",
    "            plt.scatter(pred, df_val['ScoreDiff'].values, s=5)\n",
    "            plt.grid(True)\n",
    "            plt.subplot(1, 2, 2)\n",
    "            sns.histplot(pred)\n",
    "            plt.show()\n",
    "        \n",
    "#         calibrate(df_val['WinA'].values, pred)\n",
    "        \n",
    "#         for p in range(len(pred)):\n",
    "#             if pred[p] <= 0.1:\n",
    "#                 pred[p] = 0.001\n",
    "#             elif pred[p] >= 0.9:\n",
    "#                 pred[p] = 0.999\n",
    "        \n",
    "        loss = brier_score_loss(df_val['WinA'].values, pred)\n",
    "        cvs.append(loss)\n",
    "        \n",
    "\n",
    "        if verbose:\n",
    "            print(f'\\t -> Scored {loss:.3f}')\n",
    "        \n",
    "        del df_train, df_val, df_test\n",
    "        gc.collect()\n",
    "        \n",
    "    print(f'\\n Local CV is {np.mean(cvs):.3f}')\n",
    "    \n",
    "    return pred_tests"
   ]
  },
  {
   "cell_type": "code",
   "execution_count": 85,
   "id": "8e49b423",
   "metadata": {
    "execution": {
     "iopub.execute_input": "2023-03-16T05:04:19.147904Z",
     "iopub.status.busy": "2023-03-16T05:04:19.147192Z",
     "iopub.status.idle": "2023-03-16T05:04:19.161081Z",
     "shell.execute_reply": "2023-03-16T05:04:19.161520Z",
     "shell.execute_reply.started": "2023-03-16T04:28:03.907399Z"
    },
    "papermill": {
     "duration": 0.126302,
     "end_time": "2023-03-16T05:04:19.161696",
     "exception": false,
     "start_time": "2023-03-16T05:04:19.035394",
     "status": "completed"
    },
    "tags": []
   },
   "outputs": [],
   "source": [
    "df_test = df_test.fillna(0)"
   ]
  },
  {
   "cell_type": "code",
   "execution_count": 86,
   "id": "aade4b7f",
   "metadata": {
    "execution": {
     "iopub.execute_input": "2023-03-16T05:04:19.384780Z",
     "iopub.status.busy": "2023-03-16T05:04:19.384177Z",
     "iopub.status.idle": "2023-03-16T05:04:25.288626Z",
     "shell.execute_reply": "2023-03-16T05:04:25.289146Z",
     "shell.execute_reply.started": "2023-03-16T04:45:53.686863Z"
    },
    "papermill": {
     "duration": 6.018107,
     "end_time": "2023-03-16T05:04:25.289339",
     "exception": false,
     "start_time": "2023-03-16T05:04:19.271232",
     "status": "completed"
    },
    "tags": []
   },
   "outputs": [
    {
     "name": "stdout",
     "output_type": "stream",
     "text": [
      "\n",
      "Validating on season 2017\n"
     ]
    },
    {
     "name": "stderr",
     "output_type": "stream",
     "text": [
      "/opt/conda/lib/python3.7/site-packages/xgboost/sklearn.py:1224: UserWarning: The use of label encoder in XGBClassifier is deprecated and will be removed in a future release. To remove this warning, do the following: 1) Pass option use_label_encoder=False when constructing XGBClassifier object; and 2) Encode your labels (y) as integers starting with 0, i.e. 0, 1, 2, ..., [num_class - 1].\n",
      "  warnings.warn(label_encoder_deprecation_msg, UserWarning)\n"
     ]
    },
    {
     "data": {
      "image/png": "[encoded data removed]",
      "text/plain": [
       "<Figure size 1080x432 with 2 Axes>"
      ]
     },
     "metadata": {
      "needs_background": "light"
     },
     "output_type": "display_data"
    },
    {
     "name": "stdout",
     "output_type": "stream",
     "text": [
      "\t -> Scored 0.131\n",
      "\n",
      "Validating on season 2018\n"
     ]
    },
    {
     "name": "stderr",
     "output_type": "stream",
     "text": [
      "/opt/conda/lib/python3.7/site-packages/xgboost/sklearn.py:1224: UserWarning: The use of label encoder in XGBClassifier is deprecated and will be removed in a future release. To remove this warning, do the following: 1) Pass option use_label_encoder=False when constructing XGBClassifier object; and 2) Encode your labels (y) as integers starting with 0, i.e. 0, 1, 2, ..., [num_class - 1].\n",
      "  warnings.warn(label_encoder_deprecation_msg, UserWarning)\n"
     ]
    },
    {
     "data": {
      "image/png": "[encoded data removed]",
      "text/plain": [
       "<Figure size 1080x432 with 2 Axes>"
      ]
     },
     "metadata": {
      "needs_background": "light"
     },
     "output_type": "display_data"
    },
    {
     "name": "stdout",
     "output_type": "stream",
     "text": [
      "\t -> Scored 0.163\n",
      "\n",
      "Validating on season 2019\n"
     ]
    },
    {
     "name": "stderr",
     "output_type": "stream",
     "text": [
      "/opt/conda/lib/python3.7/site-packages/xgboost/sklearn.py:1224: UserWarning: The use of label encoder in XGBClassifier is deprecated and will be removed in a future release. To remove this warning, do the following: 1) Pass option use_label_encoder=False when constructing XGBClassifier object; and 2) Encode your labels (y) as integers starting with 0, i.e. 0, 1, 2, ..., [num_class - 1].\n",
      "  warnings.warn(label_encoder_deprecation_msg, UserWarning)\n"
     ]
    },
    {
     "data": {
      "image/png": "[encoded data removed]",
      "text/plain": [
       "<Figure size 1080x432 with 2 Axes>"
      ]
     },
     "metadata": {
      "needs_background": "light"
     },
     "output_type": "display_data"
    },
    {
     "name": "stdout",
     "output_type": "stream",
     "text": [
      "\t -> Scored 0.120\n",
      "\n",
      "Validating on season 2021\n"
     ]
    },
    {
     "name": "stderr",
     "output_type": "stream",
     "text": [
      "/opt/conda/lib/python3.7/site-packages/xgboost/sklearn.py:1224: UserWarning: The use of label encoder in XGBClassifier is deprecated and will be removed in a future release. To remove this warning, do the following: 1) Pass option use_label_encoder=False when constructing XGBClassifier object; and 2) Encode your labels (y) as integers starting with 0, i.e. 0, 1, 2, ..., [num_class - 1].\n",
      "  warnings.warn(label_encoder_deprecation_msg, UserWarning)\n"
     ]
    },
    {
     "data": {
      "image/png": "[encoded data removed]",
      "text/plain": [
       "<Figure size 1080x432 with 2 Axes>"
      ]
     },
     "metadata": {
      "needs_background": "light"
     },
     "output_type": "display_data"
    },
    {
     "name": "stdout",
     "output_type": "stream",
     "text": [
      "\t -> Scored 0.137\n",
      "\n",
      "Validating on season 2022\n"
     ]
    },
    {
     "name": "stderr",
     "output_type": "stream",
     "text": [
      "/opt/conda/lib/python3.7/site-packages/xgboost/sklearn.py:1224: UserWarning: The use of label encoder in XGBClassifier is deprecated and will be removed in a future release. To remove this warning, do the following: 1) Pass option use_label_encoder=False when constructing XGBClassifier object; and 2) Encode your labels (y) as integers starting with 0, i.e. 0, 1, 2, ..., [num_class - 1].\n",
      "  warnings.warn(label_encoder_deprecation_msg, UserWarning)\n"
     ]
    },
    {
     "data": {
      "image/png": "[encoded data removed]",
      "text/plain": [
       "<Figure size 1080x432 with 2 Axes>"
      ]
     },
     "metadata": {
      "needs_background": "light"
     },
     "output_type": "display_data"
    },
    {
     "name": "stdout",
     "output_type": "stream",
     "text": [
      "\t -> Scored 0.145\n",
      "\n",
      " Local CV is 0.139\n"
     ]
    }
   ],
   "source": [
    "pred_tests = kfold(df, df_test, plot=True, verbose=1, xgb = True, tune=False, mode=\"cls\")"
   ]
  },
  {
   "cell_type": "code",
   "execution_count": 87,
   "id": "573e840a",
   "metadata": {
    "execution": {
     "iopub.execute_input": "2023-03-16T05:04:25.528809Z",
     "iopub.status.busy": "2023-03-16T05:04:25.527720Z",
     "iopub.status.idle": "2023-03-16T05:04:25.531883Z",
     "shell.execute_reply": "2023-03-16T05:04:25.532367Z",
     "shell.execute_reply.started": "2023-03-16T04:48:05.548978Z"
    },
    "papermill": {
     "duration": 0.124108,
     "end_time": "2023-03-16T05:04:25.532498",
     "exception": false,
     "start_time": "2023-03-16T05:04:25.408390",
     "status": "completed"
    },
    "tags": []
   },
   "outputs": [],
   "source": [
    "pred_test = np.mean(pred_tests, 0)\n",
    "\n",
    "# _ = sns.displot(pred_test)"
   ]
  },
  {
   "cell_type": "markdown",
   "id": "cb103db0",
   "metadata": {
    "papermill": {
     "duration": 0.120103,
     "end_time": "2023-03-16T05:04:25.770791",
     "exception": false,
     "start_time": "2023-03-16T05:04:25.650688",
     "status": "completed"
    },
    "tags": []
   },
   "source": [
    "# Overriding predictions\n",
    "- Without overridees, the 4 features model achieved 22nd, which is good but enough !"
   ]
  },
  {
   "cell_type": "markdown",
   "id": "09375d91",
   "metadata": {
    "papermill": {
     "duration": 0.118023,
     "end_time": "2023-03-16T05:04:26.007843",
     "exception": false,
     "start_time": "2023-03-16T05:04:25.889820",
     "status": "completed"
    },
    "tags": []
   },
   "source": [
    "## Prepare"
   ]
  },
  {
   "cell_type": "code",
   "execution_count": 88,
   "id": "dc58e74d",
   "metadata": {
    "execution": {
     "iopub.execute_input": "2023-03-16T05:04:26.246980Z",
     "iopub.status.busy": "2023-03-16T05:04:26.246414Z",
     "iopub.status.idle": "2023-03-16T05:04:26.250624Z",
     "shell.execute_reply": "2023-03-16T05:04:26.251047Z",
     "shell.execute_reply.started": "2023-03-15T04:20:44.302325Z"
    },
    "papermill": {
     "duration": 0.124258,
     "end_time": "2023-03-16T05:04:26.251196",
     "exception": false,
     "start_time": "2023-03-16T05:04:26.126938",
     "status": "completed"
    },
    "tags": []
   },
   "outputs": [
    {
     "data": {
      "text/plain": [
       "(64980,)"
      ]
     },
     "execution_count": 88,
     "metadata": {},
     "output_type": "execute_result"
    }
   ],
   "source": [
    "pred_test.shape"
   ]
  },
  {
   "cell_type": "code",
   "execution_count": 89,
   "id": "32619c30",
   "metadata": {
    "execution": {
     "iopub.execute_input": "2023-03-16T05:04:26.488242Z",
     "iopub.status.busy": "2023-03-16T05:04:26.487337Z",
     "iopub.status.idle": "2023-03-16T05:04:26.900863Z",
     "shell.execute_reply": "2023-03-16T05:04:26.900296Z",
     "shell.execute_reply.started": "2023-03-16T04:51:28.810709Z"
    },
    "papermill": {
     "duration": 0.532673,
     "end_time": "2023-03-16T05:04:26.901016",
     "exception": false,
     "start_time": "2023-03-16T05:04:26.368343",
     "status": "completed"
    },
    "tags": []
   },
   "outputs": [],
   "source": [
    "sub = df_test[['ID', 'Season', 'Pred', 'TeamIdA', 'TeamIdB', 'SeedA', 'SeedB', 'WinRatioDiff','538ratingDiff', 'PRIDiff', 'TORateDiff', 'DRAvgDiff']].copy()\n",
    "sub.to_csv('test_csv', index=False)"
   ]
  },
  {
   "cell_type": "code",
   "execution_count": 90,
   "id": "cfaf98ab",
   "metadata": {
    "execution": {
     "iopub.execute_input": "2023-03-16T05:04:27.140117Z",
     "iopub.status.busy": "2023-03-16T05:04:27.139623Z",
     "iopub.status.idle": "2023-03-16T05:04:27.143944Z",
     "shell.execute_reply": "2023-03-16T05:04:27.144323Z",
     "shell.execute_reply.started": "2023-03-16T04:50:28.118341Z"
    },
    "papermill": {
     "duration": 0.124028,
     "end_time": "2023-03-16T05:04:27.144466",
     "exception": false,
     "start_time": "2023-03-16T05:04:27.020438",
     "status": "completed"
    },
    "tags": []
   },
   "outputs": [],
   "source": [
    "sub['Pred'] = pred_test"
   ]
  },
  {
   "cell_type": "code",
   "execution_count": 91,
   "id": "eab4a18a",
   "metadata": {
    "execution": {
     "iopub.execute_input": "2023-03-16T05:04:27.379229Z",
     "iopub.status.busy": "2023-03-16T05:04:27.378598Z",
     "iopub.status.idle": "2023-03-16T05:04:27.380827Z",
     "shell.execute_reply": "2023-03-16T05:04:27.381240Z",
     "shell.execute_reply.started": "2023-03-15T07:01:32.840316Z"
    },
    "papermill": {
     "duration": 0.121132,
     "end_time": "2023-03-16T05:04:27.381407",
     "exception": false,
     "start_time": "2023-03-16T05:04:27.260275",
     "status": "completed"
    },
    "tags": []
   },
   "outputs": [],
   "source": [
    "# sub = sub[sub['538ratingDiff'] != 0]"
   ]
  },
  {
   "cell_type": "code",
   "execution_count": 92,
   "id": "c2445e45",
   "metadata": {
    "execution": {
     "iopub.execute_input": "2023-03-16T05:04:27.619655Z",
     "iopub.status.busy": "2023-03-16T05:04:27.618954Z",
     "iopub.status.idle": "2023-03-16T05:04:27.678457Z",
     "shell.execute_reply": "2023-03-16T05:04:27.677796Z",
     "shell.execute_reply.started": "2023-03-16T04:48:13.266546Z"
    },
    "papermill": {
     "duration": 0.180991,
     "end_time": "2023-03-16T05:04:27.678619",
     "exception": false,
     "start_time": "2023-03-16T05:04:27.497628",
     "status": "completed"
    },
    "tags": []
   },
   "outputs": [],
   "source": [
    "df_teams = pd.read_csv(DATA_PATH + \"WTeams.csv\")\n",
    "sub = sub.merge(df_teams, left_on=\"TeamIdA\", right_on=\"TeamID\").drop('TeamID', axis=1).rename(columns={\"TeamName\": \"TeamA\"})\n",
    "sub = sub.merge(df_teams, left_on=\"TeamIdB\", right_on=\"TeamID\").drop('TeamID', axis=1).rename(columns={\"TeamName\": \"TeamB\"})"
   ]
  },
  {
   "cell_type": "code",
   "execution_count": 93,
   "id": "0ef1f902",
   "metadata": {
    "execution": {
     "iopub.execute_input": "2023-03-16T05:04:27.942420Z",
     "iopub.status.busy": "2023-03-16T05:04:27.941835Z",
     "iopub.status.idle": "2023-03-16T05:04:27.967034Z",
     "shell.execute_reply": "2023-03-16T05:04:27.967471Z",
     "shell.execute_reply.started": "2023-03-16T04:48:13.777799Z"
    },
    "papermill": {
     "duration": 0.15391,
     "end_time": "2023-03-16T05:04:27.967661",
     "exception": false,
     "start_time": "2023-03-16T05:04:27.813751",
     "status": "completed"
    },
    "tags": []
   },
   "outputs": [],
   "source": [
    "df_seeds['Seed'] = df_seeds['Seed'].apply(lambda x:x[0])\n",
    "sub = sub.merge(df_seeds, left_on=[\"TeamIdA\", \"Season\"], right_on=[\"TeamID\", \"Season\"]).drop('TeamID', axis=1).rename(columns={\"Seed\": \"RegionA\"})\n",
    "sub = sub.merge(df_seeds, left_on=[\"TeamIdB\", \"Season\"], right_on=[\"TeamID\", \"Season\"]).drop('TeamID', axis=1).rename(columns={\"Seed\": \"RegionB\"})"
   ]
  },
  {
   "cell_type": "markdown",
   "id": "4dd7a49d",
   "metadata": {
    "papermill": {
     "duration": 0.117171,
     "end_time": "2023-03-16T05:04:28.201631",
     "exception": false,
     "start_time": "2023-03-16T05:04:28.084460",
     "status": "completed"
    },
    "tags": []
   },
   "source": [
    "# TEST\n"
   ]
  },
  {
   "cell_type": "code",
   "execution_count": 94,
   "id": "a5cf3942",
   "metadata": {
    "execution": {
     "iopub.execute_input": "2023-03-16T05:04:28.451650Z",
     "iopub.status.busy": "2023-03-16T05:04:28.450941Z",
     "iopub.status.idle": "2023-03-16T05:04:28.453508Z",
     "shell.execute_reply": "2023-03-16T05:04:28.453977Z",
     "shell.execute_reply.started": "2023-03-16T04:48:19.625444Z"
    },
    "papermill": {
     "duration": 0.134138,
     "end_time": "2023-03-16T05:04:28.454143",
     "exception": false,
     "start_time": "2023-03-16T05:04:28.320005",
     "status": "completed"
    },
    "tags": []
   },
   "outputs": [
    {
     "data": {
      "text/html": [
       "<div>\n",
       "<style scoped>\n",
       "    .dataframe tbody tr th:only-of-type {\n",
       "        vertical-align: middle;\n",
       "    }\n",
       "\n",
       "    .dataframe tbody tr th {\n",
       "        vertical-align: top;\n",
       "    }\n",
       "\n",
       "    .dataframe thead th {\n",
       "        text-align: right;\n",
       "    }\n",
       "</style>\n",
       "<table border=\"1\" class=\"dataframe\">\n",
       "  <thead>\n",
       "    <tr style=\"text-align: right;\">\n",
       "      <th></th>\n",
       "      <th>ID</th>\n",
       "      <th>Pred</th>\n",
       "    </tr>\n",
       "  </thead>\n",
       "  <tbody>\n",
       "    <tr>\n",
       "      <th>0</th>\n",
       "      <td>2023_3104_3112</td>\n",
       "      <td>0.325561</td>\n",
       "    </tr>\n",
       "    <tr>\n",
       "      <th>1</th>\n",
       "      <td>2023_3104_3124</td>\n",
       "      <td>0.347213</td>\n",
       "    </tr>\n",
       "    <tr>\n",
       "      <th>2</th>\n",
       "      <td>2023_3112_3124</td>\n",
       "      <td>0.512305</td>\n",
       "    </tr>\n",
       "    <tr>\n",
       "      <th>3</th>\n",
       "      <td>2023_3104_3151</td>\n",
       "      <td>0.927672</td>\n",
       "    </tr>\n",
       "    <tr>\n",
       "      <th>4</th>\n",
       "      <td>2023_3112_3151</td>\n",
       "      <td>0.951584</td>\n",
       "    </tr>\n",
       "    <tr>\n",
       "      <th>...</th>\n",
       "      <td>...</td>\n",
       "      <td>...</td>\n",
       "    </tr>\n",
       "    <tr>\n",
       "      <th>2273</th>\n",
       "      <td>2023_3428_3452</td>\n",
       "      <td>0.847659</td>\n",
       "    </tr>\n",
       "    <tr>\n",
       "      <th>2274</th>\n",
       "      <td>2023_3436_3452</td>\n",
       "      <td>0.165602</td>\n",
       "    </tr>\n",
       "    <tr>\n",
       "      <th>2275</th>\n",
       "      <td>2023_3437_3452</td>\n",
       "      <td>0.834157</td>\n",
       "    </tr>\n",
       "    <tr>\n",
       "      <th>2276</th>\n",
       "      <td>2023_3439_3452</td>\n",
       "      <td>0.925435</td>\n",
       "    </tr>\n",
       "    <tr>\n",
       "      <th>2277</th>\n",
       "      <td>2023_3450_3452</td>\n",
       "      <td>0.778201</td>\n",
       "    </tr>\n",
       "  </tbody>\n",
       "</table>\n",
       "<p>2278 rows × 2 columns</p>\n",
       "</div>"
      ],
      "text/plain": [
       "                  ID      Pred\n",
       "0     2023_3104_3112  0.325561\n",
       "1     2023_3104_3124  0.347213\n",
       "2     2023_3112_3124  0.512305\n",
       "3     2023_3104_3151  0.927672\n",
       "4     2023_3112_3151  0.951584\n",
       "...              ...       ...\n",
       "2273  2023_3428_3452  0.847659\n",
       "2274  2023_3436_3452  0.165602\n",
       "2275  2023_3437_3452  0.834157\n",
       "2276  2023_3439_3452  0.925435\n",
       "2277  2023_3450_3452  0.778201\n",
       "\n",
       "[2278 rows x 2 columns]"
      ]
     },
     "execution_count": 94,
     "metadata": {},
     "output_type": "execute_result"
    }
   ],
   "source": [
    "sub_cv = sub[['ID','Pred']].copy()\n",
    "sub_cv"
   ]
  },
  {
   "cell_type": "markdown",
   "id": "d1359d78",
   "metadata": {
    "papermill": {
     "duration": 0.13125,
     "end_time": "2023-03-16T05:04:28.705137",
     "exception": false,
     "start_time": "2023-03-16T05:04:28.573887",
     "status": "completed"
    },
    "tags": []
   },
   "source": [
    "# Overrides\n",
    "\n",
    "## Upsets: (Check OA vs OB, TORateDiff)\n",
    "1. UNLV vs Michigan\n",
    "2. Princeton vs NC State\n",
    "3. Florida vs Georgia Florida vs Duke\n",
    "4. \n"
   ]
  },
  {
   "cell_type": "code",
   "execution_count": 95,
   "id": "0c1c0415",
   "metadata": {
    "execution": {
     "iopub.execute_input": "2023-03-16T05:04:28.968941Z",
     "iopub.status.busy": "2023-03-16T05:04:28.968351Z",
     "iopub.status.idle": "2023-03-16T05:04:28.969657Z",
     "shell.execute_reply": "2023-03-16T05:04:28.970189Z",
     "shell.execute_reply.started": "2023-03-16T04:49:25.220659Z"
    },
    "papermill": {
     "duration": 0.137635,
     "end_time": "2023-03-16T05:04:28.970344",
     "exception": false,
     "start_time": "2023-03-16T05:04:28.832709",
     "status": "completed"
    },
    "tags": []
   },
   "outputs": [],
   "source": [
    "upset_teams = ['UNLV', 'Princeton', 'Florida St']\n",
    "\n",
    "fake_strong = ['Michigan', 'NC State', 'Duke']  # considered for defeated\n",
    "\n",
    "# strong_teams_safe = best_teams + ['NC State', 'Louisville']  # win 1st round\n",
    "# strong_teams_risky = strong_teams_safe + ['Texas A&M', 'Arizona', 'Georgia', 'UCLA']  # win 1st round"
   ]
  },
  {
   "cell_type": "code",
   "execution_count": 96,
   "id": "ad75045d",
   "metadata": {
    "execution": {
     "iopub.execute_input": "2023-03-16T05:04:29.223779Z",
     "iopub.status.busy": "2023-03-16T05:04:29.223110Z",
     "iopub.status.idle": "2023-03-16T05:04:29.228972Z",
     "shell.execute_reply": "2023-03-16T05:04:29.229462Z",
     "shell.execute_reply.started": "2023-03-16T04:48:54.772023Z"
    },
    "papermill": {
     "duration": 0.130986,
     "end_time": "2023-03-16T05:04:29.229669",
     "exception": false,
     "start_time": "2023-03-16T05:04:29.098683",
     "status": "completed"
    },
    "tags": []
   },
   "outputs": [],
   "source": [
    "def overwrite_pred_risky(sub, eps= 0.1):\n",
    "\n",
    "    new_sub = []\n",
    "    \n",
    "    for i, row in sub.iterrows():\n",
    "        \n",
    "        # Strong teams (risky) win their first round\n",
    "        if row['TeamA'] in upset_teams and row['TeamB'] in fake_strong:\n",
    "            row['Pred'] = row['Pred'] + eps\n",
    "        elif row['TeamB'] in upset_teams and row['TeamA'] in fake_strong:\n",
    "            row['Pred'] = row['Pred'] - eps\n",
    "            \n",
    "        row['Pred'] = np.clip(row['Pred'], 0.0001, 0.9999)\n",
    "        \n",
    "        new_sub.append(row)\n",
    "        \n",
    "    return pd.DataFrame(np.array(new_sub), columns=sub.columns)"
   ]
  },
  {
   "cell_type": "code",
   "execution_count": 97,
   "id": "1b840056",
   "metadata": {
    "execution": {
     "iopub.execute_input": "2023-03-16T05:04:29.471549Z",
     "iopub.status.busy": "2023-03-16T05:04:29.470884Z",
     "iopub.status.idle": "2023-03-16T05:04:29.480543Z",
     "shell.execute_reply": "2023-03-16T05:04:29.481017Z",
     "shell.execute_reply.started": "2023-03-16T04:49:10.178393Z"
    },
    "papermill": {
     "duration": 0.131028,
     "end_time": "2023-03-16T05:04:29.481180",
     "exception": false,
     "start_time": "2023-03-16T05:04:29.350152",
     "status": "completed"
    },
    "tags": []
   },
   "outputs": [],
   "source": [
    "def overwrite_pred_extrme(sub, eps=1e-5, err=2e-2):    \n",
    "    new_sub = []\n",
    "    \n",
    "    for i, row in sub.iterrows():\n",
    "        err_to = 0\n",
    "        row['Pred'] = np.clip(row['Pred'], 0.0001, 0.9999) # clip for safety\n",
    "        if row['PRIDiff'] >= 0.1 or row['538ratingDiff'] >= 20:\n",
    "            row['Pred'] = 1 - eps\n",
    "        elif row['PRIDiff'] <= -0.1 or row['538ratingDiff'] <= -20:\n",
    "            row['Pred'] = eps\n",
    "        else:\n",
    "            \n",
    "            if row['Pred'] > 0.12 and row['Pred'] < 0.45:   \n",
    "                if row['PRIDiff'] < -0.055:\n",
    "                    err_to += err*1.5\n",
    "                    if row['TORateDiff'] > 2.2 or row['DRAvgDiff'] < -3.7:\n",
    "                        err_to += err*0.8\n",
    "                if row['538ratingDiff'] <= -10.5:\n",
    "                    err_to += err*1.5\n",
    "                    if row['TORateDiff'] > 2.2 or row['DRAvgDiff'] < -3.7:\n",
    "                        err_to += err*0.8\n",
    "                row['Pred'] = row['Pred'] - err_to\n",
    "                \n",
    "            elif row['Pred'] < 0.88 and row['Pred'] > 0.55:\n",
    "                if row['PRIDiff'] > 0.055:\n",
    "                    err_to += err*1.5\n",
    "                    if row['TORateDiff'] < -2.2 or row['DRAvgDiff'] > 3.7:\n",
    "                        err_to += err*0.8\n",
    "                if row['538ratingDiff'] >= 10.5:\n",
    "                    err_to += err*1.5\n",
    "                    if row['TORateDiff'] < -2.2 or row['DRAvgDiff'] > 3.7:\n",
    "                        err_to += err*0.8 \n",
    "                row['Pred'] = row['Pred'] + err_to\n",
    "\n",
    "        row['Pred'] = np.clip(row['Pred'], 0.0001, 0.9999)\n",
    "        \n",
    "        new_sub.append(row)\n",
    "        \n",
    "    return pd.DataFrame(np.array(new_sub), columns=sub.columns)"
   ]
  },
  {
   "cell_type": "code",
   "execution_count": 98,
   "id": "2bd566f2",
   "metadata": {
    "execution": {
     "iopub.execute_input": "2023-03-16T05:04:29.730535Z",
     "iopub.status.busy": "2023-03-16T05:04:29.729938Z",
     "iopub.status.idle": "2023-03-16T05:04:30.346631Z",
     "shell.execute_reply": "2023-03-16T05:04:30.347064Z",
     "shell.execute_reply.started": "2023-03-16T04:49:27.965466Z"
    },
    "papermill": {
     "duration": 0.746929,
     "end_time": "2023-03-16T05:04:30.347218",
     "exception": false,
     "start_time": "2023-03-16T05:04:29.600289",
     "status": "completed"
    },
    "tags": []
   },
   "outputs": [],
   "source": [
    "sub_pp = overwrite_pred_extrme(sub)\n",
    "sub_pp = overwrite_pred_risky(sub_pp)\n",
    "\n",
    "# sub_pp = sub"
   ]
  },
  {
   "cell_type": "markdown",
   "id": "258e57c9",
   "metadata": {
    "papermill": {
     "duration": 0.117672,
     "end_time": "2023-03-16T05:04:30.583836",
     "exception": false,
     "start_time": "2023-03-16T05:04:30.466164",
     "status": "completed"
    },
    "tags": []
   },
   "source": [
    "## Submission"
   ]
  },
  {
   "cell_type": "code",
   "execution_count": 99,
   "id": "57d766d3",
   "metadata": {
    "execution": {
     "iopub.execute_input": "2023-03-16T05:04:30.830829Z",
     "iopub.status.busy": "2023-03-16T05:04:30.828372Z",
     "iopub.status.idle": "2023-03-16T05:04:30.836949Z",
     "shell.execute_reply": "2023-03-16T05:04:30.837379Z",
     "shell.execute_reply.started": "2023-03-16T04:49:36.283407Z"
    },
    "papermill": {
     "duration": 0.131023,
     "end_time": "2023-03-16T05:04:30.837555",
     "exception": false,
     "start_time": "2023-03-16T05:04:30.706532",
     "status": "completed"
    },
    "tags": []
   },
   "outputs": [],
   "source": [
    "final_sub = sub_pp[['ID', 'Pred']].copy()\n",
    "final_sub.to_csv('submission_female.csv', index=False)"
   ]
  },
  {
   "cell_type": "code",
   "execution_count": 100,
   "id": "4885d25c",
   "metadata": {
    "execution": {
     "iopub.execute_input": "2023-03-16T05:04:31.080720Z",
     "iopub.status.busy": "2023-03-16T05:04:31.080182Z",
     "iopub.status.idle": "2023-03-16T05:04:31.269525Z",
     "shell.execute_reply": "2023-03-16T05:04:31.269076Z",
     "shell.execute_reply.started": "2023-03-16T04:52:14.041598Z"
    },
    "papermill": {
     "duration": 0.312385,
     "end_time": "2023-03-16T05:04:31.269683",
     "exception": false,
     "start_time": "2023-03-16T05:04:30.957298",
     "status": "completed"
    },
    "tags": []
   },
   "outputs": [
    {
     "data": {
      "text/plain": [
       "<AxesSubplot:>"
      ]
     },
     "execution_count": 100,
     "metadata": {},
     "output_type": "execute_result"
    },
    {
     "data": {
      "image/png": "[encoded data removed]",
      "text/plain": [
       "<Figure size 432x288 with 1 Axes>"
      ]
     },
     "metadata": {
      "needs_background": "light"
     },
     "output_type": "display_data"
    }
   ],
   "source": [
    "final_sub['Pred'].hist()"
   ]
  },
  {
   "cell_type": "code",
   "execution_count": null,
   "id": "292f8359",
   "metadata": {
    "papermill": {
     "duration": 0.119808,
     "end_time": "2023-03-16T05:04:31.508988",
     "exception": false,
     "start_time": "2023-03-16T05:04:31.389180",
     "status": "completed"
    },
    "tags": []
   },
   "outputs": [],
   "source": []
  }
 ],
 "metadata": {
  "kernelspec": {
   "display_name": "Python 3",
   "language": "python",
   "name": "python3"
  },
  "language_info": {
   "codemirror_mode": {
    "name": "ipython",
    "version": 3
   },
   "file_extension": ".py",
   "mimetype": "text/x-python",
   "name": "python",
   "nbconvert_exporter": "python",
   "pygments_lexer": "ipython3",
   "version": "3.7.12"
  },
  "papermill": {
   "default_parameters": {},
   "duration": 508.668631,
   "end_time": "2023-03-16T05:04:32.342049",
   "environment_variables": {},
   "exception": null,
   "input_path": "__notebook__.ipynb",
   "output_path": "__notebook__.ipynb",
   "parameters": {},
   "start_time": "2023-03-16T04:56:03.673418",
   "version": "2.3.3"
  }
 },
 "nbformat": 4,
 "nbformat_minor": 5
}
